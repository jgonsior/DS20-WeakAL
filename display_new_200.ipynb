{
 "cells": [
  {
   "cell_type": "code",
   "execution_count": 1,
   "metadata": {},
   "outputs": [
    {
     "name": "stderr",
     "output_type": "stream",
     "text": [
      "/home/julius/.local/share/virtualenvs/active-learning-experiments-ZYX8nT5t/lib/python3.8/site-packages/sklearn/utils/deprecation.py:143: FutureWarning: The sklearn.metrics.scorer module is  deprecated in version 0.22 and will be removed in version 0.24. The corresponding classes / functions should instead be imported from sklearn.metrics. Anything that cannot be imported from sklearn.metrics is now part of the private API.\n",
      "  warnings.warn(message, FutureWarning)\n"
     ]
    }
   ],
   "source": [
    "%load_ext lab_black\n",
    "import argparse\n",
    "import contextlib\n",
    "import datetime\n",
    "import io\n",
    "import logging\n",
    "import multiprocessing\n",
    "import os\n",
    "import random\n",
    "import sys\n",
    "from itertools import chain, combinations\n",
    "from timeit import default_timer as timer\n",
    "\n",
    "import altair as alt\n",
    "import altair_viewer\n",
    "import matplotlib.pyplot as plt\n",
    "import numpy as np\n",
    "import pandas as pd\n",
    "import peewee\n",
    "from evolutionary_search import EvolutionaryAlgorithmSearchCV\n",
    "from json_tricks import dumps, loads\n",
    "from playhouse.shortcuts import model_to_dict\n",
    "from scipy.stats import randint, uniform\n",
    "from sklearn.datasets import load_iris\n",
    "from tabulate import tabulate\n",
    "from IPython.core.display import display, HTML\n",
    "\n",
    "from active_learning.cluster_strategies import (\n",
    "    DummyClusterStrategy,\n",
    "    MostUncertainClusterStrategy,\n",
    "    RandomClusterStrategy,\n",
    "    RoundRobinClusterStrategy,\n",
    ")\n",
    "from active_learning.dataStorage import DataStorage\n",
    "from active_learning.experiment_setup_lib import (\n",
    "    ExperimentResult,\n",
    "    classification_report_and_confusion_matrix,\n",
    "    get_db,\n",
    "    get_single_al_run_stats_row,\n",
    "    get_single_al_run_stats_table_header,\n",
    ")\n",
    "from active_learning.sampling_strategies import (\n",
    "    BoundaryPairSampler,\n",
    "    CommitteeSampler,\n",
    "    RandomSampler,\n",
    "    UncertaintySampler,\n",
    ")\n",
    "\n",
    "alt.renderers.enable(\"altair_viewer\")\n",
    "#  alt.renderers.enable('vegascope')\n",
    "\n",
    "config = {\n",
    "    \"datasets_path\": \"../datasets\",\n",
    "    \"db\": \"tunnel\",\n",
    "    \"param_list_id\": \"best_global_score\",\n",
    "}\n",
    "\n",
    "db = get_db(db_name_or_type=config[\"db\"])"
   ]
  },
  {
   "cell_type": "code",
   "execution_count": 2,
   "metadata": {},
   "outputs": [
    {
     "name": "stdout",
     "output_type": "stream",
     "text": [
      "  56 dwtc\n"
     ]
    }
   ],
   "source": [
    "# select count(*), dataset_name from experimentresult group by dataset_name;\n",
    "results = ExperimentResult.select(\n",
    "    ExperimentResult.dataset_name,\n",
    "    peewee.fn.COUNT(ExperimentResult.id_field).alias(\"dataset_name_count\"),\n",
    ").group_by(ExperimentResult.dataset_name)\n",
    "\n",
    "for result in results:\n",
    "    print(\"{:>4,d} {}\".format(result.dataset_name_count, result.dataset_name))"
   ]
  },
  {
   "cell_type": "code",
   "execution_count": 3,
   "metadata": {},
   "outputs": [],
   "source": [
    "# SELECT id_field, param_list_id, dataset_path, start_set_size as sss, sampling, cluster, allow_recommendations_after_stop as SA, stopping_criteria_uncertainty as SCU, stopping_criteria_std as SCS, stopping_criteria_acc as SCA, amount_of_user_asked_queries as \"#q\", acc_test, fit_score, global_score_norm, thread_id, end_time from experimentresult where param_list_id='31858014d685a3f1ba3e4e32690ddfc3' order by end_time, fit_score desc, param_list_id;\n",
    "loaded_data = {}\n",
    "\n",
    "\n",
    "def pre_fetch_data(top_n=0):\n",
    "    best_param_list_id = table[top_n][\"param_list_id\"]\n",
    "\n",
    "    results = (\n",
    "        ExperimentResult.select()\n",
    "        .where(ExperimentResult.param_list_id == best_param_list_id)\n",
    "        .order_by(ExperimentResult.dataset_name)\n",
    "    )\n",
    "\n",
    "    loaded_data[top_n] = []\n",
    "    for result in results:\n",
    "        loaded_data[top_n].append(result)\n",
    "    print(\"Loaded Top \" + str(top_n) + \" data\")\n",
    "\n",
    "\n",
    "# pre_fetch_data(0)"
   ]
  },
  {
   "cell_type": "code",
   "execution_count": 4,
   "metadata": {},
   "outputs": [
    {
     "data": {
      "text/html": [
       "<table>\n",
       "<thead>\n",
       "<tr><th style=\"text-align: right;\">  id</th><th style=\"text-align: right;\">  avg_acc_test</th><th style=\"text-align: right;\">  avg_fit_score</th><th>stddev_fit_score  </th><th style=\"text-align: right;\">  avg_global_score</th><th>stddev_global_score  </th><th style=\"text-align: right;\">  avg_amount_oracle</th><th>std_amount_oracle  </th><th style=\"text-align: right;\">  count</th><th>param_list_id                   </th></tr>\n",
       "</thead>\n",
       "<tbody>\n",
       "<tr><td style=\"text-align: right;\">   0</td><td style=\"text-align: right;\">      0.801661</td><td style=\"text-align: right;\">        0.85991</td><td>                  </td><td style=\"text-align: right;\">          0.615803</td><td>                     </td><td style=\"text-align: right;\">                210</td><td>                   </td><td style=\"text-align: right;\">      1</td><td>d1cae789088256dbb7e26edd0ada3717</td></tr>\n",
       "</tbody>\n",
       "</table>"
      ],
      "text/plain": [
       "<IPython.core.display.HTML object>"
      ]
     },
     "metadata": {},
     "output_type": "display_data"
    },
    {
     "data": {
      "text/html": [
       "<table>\n",
       "<thead>\n",
       "<tr><th>recommendation  </th><th style=\"text-align: right;\">  iteration</th><th style=\"text-align: right;\">  all_unlabeled_roc_auc_scores</th><th style=\"text-align: right;\">  query_length</th><th style=\"text-align: right;\">  query_strong_accuracy_list</th><th style=\"text-align: right;\">      f1</th><th style=\"text-align: right;\">  test_acc</th><th style=\"text-align: right;\">  fit_score</th><th style=\"text-align: right;\">  acc_diff</th></tr>\n",
       "</thead>\n",
       "<tbody>\n",
       "<tr><td>A               </td><td style=\"text-align: right;\">        231</td><td style=\"text-align: right;\">                     18.9359  </td><td style=\"text-align: right;\">           210</td><td style=\"text-align: right;\">                           0</td><td style=\"text-align: right;\">15.2447 </td><td style=\"text-align: right;\"> 15.4005  </td><td style=\"text-align: right;\">   18.0581 </td><td style=\"text-align: right;\">  0.333679</td></tr>\n",
       "<tr><td>G               </td><td style=\"text-align: right;\">          0</td><td style=\"text-align: right;\">                      0.630812</td><td style=\"text-align: right;\">             4</td><td style=\"text-align: right;\">                           0</td><td style=\"text-align: right;\"> 0.44892</td><td style=\"text-align: right;\">  0.467982</td><td style=\"text-align: right;\">    0.85991</td><td style=\"text-align: right;\">  0       </td></tr>\n",
       "</tbody>\n",
       "</table>"
      ],
      "text/plain": [
       "<IPython.core.display.HTML object>"
      ]
     },
     "metadata": {},
     "output_type": "display_data"
    },
    {
     "data": {
      "text/html": [
       "<table>\n",
       "<thead>\n",
       "<tr><th style=\"text-align: right;\">  id</th><th style=\"text-align: right;\">  avg_acc_test</th><th style=\"text-align: right;\">  avg_fit_score</th><th>stddev_fit_score  </th><th style=\"text-align: right;\">  avg_global_score</th><th>stddev_global_score  </th><th style=\"text-align: right;\">  avg_amount_oracle</th><th>std_amount_oracle  </th><th style=\"text-align: right;\">  count</th><th>param_list_id                   </th></tr>\n",
       "</thead>\n",
       "<tbody>\n",
       "<tr><td style=\"text-align: right;\">   0</td><td style=\"text-align: right;\">      0.806854</td><td style=\"text-align: right;\">       0.862888</td><td>                  </td><td style=\"text-align: right;\">          0.583971</td><td>                     </td><td style=\"text-align: right;\">                210</td><td>                   </td><td style=\"text-align: right;\">      1</td><td>47dada3f4267151b75cb4badfa593d0c</td></tr>\n",
       "</tbody>\n",
       "</table>"
      ],
      "text/plain": [
       "<IPython.core.display.HTML object>"
      ]
     },
     "metadata": {},
     "output_type": "display_data"
    },
    {
     "data": {
      "text/html": [
       "<table>\n",
       "<thead>\n",
       "<tr><th>recommendation  </th><th style=\"text-align: right;\">  iteration</th><th style=\"text-align: right;\">  all_unlabeled_roc_auc_scores</th><th style=\"text-align: right;\">  query_length</th><th style=\"text-align: right;\">  query_strong_accuracy_list</th><th style=\"text-align: right;\">      f1</th><th style=\"text-align: right;\">  test_acc</th><th style=\"text-align: right;\">  fit_score</th><th style=\"text-align: right;\">  acc_diff</th></tr>\n",
       "</thead>\n",
       "<tbody>\n",
       "<tr><td>A               </td><td style=\"text-align: right;\">        231</td><td style=\"text-align: right;\">                     18.5866  </td><td style=\"text-align: right;\">           210</td><td style=\"text-align: right;\">                           0</td><td style=\"text-align: right;\">14.5096 </td><td style=\"text-align: right;\"> 14.883   </td><td style=\"text-align: right;\">  18.1206  </td><td style=\"text-align: right;\">  0.320526</td></tr>\n",
       "<tr><td>G               </td><td style=\"text-align: right;\">          0</td><td style=\"text-align: right;\">                      0.754505</td><td style=\"text-align: right;\">             4</td><td style=\"text-align: right;\">                           0</td><td style=\"text-align: right;\"> 0.49708</td><td style=\"text-align: right;\">  0.486327</td><td style=\"text-align: right;\">   0.862888</td><td style=\"text-align: right;\">  0       </td></tr>\n",
       "</tbody>\n",
       "</table>"
      ],
      "text/plain": [
       "<IPython.core.display.HTML object>"
      ]
     },
     "metadata": {},
     "output_type": "display_data"
    },
    {
     "data": {
      "text/html": [
       "<table>\n",
       "<thead>\n",
       "<tr><th style=\"text-align: right;\">  id</th><th style=\"text-align: right;\">  avg_acc_test</th><th style=\"text-align: right;\">  avg_fit_score</th><th>stddev_fit_score  </th><th style=\"text-align: right;\">  avg_global_score</th><th>stddev_global_score  </th><th style=\"text-align: right;\">  avg_amount_oracle</th><th>std_amount_oracle  </th><th style=\"text-align: right;\">  count</th><th>param_list_id                   </th></tr>\n",
       "</thead>\n",
       "<tbody>\n",
       "<tr><td style=\"text-align: right;\">   0</td><td style=\"text-align: right;\">      0.808584</td><td style=\"text-align: right;\">       0.863876</td><td>                  </td><td style=\"text-align: right;\">          0.624376</td><td>                     </td><td style=\"text-align: right;\">                210</td><td>                   </td><td style=\"text-align: right;\">      1</td><td>c05ad3a7c9e554bc547fecb2ad115542</td></tr>\n",
       "</tbody>\n",
       "</table>"
      ],
      "text/plain": [
       "<IPython.core.display.HTML object>"
      ]
     },
     "metadata": {},
     "output_type": "display_data"
    },
    {
     "data": {
      "text/html": [
       "<table>\n",
       "<thead>\n",
       "<tr><th>recommendation  </th><th style=\"text-align: right;\">  iteration</th><th style=\"text-align: right;\">  all_unlabeled_roc_auc_scores</th><th style=\"text-align: right;\">  query_length</th><th style=\"text-align: right;\">  query_strong_accuracy_list</th><th style=\"text-align: right;\">       f1</th><th style=\"text-align: right;\">  test_acc</th><th style=\"text-align: right;\">  fit_score</th><th style=\"text-align: right;\">  acc_diff</th></tr>\n",
       "</thead>\n",
       "<tbody>\n",
       "<tr><td>A               </td><td style=\"text-align: right;\">        408</td><td style=\"text-align: right;\">                     18.8112  </td><td style=\"text-align: right;\">           210</td><td style=\"text-align: right;\">                           0</td><td style=\"text-align: right;\">15.3839  </td><td style=\"text-align: right;\"> 15.5151  </td><td style=\"text-align: right;\">  18.1414  </td><td style=\"text-align: right;\">  0.327103</td></tr>\n",
       "<tr><td>G               </td><td style=\"text-align: right;\">          0</td><td style=\"text-align: right;\">                      0.713996</td><td style=\"text-align: right;\">             4</td><td style=\"text-align: right;\">                           0</td><td style=\"text-align: right;\"> 0.501203</td><td style=\"text-align: right;\">  0.520942</td><td style=\"text-align: right;\">   0.863876</td><td style=\"text-align: right;\">  0       </td></tr>\n",
       "<tr><td>U               </td><td style=\"text-align: right;\">        970</td><td style=\"text-align: right;\">                     28.4741  </td><td style=\"text-align: right;\">           247</td><td style=\"text-align: right;\">                          31</td><td style=\"text-align: right;\">24.2074  </td><td style=\"text-align: right;\"> 24.2897  </td><td style=\"text-align: right;\">  26.7802  </td><td style=\"text-align: right;\"> -0.03946 </td></tr>\n",
       "</tbody>\n",
       "</table>"
      ],
      "text/plain": [
       "<IPython.core.display.HTML object>"
      ]
     },
     "metadata": {},
     "output_type": "display_data"
    },
    {
     "data": {
      "text/html": [
       "<table>\n",
       "<thead>\n",
       "<tr><th style=\"text-align: right;\">  id</th><th style=\"text-align: right;\">  avg_acc_test</th><th style=\"text-align: right;\">  avg_fit_score</th><th>stddev_fit_score  </th><th style=\"text-align: right;\">  avg_global_score</th><th>stddev_global_score  </th><th style=\"text-align: right;\">  avg_amount_oracle</th><th>std_amount_oracle  </th><th style=\"text-align: right;\">  count</th><th>param_list_id                   </th></tr>\n",
       "</thead>\n",
       "<tbody>\n",
       "<tr><td style=\"text-align: right;\">   0</td><td style=\"text-align: right;\">      0.792316</td><td style=\"text-align: right;\">       0.854504</td><td>                  </td><td style=\"text-align: right;\">           0.58973</td><td>                     </td><td style=\"text-align: right;\">                210</td><td>                   </td><td style=\"text-align: right;\">      1</td><td>c2c0090ad2fc0ae613e0dd7160c08c10</td></tr>\n",
       "</tbody>\n",
       "</table>"
      ],
      "text/plain": [
       "<IPython.core.display.HTML object>"
      ]
     },
     "metadata": {},
     "output_type": "display_data"
    },
    {
     "data": {
      "text/html": [
       "<table>\n",
       "<thead>\n",
       "<tr><th>recommendation  </th><th style=\"text-align: right;\">  iteration</th><th style=\"text-align: right;\">  all_unlabeled_roc_auc_scores</th><th style=\"text-align: right;\">  query_length</th><th style=\"text-align: right;\">  query_strong_accuracy_list</th><th style=\"text-align: right;\">       f1</th><th style=\"text-align: right;\">  test_acc</th><th style=\"text-align: right;\">  fit_score</th><th style=\"text-align: right;\">  acc_diff</th></tr>\n",
       "</thead>\n",
       "<tbody>\n",
       "<tr><td>A               </td><td style=\"text-align: right;\">        231</td><td style=\"text-align: right;\">                     18.583   </td><td style=\"text-align: right;\">           210</td><td style=\"text-align: right;\">                           0</td><td style=\"text-align: right;\">14.8466  </td><td style=\"text-align: right;\"> 14.9823  </td><td style=\"text-align: right;\">  17.9446  </td><td style=\"text-align: right;\">  0.334372</td></tr>\n",
       "<tr><td>G               </td><td style=\"text-align: right;\">          0</td><td style=\"text-align: right;\">                      0.725939</td><td style=\"text-align: right;\">             4</td><td style=\"text-align: right;\">                           0</td><td style=\"text-align: right;\"> 0.449467</td><td style=\"text-align: right;\">  0.457944</td><td style=\"text-align: right;\">   0.854504</td><td style=\"text-align: right;\">  0       </td></tr>\n",
       "</tbody>\n",
       "</table>"
      ],
      "text/plain": [
       "<IPython.core.display.HTML object>"
      ]
     },
     "metadata": {},
     "output_type": "display_data"
    }
   ],
   "source": [
    "def better_results_top(top_n, budget, weak_clust, weak_cert):\n",
    "    # select best result for budget of 1500 without WS\n",
    "    results = (\n",
    "        ExperimentResult.select(\n",
    "            ExperimentResult.param_list_id,\n",
    "            peewee.fn.AVG(ExperimentResult.acc_test).alias(\"avg_acc_test\"),\n",
    "            peewee.fn.AVG(ExperimentResult.fit_score).alias(\"avg_fit_score\"),\n",
    "            peewee.fn.STDDEV(ExperimentResult.fit_score).alias(\"stddev_fit_score\"),\n",
    "            peewee.fn.AVG(ExperimentResult.global_score_no_weak_acc).alias(\n",
    "                \"avg_global_score\"\n",
    "            ),\n",
    "            peewee.fn.STDDEV(ExperimentResult.global_score_no_weak_acc).alias(\n",
    "                \"stddev_global_score\"\n",
    "            ),\n",
    "            peewee.fn.AVG(ExperimentResult.amount_of_user_asked_queries).alias(\n",
    "                \"avg_amount_oracle\"\n",
    "            ),\n",
    "            peewee.fn.STDDEV(ExperimentResult.amount_of_user_asked_queries).alias(\n",
    "                \"std_amount_oracle\"\n",
    "            ),\n",
    "            peewee.fn.COUNT(ExperimentResult.param_list_id).alias(\"count\"),\n",
    "        )\n",
    "        .where(\n",
    "            (ExperimentResult.amount_of_user_asked_queries < budget)\n",
    "            & (ExperimentResult.dataset_name == \"dwtc\")\n",
    "            # & (ExperimentResult.experiment_run_date > (datetime(2020, 3, 24, 14, 0)))\n",
    "            # & (ExperimentResult.experiment_run_date > (datetime(2020, 5, 8, 9, 20)))\n",
    "            & (ExperimentResult.with_cluster_recommendation == weak_clust)\n",
    "            & (ExperimentResult.with_uncertainty_recommendation == weak_cert)\n",
    "            # & (peewee.fn.COUNT(ExperimentResult.id_field) == 3)\n",
    "            # no stopping criterias\n",
    "        )\n",
    "        .group_by(ExperimentResult.param_list_id)\n",
    "        .order_by(\n",
    "            peewee.fn.COUNT(ExperimentResult.id_field).desc(),\n",
    "            peewee.fn.AVG(ExperimentResult.acc_test).desc(),\n",
    "        )\n",
    "        .limit(1)\n",
    "        .offset(top_n)\n",
    "    )\n",
    "\n",
    "    table = []\n",
    "    id = 0\n",
    "    for result in results:\n",
    "        data = {**{\"id\": id}, **vars(result)}\n",
    "        data[\"param_list_id\"] = data[\"__data__\"][\"param_list_id\"]\n",
    "        del data[\"__data__\"]\n",
    "        del data[\"_dirty\"]\n",
    "        del data[\"__rel__\"]\n",
    "        table.append(data)\n",
    "        id += 1\n",
    "\n",
    "    display(HTML(tabulate(table, headers=\"keys\", tablefmt=\"html\")))\n",
    "\n",
    "    best_param_list_id = table[0][\"param_list_id\"]\n",
    "\n",
    "    results = (\n",
    "        ExperimentResult.select()\n",
    "        .where(ExperimentResult.param_list_id == best_param_list_id)\n",
    "        .order_by(ExperimentResult.dataset_name)\n",
    "    )\n",
    "\n",
    "    loaded_data[0] = []\n",
    "    for result in results:\n",
    "        loaded_data[0].append(result)\n",
    "\n",
    "    for result in loaded_data[0][:]:\n",
    "        metrics = loads(result.metrics_per_al_cycle)\n",
    "        test_data_metrics = [\n",
    "            metrics[\"test_data_metrics\"][0][f][0][\"weighted avg\"]\n",
    "            for f in range(0, len(metrics[\"test_data_metrics\"][0]))\n",
    "        ]\n",
    "        test_acc = [\n",
    "            metrics[\"test_data_metrics\"][0][f][0][\"accuracy\"]\n",
    "            for f in range(0, len(metrics[\"test_data_metrics\"][0]))\n",
    "        ]\n",
    "\n",
    "        data = pd.DataFrame(\n",
    "            {\n",
    "                \"iteration\": range(0, len(metrics[\"all_unlabeled_roc_auc_scores\"])),\n",
    "                \"all_unlabeled_roc_auc_scores\": metrics[\"all_unlabeled_roc_auc_scores\"],\n",
    "                \"query_length\": metrics[\"query_length\"],\n",
    "                \"recommendation\": metrics[\"recommendation\"],\n",
    "                \"query_strong_accuracy_list\": metrics[\"query_strong_accuracy_list\"],\n",
    "                \"f1\": [i[\"f1-score\"] for i in test_data_metrics],\n",
    "                \"test_acc\": test_acc,\n",
    "                \"fit_score\": result.fit_score,\n",
    "                #'asked_queries': [sum(metrics['query_length'][:i]) for i in range(0, len(metrics['query_length']))],\n",
    "            }\n",
    "        )\n",
    "        data[\"acc_diff\"] = data[\"test_acc\"] - data[\"test_acc\"].shift(1)\n",
    "    display(\n",
    "        HTML(\n",
    "            tabulate(\n",
    "                data.groupby([\"recommendation\"]).sum(), headers=\"keys\", tablefmt=\"html\"\n",
    "            )\n",
    "        )\n",
    "    )\n",
    "\n",
    "\n",
    "better_results_top(0, 211, False, False)\n",
    "better_results_top(0, 211, True, False)\n",
    "better_results_top(0, 211, False, True)\n",
    "for i in range(1, 2):\n",
    "    better_results_top(i, 211, True, True)"
   ]
  },
  {
   "cell_type": "code",
   "execution_count": 22,
   "metadata": {},
   "outputs": [
    {
     "data": {
      "text/html": [
       "<table>\n",
       "<thead>\n",
       "<tr><th style=\"text-align: right;\">  id</th><th>param_list_id                   </th><th style=\"text-align: right;\">  acc_test_oracle</th><th style=\"text-align: right;\">  acc_test</th><th style=\"text-align: right;\">  fit_score</th><th style=\"text-align: right;\">  fit_time</th><th style=\"text-align: right;\">  amount_of_all_labels</th><th style=\"text-align: right;\">  amount_of_user_asked_queries</th><th>sampling              </th><th>cluster                 </th><th>with_uncertainty_recommendation  </th><th>with_cluster_recommendation  </th><th style=\"text-align: right;\">  uncertainty_recommendation_certainty_threshold</th><th style=\"text-align: right;\">  uncertainty_recommendation_ratio</th><th style=\"text-align: right;\">  cluster_recommendation_minimum_cluster_unity_size</th><th style=\"text-align: right;\">  cluster_recommendation_ratio_labeled_unlabeled</th><th>allow_recommendations_after_stop  </th><th>experiment_run_date       </th></tr>\n",
       "</thead>\n",
       "<tbody>\n",
       "<tr><td style=\"text-align: right;\">   0</td><td>53532c1d1a70bcf9496663f9ae18365a</td><td style=\"text-align: right;\">         0.802008</td><td style=\"text-align: right;\">  0.809969</td><td style=\"text-align: right;\">   0.864666</td><td style=\"text-align: right;\">   43.0757</td><td style=\"text-align: right;\">                   214</td><td style=\"text-align: right;\">                           210</td><td>uncertainty_max_margin</td><td>dummy                   </td><td>True                             </td><td>False                        </td><td style=\"text-align: right;\">                                            0.92</td><td style=\"text-align: right;\">                            0.01  </td><td style=\"text-align: right;\">                                               0.79</td><td style=\"text-align: right;\">                                            0.81</td><td>True                              </td><td>2020-05-27 19:44:45.771448</td></tr>\n",
       "<tr><td style=\"text-align: right;\">   1</td><td>c05ad3a7c9e554bc547fecb2ad115542</td><td style=\"text-align: right;\">         0.824161</td><td style=\"text-align: right;\">  0.808584</td><td style=\"text-align: right;\">   0.863876</td><td style=\"text-align: right;\">  137.119 </td><td style=\"text-align: right;\">                   461</td><td style=\"text-align: right;\">                           210</td><td>uncertainty_max_margin</td><td>dummy                   </td><td>True                             </td><td>False                        </td><td style=\"text-align: right;\">                                            0.86</td><td style=\"text-align: right;\">                            0.0001</td><td style=\"text-align: right;\">                                               0.76</td><td style=\"text-align: right;\">                                            0.57</td><td>True                              </td><td>2020-05-27 19:33:02.785327</td></tr>\n",
       "<tr><td style=\"text-align: right;\">   2</td><td>031c64ec57dba32c6075d0273620c764</td><td style=\"text-align: right;\">         0.797508</td><td style=\"text-align: right;\">  0.807892</td><td style=\"text-align: right;\">   0.863481</td><td style=\"text-align: right;\">   22.2081</td><td style=\"text-align: right;\">                   214</td><td style=\"text-align: right;\">                           210</td><td>uncertainty_max_margin</td><td>dummy                   </td><td>True                             </td><td>False                        </td><td style=\"text-align: right;\">                                            0.98</td><td style=\"text-align: right;\">                            0.0001</td><td style=\"text-align: right;\">                                               0.93</td><td style=\"text-align: right;\">                                            0.74</td><td>True                              </td><td>2020-05-27 19:25:11.489584</td></tr>\n",
       "<tr><td style=\"text-align: right;\">   3</td><td>38923187d2daa75ed438ad3f57cbcacd</td><td style=\"text-align: right;\">         0.819315</td><td style=\"text-align: right;\">  0.8072  </td><td style=\"text-align: right;\">   0.863086</td><td style=\"text-align: right;\">   40.6649</td><td style=\"text-align: right;\">                   214</td><td style=\"text-align: right;\">                           210</td><td>uncertainty_max_margin</td><td>dummy                   </td><td>False                            </td><td>False                        </td><td style=\"text-align: right;\">                                            0.85</td><td style=\"text-align: right;\">                            0.0001</td><td style=\"text-align: right;\">                                               0.56</td><td style=\"text-align: right;\">                                            0.95</td><td>True                              </td><td>2020-05-27 20:17:38.070149</td></tr>\n",
       "<tr><td style=\"text-align: right;\">   4</td><td>47dada3f4267151b75cb4badfa593d0c</td><td style=\"text-align: right;\">         0.817584</td><td style=\"text-align: right;\">  0.806854</td><td style=\"text-align: right;\">   0.862888</td><td style=\"text-align: right;\">   22.0207</td><td style=\"text-align: right;\">                   214</td><td style=\"text-align: right;\">                           210</td><td>uncertainty_max_margin</td><td>dummy                   </td><td>False                            </td><td>True                         </td><td style=\"text-align: right;\">                                            1   </td><td style=\"text-align: right;\">                            0.001 </td><td style=\"text-align: right;\">                                               0.88</td><td style=\"text-align: right;\">                                            0.52</td><td>True                              </td><td>2020-05-27 19:25:11.419208</td></tr>\n",
       "<tr><td style=\"text-align: right;\">   5</td><td>cefdf267c2f74643ce4ad63c7e0a6603</td><td style=\"text-align: right;\">         0.806854</td><td style=\"text-align: right;\">  0.805123</td><td style=\"text-align: right;\">   0.861897</td><td style=\"text-align: right;\">   43.22  </td><td style=\"text-align: right;\">                   214</td><td style=\"text-align: right;\">                           210</td><td>uncertainty_max_margin</td><td>dummy                   </td><td>False                            </td><td>False                        </td><td style=\"text-align: right;\">                                            0.92</td><td style=\"text-align: right;\">                            1e-05 </td><td style=\"text-align: right;\">                                               0.94</td><td style=\"text-align: right;\">                                            0.95</td><td>True                              </td><td>2020-05-27 20:16:11.438671</td></tr>\n",
       "<tr><td style=\"text-align: right;\">   6</td><td>f346618e7f3e5e5625b074bf438b8851</td><td style=\"text-align: right;\">         0.8072  </td><td style=\"text-align: right;\">  0.803738</td><td style=\"text-align: right;\">   0.861103</td><td style=\"text-align: right;\">   27.0071</td><td style=\"text-align: right;\">                   223</td><td style=\"text-align: right;\">                           210</td><td>uncertainty_max_margin</td><td>dummy                   </td><td>False                            </td><td>True                         </td><td style=\"text-align: right;\">                                            0.9 </td><td style=\"text-align: right;\">                            0.01  </td><td style=\"text-align: right;\">                                               0.85</td><td style=\"text-align: right;\">                                            0.61</td><td>True                              </td><td>2020-05-27 19:25:39.983269</td></tr>\n",
       "<tr><td style=\"text-align: right;\">   7</td><td>c9c31b034649bfe59278325721b4bb87</td><td style=\"text-align: right;\">         0.809277</td><td style=\"text-align: right;\">  0.803738</td><td style=\"text-align: right;\">   0.861103</td><td style=\"text-align: right;\">   48.3172</td><td style=\"text-align: right;\">                   220</td><td style=\"text-align: right;\">                           210</td><td>uncertainty_max_margin</td><td>dummy                   </td><td>False                            </td><td>True                         </td><td style=\"text-align: right;\">                                            0.89</td><td style=\"text-align: right;\">                            1e-05 </td><td style=\"text-align: right;\">                                               0.52</td><td style=\"text-align: right;\">                                            0.79</td><td>True                              </td><td>2020-05-27 20:17:04.714805</td></tr>\n",
       "<tr><td style=\"text-align: right;\">   8</td><td>e3db57eec4eef400b9e07ad8cd87046e</td><td style=\"text-align: right;\">         0.788854</td><td style=\"text-align: right;\">  0.802354</td><td style=\"text-align: right;\">   0.860308</td><td style=\"text-align: right;\">   47.9345</td><td style=\"text-align: right;\">                   444</td><td style=\"text-align: right;\">                           210</td><td>uncertainty_max_margin</td><td>dummy                   </td><td>True                             </td><td>False                        </td><td style=\"text-align: right;\">                                            0.92</td><td style=\"text-align: right;\">                            1e-06 </td><td style=\"text-align: right;\">                                               0.51</td><td style=\"text-align: right;\">                                            0.97</td><td>True                              </td><td>2020-05-27 19:25:37.269651</td></tr>\n",
       "<tr><td style=\"text-align: right;\">   9</td><td>5d80617c389a45cf74c773cc5ec274d2</td><td style=\"text-align: right;\">         0.81343 </td><td style=\"text-align: right;\">  0.802008</td><td style=\"text-align: right;\">   0.860109</td><td style=\"text-align: right;\">   50.167 </td><td style=\"text-align: right;\">                   214</td><td style=\"text-align: right;\">                           210</td><td>uncertainty_max_margin</td><td>dummy                   </td><td>True                             </td><td>False                        </td><td style=\"text-align: right;\">                                            0.91</td><td style=\"text-align: right;\">                            1e-05 </td><td style=\"text-align: right;\">                                               0.94</td><td style=\"text-align: right;\">                                            0.65</td><td>True                              </td><td>2020-05-27 19:31:35.979137</td></tr>\n",
       "<tr><td style=\"text-align: right;\">  10</td><td>d1cae789088256dbb7e26edd0ada3717</td><td style=\"text-align: right;\">         0.812046</td><td style=\"text-align: right;\">  0.801661</td><td style=\"text-align: right;\">   0.85991 </td><td style=\"text-align: right;\">   41.8256</td><td style=\"text-align: right;\">                   214</td><td style=\"text-align: right;\">                           210</td><td>uncertainty_max_margin</td><td>dummy                   </td><td>False                            </td><td>False                        </td><td style=\"text-align: right;\">                                            0.97</td><td style=\"text-align: right;\">                            0.01  </td><td style=\"text-align: right;\">                                               0.92</td><td style=\"text-align: right;\">                                            0.76</td><td>True                              </td><td>2020-05-27 19:36:54.098661</td></tr>\n",
       "<tr><td style=\"text-align: right;\">  11</td><td>b54c42fd7fcd609e2f9e3a30755e949d</td><td style=\"text-align: right;\">         0.807892</td><td style=\"text-align: right;\">  0.799585</td><td style=\"text-align: right;\">   0.858713</td><td style=\"text-align: right;\">   20.5637</td><td style=\"text-align: right;\">                   214</td><td style=\"text-align: right;\">                           210</td><td>uncertainty_max_margin</td><td>dummy                   </td><td>True                             </td><td>True                         </td><td style=\"text-align: right;\">                                            0.99</td><td style=\"text-align: right;\">                            0.0001</td><td style=\"text-align: right;\">                                               0.52</td><td style=\"text-align: right;\">                                            0.68</td><td>True                              </td><td>2020-05-27 19:25:38.496822</td></tr>\n",
       "<tr><td style=\"text-align: right;\">  12</td><td>acaeac837055155741ce06e8348f08e8</td><td style=\"text-align: right;\">         0.788162</td><td style=\"text-align: right;\">  0.799585</td><td style=\"text-align: right;\">   0.858713</td><td style=\"text-align: right;\">   22.0713</td><td style=\"text-align: right;\">                   214</td><td style=\"text-align: right;\">                           210</td><td>uncertainty_max_margin</td><td>dummy                   </td><td>False                            </td><td>False                        </td><td style=\"text-align: right;\">                                            0.96</td><td style=\"text-align: right;\">                            1e-06 </td><td style=\"text-align: right;\">                                               0.64</td><td style=\"text-align: right;\">                                            0.69</td><td>True                              </td><td>2020-05-27 19:25:11.160186</td></tr>\n",
       "<tr><td style=\"text-align: right;\">  13</td><td>2d1309e0e3af7e4597b4aab7dc088d0f</td><td style=\"text-align: right;\">         0.807546</td><td style=\"text-align: right;\">  0.798892</td><td style=\"text-align: right;\">   0.858314</td><td style=\"text-align: right;\">   27.1743</td><td style=\"text-align: right;\">                   220</td><td style=\"text-align: right;\">                           210</td><td>uncertainty_max_margin</td><td>dummy                   </td><td>True                             </td><td>False                        </td><td style=\"text-align: right;\">                                            0.96</td><td style=\"text-align: right;\">                            1e-05 </td><td style=\"text-align: right;\">                                               1   </td><td style=\"text-align: right;\">                                            0.6 </td><td>True                              </td><td>2020-05-27 19:25:16.369954</td></tr>\n",
       "<tr><td style=\"text-align: right;\">  14</td><td>02d6d44743b0b7be35192a38a1592c6c</td><td style=\"text-align: right;\">         0.796469</td><td style=\"text-align: right;\">  0.798546</td><td style=\"text-align: right;\">   0.858114</td><td style=\"text-align: right;\">   44.7976</td><td style=\"text-align: right;\">                   214</td><td style=\"text-align: right;\">                           210</td><td>uncertainty_max_margin</td><td>dummy                   </td><td>True                             </td><td>False                        </td><td style=\"text-align: right;\">                                            0.87</td><td style=\"text-align: right;\">                            0.001 </td><td style=\"text-align: right;\">                                               0.96</td><td style=\"text-align: right;\">                                            0.74</td><td>True                              </td><td>2020-05-27 19:33:12.744895</td></tr>\n",
       "<tr><td style=\"text-align: right;\">  15</td><td>6521d6b8f55e5ae05490c229010928f9</td><td style=\"text-align: right;\">         0.797508</td><td style=\"text-align: right;\">  0.797854</td><td style=\"text-align: right;\">   0.857714</td><td style=\"text-align: right;\">   49.2564</td><td style=\"text-align: right;\">                   214</td><td style=\"text-align: right;\">                           210</td><td>uncertainty_max_margin</td><td>dummy                   </td><td>False                            </td><td>True                         </td><td style=\"text-align: right;\">                                            0.97</td><td style=\"text-align: right;\">                            0.01  </td><td style=\"text-align: right;\">                                               1   </td><td style=\"text-align: right;\">                                            0.68</td><td>True                              </td><td>2020-05-27 19:31:34.833428</td></tr>\n",
       "<tr><td style=\"text-align: right;\">  16</td><td>b2c58b93579cf5e88f904894358e6818</td><td style=\"text-align: right;\">         0.804777</td><td style=\"text-align: right;\">  0.796123</td><td style=\"text-align: right;\">   0.856713</td><td style=\"text-align: right;\">   42.6477</td><td style=\"text-align: right;\">                   215</td><td style=\"text-align: right;\">                           210</td><td>uncertainty_max_margin</td><td>dummy                   </td><td>False                            </td><td>True                         </td><td style=\"text-align: right;\">                                            0.92</td><td style=\"text-align: right;\">                            0.01  </td><td style=\"text-align: right;\">                                               0.85</td><td style=\"text-align: right;\">                                            0.66</td><td>True                              </td><td>2020-05-27 19:35:31.228483</td></tr>\n",
       "<tr><td style=\"text-align: right;\">  17</td><td>8736d23b8746f70cb2d1373f9d954ab4</td><td style=\"text-align: right;\">         0.779508</td><td style=\"text-align: right;\">  0.795777</td><td style=\"text-align: right;\">   0.856513</td><td style=\"text-align: right;\">   48.8163</td><td style=\"text-align: right;\">                   221</td><td style=\"text-align: right;\">                           210</td><td>uncertainty_max_margin</td><td>dummy                   </td><td>False                            </td><td>True                         </td><td style=\"text-align: right;\">                                            0.89</td><td style=\"text-align: right;\">                            0.001 </td><td style=\"text-align: right;\">                                               0.81</td><td style=\"text-align: right;\">                                            0.65</td><td>True                              </td><td>2020-05-27 20:13:54.574556</td></tr>\n",
       "<tr><td style=\"text-align: right;\">  18</td><td>be65f93d8ea179b94a76213accba6400</td><td style=\"text-align: right;\">         0.802008</td><td style=\"text-align: right;\">  0.795085</td><td style=\"text-align: right;\">   0.856112</td><td style=\"text-align: right;\">   51.6098</td><td style=\"text-align: right;\">                   224</td><td style=\"text-align: right;\">                           210</td><td>uncertainty_max_margin</td><td>dummy                   </td><td>False                            </td><td>True                         </td><td style=\"text-align: right;\">                                            0.99</td><td style=\"text-align: right;\">                            1e-05 </td><td style=\"text-align: right;\">                                               0.61</td><td style=\"text-align: right;\">                                            0.65</td><td>True                              </td><td>2020-05-27 19:44:29.255112</td></tr>\n",
       "<tr><td style=\"text-align: right;\">  19</td><td>c778e977229e5e4c53c0d45e20a19070</td><td style=\"text-align: right;\">         0.791623</td><td style=\"text-align: right;\">  0.794739</td><td style=\"text-align: right;\">   0.855911</td><td style=\"text-align: right;\">   43.8376</td><td style=\"text-align: right;\">                   214</td><td style=\"text-align: right;\">                           210</td><td>uncertainty_max_margin</td><td>dummy                   </td><td>False                            </td><td>False                        </td><td style=\"text-align: right;\">                                            0.97</td><td style=\"text-align: right;\">                            0.0001</td><td style=\"text-align: right;\">                                               0.87</td><td style=\"text-align: right;\">                                            0.59</td><td>True                              </td><td>2020-05-27 19:34:46.379914</td></tr>\n",
       "<tr><td style=\"text-align: right;\">  20</td><td>2174107c77425a69cb55af1404e6f7db</td><td style=\"text-align: right;\">         0.800277</td><td style=\"text-align: right;\">  0.794739</td><td style=\"text-align: right;\">   0.855911</td><td style=\"text-align: right;\">   50.6056</td><td style=\"text-align: right;\">                   214</td><td style=\"text-align: right;\">                           210</td><td>uncertainty_max_margin</td><td>dummy                   </td><td>True                             </td><td>False                        </td><td style=\"text-align: right;\">                                            0.97</td><td style=\"text-align: right;\">                            1e-06 </td><td style=\"text-align: right;\">                                               0.9 </td><td style=\"text-align: right;\">                                            0.89</td><td>True                              </td><td>2020-05-27 19:29:49.723843</td></tr>\n",
       "<tr><td style=\"text-align: right;\">  21</td><td>437196686168bab8ffa8f03fa2da9a40</td><td style=\"text-align: right;\">         0.799239</td><td style=\"text-align: right;\">  0.794393</td><td style=\"text-align: right;\">   0.85571 </td><td style=\"text-align: right;\">   44.5843</td><td style=\"text-align: right;\">                   214</td><td style=\"text-align: right;\">                           210</td><td>uncertainty_max_margin</td><td>dummy                   </td><td>False                            </td><td>False                        </td><td style=\"text-align: right;\">                                            0.89</td><td style=\"text-align: right;\">                            0.01  </td><td style=\"text-align: right;\">                                               0.92</td><td style=\"text-align: right;\">                                            0.79</td><td>True                              </td><td>2020-05-27 19:34:00.359745</td></tr>\n",
       "<tr><td style=\"text-align: right;\">  22</td><td>24062fc672f3907a2aa78e60b8e79771</td><td style=\"text-align: right;\">         0.786085</td><td style=\"text-align: right;\">  0.794046</td><td style=\"text-align: right;\">   0.855509</td><td style=\"text-align: right;\">   47.499 </td><td style=\"text-align: right;\">                   214</td><td style=\"text-align: right;\">                           210</td><td>uncertainty_max_margin</td><td>dummy                   </td><td>False                            </td><td>True                         </td><td style=\"text-align: right;\">                                            0.87</td><td style=\"text-align: right;\">                            0.0001</td><td style=\"text-align: right;\">                                               0.83</td><td style=\"text-align: right;\">                                            0.99</td><td>True                              </td><td>2020-05-27 19:32:25.008713</td></tr>\n",
       "<tr><td style=\"text-align: right;\">  23</td><td>c0547306407a2480ad3b069f144ba75d</td><td style=\"text-align: right;\">         0.8027  </td><td style=\"text-align: right;\">  0.7937  </td><td style=\"text-align: right;\">   0.855308</td><td style=\"text-align: right;\">   50.2646</td><td style=\"text-align: right;\">                   214</td><td style=\"text-align: right;\">                           210</td><td>uncertainty_max_margin</td><td>dummy                   </td><td>False                            </td><td>True                         </td><td style=\"text-align: right;\">                                            0.98</td><td style=\"text-align: right;\">                            0.0001</td><td style=\"text-align: right;\">                                               0.95</td><td style=\"text-align: right;\">                                            0.81</td><td>True                              </td><td>2020-05-27 19:29:49.740720</td></tr>\n",
       "<tr><td style=\"text-align: right;\">  24</td><td>6b02da72d35188fda53a47ff074addaf</td><td style=\"text-align: right;\">         0.801661</td><td style=\"text-align: right;\">  0.793008</td><td style=\"text-align: right;\">   0.854906</td><td style=\"text-align: right;\">   49.9521</td><td style=\"text-align: right;\">                   214</td><td style=\"text-align: right;\">                           210</td><td>uncertainty_max_margin</td><td>dummy                   </td><td>False                            </td><td>False                        </td><td style=\"text-align: right;\">                                            0.98</td><td style=\"text-align: right;\">                            0.001 </td><td style=\"text-align: right;\">                                               0.79</td><td style=\"text-align: right;\">                                            0.61</td><td>True                              </td><td>2020-05-27 19:31:35.751304</td></tr>\n",
       "<tr><td style=\"text-align: right;\">  25</td><td>7bdbf2ef74cd8f4805aa799759955859</td><td style=\"text-align: right;\">         0.803392</td><td style=\"text-align: right;\">  0.793008</td><td style=\"text-align: right;\">   0.854906</td><td style=\"text-align: right;\">   43.1701</td><td style=\"text-align: right;\">                   214</td><td style=\"text-align: right;\">                           210</td><td>uncertainty_max_margin</td><td>dummy                   </td><td>True                             </td><td>True                         </td><td style=\"text-align: right;\">                                            0.96</td><td style=\"text-align: right;\">                            1e-05 </td><td style=\"text-align: right;\">                                               0.97</td><td style=\"text-align: right;\">                                            1   </td><td>True                              </td><td>2020-05-27 19:46:19.108911</td></tr>\n",
       "<tr><td style=\"text-align: right;\">  26</td><td>c2c0090ad2fc0ae613e0dd7160c08c10</td><td style=\"text-align: right;\">         0.771201</td><td style=\"text-align: right;\">  0.792316</td><td style=\"text-align: right;\">   0.854504</td><td style=\"text-align: right;\">   49.405 </td><td style=\"text-align: right;\">                   214</td><td style=\"text-align: right;\">                           210</td><td>uncertainty_max_margin</td><td>dummy                   </td><td>True                             </td><td>True                         </td><td style=\"text-align: right;\">                                            0.9 </td><td style=\"text-align: right;\">                            1e-06 </td><td style=\"text-align: right;\">                                               0.69</td><td style=\"text-align: right;\">                                            0.77</td><td>True                              </td><td>2020-05-27 19:31:35.182843</td></tr>\n",
       "<tr><td style=\"text-align: right;\">  27</td><td>4253bcaca2f2733e5fdac02902c2eb0e</td><td style=\"text-align: right;\">         0.794046</td><td style=\"text-align: right;\">  0.79197 </td><td style=\"text-align: right;\">   0.854302</td><td style=\"text-align: right;\">   49.6959</td><td style=\"text-align: right;\">                   214</td><td style=\"text-align: right;\">                           210</td><td>uncertainty_max_margin</td><td>dummy                   </td><td>False                            </td><td>False                        </td><td style=\"text-align: right;\">                                            0.96</td><td style=\"text-align: right;\">                            1e-05 </td><td style=\"text-align: right;\">                                               0.57</td><td style=\"text-align: right;\">                                            0.82</td><td>True                              </td><td>2020-05-27 19:31:35.368107</td></tr>\n",
       "<tr><td style=\"text-align: right;\">  28</td><td>5550a3fbfc359e6e29ba1386edc28065</td><td style=\"text-align: right;\">         0.788854</td><td style=\"text-align: right;\">  0.791623</td><td style=\"text-align: right;\">   0.854101</td><td style=\"text-align: right;\">   20.7978</td><td style=\"text-align: right;\">                   214</td><td style=\"text-align: right;\">                           210</td><td>uncertainty_max_margin</td><td>dummy                   </td><td>True                             </td><td>False                        </td><td style=\"text-align: right;\">                                            0.86</td><td style=\"text-align: right;\">                            1e-06 </td><td style=\"text-align: right;\">                                               0.99</td><td style=\"text-align: right;\">                                            0.74</td><td>True                              </td><td>2020-05-27 19:25:33.941156</td></tr>\n",
       "<tr><td style=\"text-align: right;\">  29</td><td>5376b3a826ee8b938cb842700cc22a49</td><td style=\"text-align: right;\">         0.795085</td><td style=\"text-align: right;\">  0.791277</td><td style=\"text-align: right;\">   0.853899</td><td style=\"text-align: right;\">   19.9878</td><td style=\"text-align: right;\">                   215</td><td style=\"text-align: right;\">                           210</td><td>uncertainty_max_margin</td><td>dummy                   </td><td>True                             </td><td>True                         </td><td style=\"text-align: right;\">                                            0.99</td><td style=\"text-align: right;\">                            0.0001</td><td style=\"text-align: right;\">                                               0.98</td><td style=\"text-align: right;\">                                            0.68</td><td>True                              </td><td>2020-05-27 19:25:59.996508</td></tr>\n",
       "<tr><td style=\"text-align: right;\">  30</td><td>14c610c5660ec6c85dcce9097a40f835</td><td style=\"text-align: right;\">         0.785739</td><td style=\"text-align: right;\">  0.791277</td><td style=\"text-align: right;\">   0.853899</td><td style=\"text-align: right;\">   41.8029</td><td style=\"text-align: right;\">                   214</td><td style=\"text-align: right;\">                           210</td><td>uncertainty_max_margin</td><td>dummy                   </td><td>False                            </td><td>False                        </td><td style=\"text-align: right;\">                                            0.87</td><td style=\"text-align: right;\">                            1e-06 </td><td style=\"text-align: right;\">                                               0.51</td><td style=\"text-align: right;\">                                            0.89</td><td>True                              </td><td>2020-05-27 20:12:56.736493</td></tr>\n",
       "<tr><td style=\"text-align: right;\">  31</td><td>d58cab29bbd157d872e3ae1f33b4ab9e</td><td style=\"text-align: right;\">         0.7937  </td><td style=\"text-align: right;\">  0.790931</td><td style=\"text-align: right;\">   0.853698</td><td style=\"text-align: right;\">   50.3769</td><td style=\"text-align: right;\">                   214</td><td style=\"text-align: right;\">                           210</td><td>uncertainty_max_margin</td><td>dummy                   </td><td>False                            </td><td>False                        </td><td style=\"text-align: right;\">                                            0.88</td><td style=\"text-align: right;\">                            0.0001</td><td style=\"text-align: right;\">                                               0.5 </td><td style=\"text-align: right;\">                                            0.63</td><td>True                              </td><td>2020-05-27 19:31:35.217296</td></tr>\n",
       "<tr><td style=\"text-align: right;\">  32</td><td>c440bc77a73312959cc4c9824f4bba2f</td><td style=\"text-align: right;\">         0.781585</td><td style=\"text-align: right;\">  0.790585</td><td style=\"text-align: right;\">   0.853496</td><td style=\"text-align: right;\">   41.4776</td><td style=\"text-align: right;\">                   214</td><td style=\"text-align: right;\">                           210</td><td>uncertainty_max_margin</td><td>dummy                   </td><td>False                            </td><td>False                        </td><td style=\"text-align: right;\">                                            0.89</td><td style=\"text-align: right;\">                            0.0001</td><td style=\"text-align: right;\">                                               0.8 </td><td style=\"text-align: right;\">                                            0.8 </td><td>True                              </td><td>2020-05-27 20:12:12.927616</td></tr>\n",
       "<tr><td style=\"text-align: right;\">  33</td><td>d67fec1f3f9dcf57aad0e0fa7909cecb</td><td style=\"text-align: right;\">         0.801661</td><td style=\"text-align: right;\">  0.790239</td><td style=\"text-align: right;\">   0.853294</td><td style=\"text-align: right;\">   47.3642</td><td style=\"text-align: right;\">                   217</td><td style=\"text-align: right;\">                           210</td><td>uncertainty_max_margin</td><td>dummy                   </td><td>False                            </td><td>True                         </td><td style=\"text-align: right;\">                                            0.88</td><td style=\"text-align: right;\">                            0.01  </td><td style=\"text-align: right;\">                                               0.6 </td><td style=\"text-align: right;\">                                            0.83</td><td>True                              </td><td>2020-05-27 19:36:10.369221</td></tr>\n",
       "<tr><td style=\"text-align: right;\">  34</td><td>2850d2996a44c7dc84ffc88254f3f8c8</td><td style=\"text-align: right;\">         0.796816</td><td style=\"text-align: right;\">  0.789547</td><td style=\"text-align: right;\">   0.852891</td><td style=\"text-align: right;\">   53.1308</td><td style=\"text-align: right;\">                   222</td><td style=\"text-align: right;\">                           210</td><td>uncertainty_max_margin</td><td>dummy                   </td><td>False                            </td><td>True                         </td><td style=\"text-align: right;\">                                            0.97</td><td style=\"text-align: right;\">                            0.01  </td><td style=\"text-align: right;\">                                               0.57</td><td style=\"text-align: right;\">                                            0.87</td><td>True                              </td><td>2020-05-27 19:36:26.469060</td></tr>\n",
       "<tr><td style=\"text-align: right;\">  35</td><td>29efc4a0b2351c51778b119e8926372c</td><td style=\"text-align: right;\">         0.807892</td><td style=\"text-align: right;\">  0.788508</td><td style=\"text-align: right;\">   0.852284</td><td style=\"text-align: right;\">   43.2441</td><td style=\"text-align: right;\">                   214</td><td style=\"text-align: right;\">                           210</td><td>uncertainty_max_margin</td><td>dummy                   </td><td>True                             </td><td>False                        </td><td style=\"text-align: right;\">                                            0.86</td><td style=\"text-align: right;\">                            1e-05 </td><td style=\"text-align: right;\">                                               0.75</td><td style=\"text-align: right;\">                                            0.62</td><td>True                              </td><td>2020-05-27 20:14:22.927452</td></tr>\n",
       "<tr><td style=\"text-align: right;\">  36</td><td>5d859265aab0a35071fcdc45271cce82</td><td style=\"text-align: right;\">         0.777778</td><td style=\"text-align: right;\">  0.788508</td><td style=\"text-align: right;\">   0.852284</td><td style=\"text-align: right;\">   41.835 </td><td style=\"text-align: right;\">                   214</td><td style=\"text-align: right;\">                           210</td><td>uncertainty_max_margin</td><td>dummy                   </td><td>False                            </td><td>True                         </td><td style=\"text-align: right;\">                                            0.95</td><td style=\"text-align: right;\">                            1e-06 </td><td style=\"text-align: right;\">                                               0.51</td><td style=\"text-align: right;\">                                            0.88</td><td>True                              </td><td>2020-05-27 20:18:31.017934</td></tr>\n",
       "<tr><td style=\"text-align: right;\">  37</td><td>c91cab5a76bc67e261d320310b548f25</td><td style=\"text-align: right;\">         0.796816</td><td style=\"text-align: right;\">  0.78747 </td><td style=\"text-align: right;\">   0.851677</td><td style=\"text-align: right;\">   44.1597</td><td style=\"text-align: right;\">                   214</td><td style=\"text-align: right;\">                           210</td><td>uncertainty_max_margin</td><td>dummy                   </td><td>False                            </td><td>False                        </td><td style=\"text-align: right;\">                                            0.85</td><td style=\"text-align: right;\">                            1e-05 </td><td style=\"text-align: right;\">                                               0.64</td><td style=\"text-align: right;\">                                            0.9 </td><td>True                              </td><td>2020-05-27 20:15:26.189089</td></tr>\n",
       "<tr><td style=\"text-align: right;\">  38</td><td>305d32016b0ee0d776d19b3822fa28a1</td><td style=\"text-align: right;\">         0.784354</td><td style=\"text-align: right;\">  0.786431</td><td style=\"text-align: right;\">   0.85107 </td><td style=\"text-align: right;\">   47.8893</td><td style=\"text-align: right;\">                   214</td><td style=\"text-align: right;\">                           210</td><td>uncertainty_max_margin</td><td>dummy                   </td><td>True                             </td><td>False                        </td><td style=\"text-align: right;\">                                            0.96</td><td style=\"text-align: right;\">                            0.0001</td><td style=\"text-align: right;\">                                               0.68</td><td style=\"text-align: right;\">                                            0.66</td><td>True                              </td><td>2020-05-27 19:32:26.272652</td></tr>\n",
       "<tr><td style=\"text-align: right;\">  39</td><td>a0c5a892f32e5a71c153099a6a6c1246</td><td style=\"text-align: right;\">         0.794046</td><td style=\"text-align: right;\">  0.786085</td><td style=\"text-align: right;\">   0.850867</td><td style=\"text-align: right;\">   43.6459</td><td style=\"text-align: right;\">                   214</td><td style=\"text-align: right;\">                           210</td><td>uncertainty_max_margin</td><td>dummy                   </td><td>False                            </td><td>False                        </td><td style=\"text-align: right;\">                                            0.96</td><td style=\"text-align: right;\">                            1e-05 </td><td style=\"text-align: right;\">                                               1   </td><td style=\"text-align: right;\">                                            0.5 </td><td>True                              </td><td>2020-05-27 20:15:08.488093</td></tr>\n",
       "<tr><td style=\"text-align: right;\">  40</td><td>8452b5b439c141e5482255a563e5fd81</td><td style=\"text-align: right;\">         0.803046</td><td style=\"text-align: right;\">  0.786085</td><td style=\"text-align: right;\">   0.850867</td><td style=\"text-align: right;\">   22.53  </td><td style=\"text-align: right;\">                   214</td><td style=\"text-align: right;\">                           210</td><td>uncertainty_max_margin</td><td>dummy                   </td><td>True                             </td><td>False                        </td><td style=\"text-align: right;\">                                            0.96</td><td style=\"text-align: right;\">                            1e-06 </td><td style=\"text-align: right;\">                                               0.51</td><td style=\"text-align: right;\">                                            0.57</td><td>True                              </td><td>2020-05-27 19:25:12.000777</td></tr>\n",
       "<tr><td style=\"text-align: right;\">  41</td><td>b6c47faa8bd1ae63aeb4c3cfed0cad9e</td><td style=\"text-align: right;\">         0.794393</td><td style=\"text-align: right;\">  0.786085</td><td style=\"text-align: right;\">   0.850867</td><td style=\"text-align: right;\">   50.8412</td><td style=\"text-align: right;\">                   214</td><td style=\"text-align: right;\">                           210</td><td>uncertainty_max_margin</td><td>dummy                   </td><td>False                            </td><td>True                         </td><td style=\"text-align: right;\">                                            0.96</td><td style=\"text-align: right;\">                            1e-06 </td><td style=\"text-align: right;\">                                               0.9 </td><td style=\"text-align: right;\">                                            0.84</td><td>True                              </td><td>2020-05-27 19:29:49.516068</td></tr>\n",
       "<tr><td style=\"text-align: right;\">  42</td><td>08947872e133f7da8ec730d36b1bc05d</td><td style=\"text-align: right;\">         0.795431</td><td style=\"text-align: right;\">  0.785047</td><td style=\"text-align: right;\">   0.850258</td><td style=\"text-align: right;\">   52.2798</td><td style=\"text-align: right;\">                   215</td><td style=\"text-align: right;\">                           210</td><td>uncertainty_max_margin</td><td>dummy                   </td><td>False                            </td><td>True                         </td><td style=\"text-align: right;\">                                            0.86</td><td style=\"text-align: right;\">                            1e-05 </td><td style=\"text-align: right;\">                                               0.73</td><td style=\"text-align: right;\">                                            0.84</td><td>True                              </td><td>2020-05-27 19:29:52.371371</td></tr>\n",
       "<tr><td style=\"text-align: right;\">  43</td><td>5909f4445875cb4ce97a77db89862b83</td><td style=\"text-align: right;\">         0.792316</td><td style=\"text-align: right;\">  0.785047</td><td style=\"text-align: right;\">   0.850258</td><td style=\"text-align: right;\">   46.0019</td><td style=\"text-align: right;\">                   217</td><td style=\"text-align: right;\">                           210</td><td>uncertainty_max_margin</td><td>dummy                   </td><td>True                             </td><td>True                         </td><td style=\"text-align: right;\">                                            0.96</td><td style=\"text-align: right;\">                            1e-06 </td><td style=\"text-align: right;\">                                               0.87</td><td style=\"text-align: right;\">                                            0.99</td><td>True                              </td><td>2020-05-27 19:45:33.856116</td></tr>\n",
       "<tr><td style=\"text-align: right;\">  44</td><td>ca81d2d616e5b7a5b273328cad7f8f78</td><td style=\"text-align: right;\">         0.791277</td><td style=\"text-align: right;\">  0.784701</td><td style=\"text-align: right;\">   0.850055</td><td style=\"text-align: right;\">   22.5464</td><td style=\"text-align: right;\">                   214</td><td style=\"text-align: right;\">                           210</td><td>uncertainty_max_margin</td><td>dummy                   </td><td>True                             </td><td>False                        </td><td style=\"text-align: right;\">                                            1   </td><td style=\"text-align: right;\">                            0.0001</td><td style=\"text-align: right;\">                                               0.98</td><td style=\"text-align: right;\">                                            0.8 </td><td>True                              </td><td>2020-05-27 19:25:11.744071</td></tr>\n",
       "<tr><td style=\"text-align: right;\">  45</td><td>4d6596babbfe54e63756acdcd9ee3094</td><td style=\"text-align: right;\">         0.777432</td><td style=\"text-align: right;\">  0.784354</td><td style=\"text-align: right;\">   0.849852</td><td style=\"text-align: right;\">   50.3282</td><td style=\"text-align: right;\">                   214</td><td style=\"text-align: right;\">                           210</td><td>uncertainty_max_margin</td><td>dummy                   </td><td>False                            </td><td>False                        </td><td style=\"text-align: right;\">                                            0.91</td><td style=\"text-align: right;\">                            0.01  </td><td style=\"text-align: right;\">                                               0.57</td><td style=\"text-align: right;\">                                            0.94</td><td>True                              </td><td>2020-05-27 19:31:36.319519</td></tr>\n",
       "<tr><td style=\"text-align: right;\">  46</td><td>71e9940913603b05b819aa534c0ca3c6</td><td style=\"text-align: right;\">         0.795431</td><td style=\"text-align: right;\">  0.783662</td><td style=\"text-align: right;\">   0.849446</td><td style=\"text-align: right;\">   43.2057</td><td style=\"text-align: right;\">                   214</td><td style=\"text-align: right;\">                           210</td><td>uncertainty_max_margin</td><td>dummy                   </td><td>True                             </td><td>False                        </td><td style=\"text-align: right;\">                                            0.88</td><td style=\"text-align: right;\">                            0.01  </td><td style=\"text-align: right;\">                                               0.9 </td><td style=\"text-align: right;\">                                            0.51</td><td>True                              </td><td>2020-05-27 20:14:39.893704</td></tr>\n",
       "<tr><td style=\"text-align: right;\">  47</td><td>96d1cf31939f71ac4bcc0e1f48550658</td><td style=\"text-align: right;\">         0.786431</td><td style=\"text-align: right;\">  0.781931</td><td style=\"text-align: right;\">   0.848428</td><td style=\"text-align: right;\">   46.1389</td><td style=\"text-align: right;\">                   214</td><td style=\"text-align: right;\">                           210</td><td>uncertainty_max_margin</td><td>dummy                   </td><td>False                            </td><td>False                        </td><td style=\"text-align: right;\">                                            0.91</td><td style=\"text-align: right;\">                            0.01  </td><td style=\"text-align: right;\">                                               0.65</td><td style=\"text-align: right;\">                                            0.66</td><td>True                              </td><td>2020-05-27 19:33:15.216749</td></tr>\n",
       "<tr><td style=\"text-align: right;\">  48</td><td>ee654ae633e70d6e5bb8ce3a6d1d4438</td><td style=\"text-align: right;\">         0.78747 </td><td style=\"text-align: right;\">  0.781585</td><td style=\"text-align: right;\">   0.848224</td><td style=\"text-align: right;\">   47.5158</td><td style=\"text-align: right;\">                   214</td><td style=\"text-align: right;\">                           210</td><td>uncertainty_max_margin</td><td>dummy                   </td><td>False                            </td><td>False                        </td><td style=\"text-align: right;\">                                            0.96</td><td style=\"text-align: right;\">                            0.01  </td><td style=\"text-align: right;\">                                               0.84</td><td style=\"text-align: right;\">                                            0.54</td><td>True                              </td><td>2020-05-27 19:32:25.804439</td></tr>\n",
       "<tr><td style=\"text-align: right;\">  49</td><td>60a3ed17dcad13e252eb6e5f1c078914</td><td style=\"text-align: right;\">         0.801661</td><td style=\"text-align: right;\">  0.780201</td><td style=\"text-align: right;\">   0.847408</td><td style=\"text-align: right;\">   36.5926</td><td style=\"text-align: right;\">                   423</td><td style=\"text-align: right;\">                           210</td><td>uncertainty_max_margin</td><td>dummy                   </td><td>True                             </td><td>True                         </td><td style=\"text-align: right;\">                                            0.93</td><td style=\"text-align: right;\">                            1e-05 </td><td style=\"text-align: right;\">                                               0.86</td><td style=\"text-align: right;\">                                            0.7 </td><td>True                              </td><td>2020-05-27 19:25:25.642059</td></tr>\n",
       "<tr><td style=\"text-align: right;\">  50</td><td>22ef78a5f50425b3a5b616f0f185b5d8</td><td style=\"text-align: right;\">         0.788508</td><td style=\"text-align: right;\">  0.779855</td><td style=\"text-align: right;\">   0.847204</td><td style=\"text-align: right;\">   42.0303</td><td style=\"text-align: right;\">                   214</td><td style=\"text-align: right;\">                           210</td><td>uncertainty_max_margin</td><td>dummy                   </td><td>True                             </td><td>False                        </td><td style=\"text-align: right;\">                                            0.87</td><td style=\"text-align: right;\">                            0.001 </td><td style=\"text-align: right;\">                                               0.78</td><td style=\"text-align: right;\">                                            0.52</td><td>True                              </td><td>2020-05-27 19:37:38.141708</td></tr>\n",
       "<tr><td style=\"text-align: right;\">  51</td><td>b6ab8e636567bed4fa2fc4d7f129bcf7</td><td style=\"text-align: right;\">         0.788854</td><td style=\"text-align: right;\">  0.779162</td><td style=\"text-align: right;\">   0.846795</td><td style=\"text-align: right;\">   56.3429</td><td style=\"text-align: right;\">                   216</td><td style=\"text-align: right;\">                           210</td><td>uncertainty_max_margin</td><td>dummy                   </td><td>True                             </td><td>False                        </td><td style=\"text-align: right;\">                                            0.98</td><td style=\"text-align: right;\">                            0.0001</td><td style=\"text-align: right;\">                                               0.78</td><td style=\"text-align: right;\">                                            0.67</td><td>True                              </td><td>2020-05-27 19:31:42.064467</td></tr>\n",
       "<tr><td style=\"text-align: right;\">  52</td><td>e4db31e5a0270b6eae0bd226d1d24a23</td><td style=\"text-align: right;\">         0.774662</td><td style=\"text-align: right;\">  0.778124</td><td style=\"text-align: right;\">   0.846182</td><td style=\"text-align: right;\">   22.2826</td><td style=\"text-align: right;\">                   214</td><td style=\"text-align: right;\">                           210</td><td>uncertainty_max_margin</td><td>dummy                   </td><td>False                            </td><td>True                         </td><td style=\"text-align: right;\">                                            0.92</td><td style=\"text-align: right;\">                            0.0001</td><td style=\"text-align: right;\">                                               0.65</td><td style=\"text-align: right;\">                                            0.79</td><td>True                              </td><td>2020-05-27 19:25:11.324064</td></tr>\n",
       "<tr><td style=\"text-align: right;\">  53</td><td>fc0d29cc0531098001a65ab22cc3e15e</td><td style=\"text-align: right;\">         0.779508</td><td style=\"text-align: right;\">  0.777778</td><td style=\"text-align: right;\">   0.845977</td><td style=\"text-align: right;\">   46.1671</td><td style=\"text-align: right;\">                   214</td><td style=\"text-align: right;\">                           210</td><td>uncertainty_max_margin</td><td>dummy                   </td><td>False                            </td><td>False                        </td><td style=\"text-align: right;\">                                            0.94</td><td style=\"text-align: right;\">                            1e-06 </td><td style=\"text-align: right;\">                                               0.84</td><td style=\"text-align: right;\">                                            0.84</td><td>True                              </td><td>2020-05-27 19:33:13.532986</td></tr>\n",
       "<tr><td style=\"text-align: right;\">  54</td><td>af367dad51f92b2f242f1d4ae2ef98ff</td><td style=\"text-align: right;\">         0.78297 </td><td style=\"text-align: right;\">  0.776047</td><td style=\"text-align: right;\">   0.844952</td><td style=\"text-align: right;\">   19.2211</td><td style=\"text-align: right;\">                   214</td><td style=\"text-align: right;\">                           210</td><td>uncertainty_max_margin</td><td>dummy                   </td><td>False                            </td><td>True                         </td><td style=\"text-align: right;\">                                            0.96</td><td style=\"text-align: right;\">                            0.0001</td><td style=\"text-align: right;\">                                               0.68</td><td style=\"text-align: right;\">                                            0.64</td><td>True                              </td><td>2020-05-27 19:26:00.744682</td></tr>\n",
       "<tr><td style=\"text-align: right;\">  55</td><td>abb264bfb96e781b7ce7181523c31e25</td><td style=\"text-align: right;\">         0.77224 </td><td style=\"text-align: right;\">  0.775701</td><td style=\"text-align: right;\">   0.844747</td><td style=\"text-align: right;\">   22.0719</td><td style=\"text-align: right;\">                   214</td><td style=\"text-align: right;\">                           210</td><td>uncertainty_max_margin</td><td>dummy                   </td><td>False                            </td><td>True                         </td><td style=\"text-align: right;\">                                            0.88</td><td style=\"text-align: right;\">                            1e-05 </td><td style=\"text-align: right;\">                                               0.93</td><td style=\"text-align: right;\">                                            0.78</td><td>True                              </td><td>2020-05-27 19:25:11.381062</td></tr>\n",
       "<tr><td style=\"text-align: right;\">  56</td><td>e1881913148ebea03857529e454e39ce</td><td style=\"text-align: right;\">         0.766355</td><td style=\"text-align: right;\">  0.772932</td><td style=\"text-align: right;\">   0.843102</td><td style=\"text-align: right;\">   20.0766</td><td style=\"text-align: right;\">                   214</td><td style=\"text-align: right;\">                           210</td><td>uncertainty_max_margin</td><td>dummy                   </td><td>False                            </td><td>True                         </td><td style=\"text-align: right;\">                                            0.92</td><td style=\"text-align: right;\">                            0.001 </td><td style=\"text-align: right;\">                                               0.76</td><td style=\"text-align: right;\">                                            0.82</td><td>True                              </td><td>2020-05-27 19:25:47.262792</td></tr>\n",
       "<tr><td style=\"text-align: right;\">  57</td><td>2ab750cafbd83e13a7edaa9812ce6751</td><td style=\"text-align: right;\">         0.77224 </td><td style=\"text-align: right;\">  0.772932</td><td style=\"text-align: right;\">   0.843102</td><td style=\"text-align: right;\">   46.7622</td><td style=\"text-align: right;\">                   216</td><td style=\"text-align: right;\">                           210</td><td>uncertainty_max_margin</td><td>dummy                   </td><td>False                            </td><td>True                         </td><td style=\"text-align: right;\">                                            1   </td><td style=\"text-align: right;\">                            1e-06 </td><td style=\"text-align: right;\">                                               0.93</td><td style=\"text-align: right;\">                                            0.85</td><td>True                              </td><td>2020-05-27 19:34:49.902261</td></tr>\n",
       "<tr><td style=\"text-align: right;\">  58</td><td>ae385c452b8227097e0f3c5c39df4885</td><td style=\"text-align: right;\">         0.770163</td><td style=\"text-align: right;\">  0.77224 </td><td style=\"text-align: right;\">   0.84269 </td><td style=\"text-align: right;\">   47.6553</td><td style=\"text-align: right;\">                   214</td><td style=\"text-align: right;\">                           210</td><td>uncertainty_max_margin</td><td>dummy                   </td><td>False                            </td><td>True                         </td><td style=\"text-align: right;\">                                            0.86</td><td style=\"text-align: right;\">                            0.001 </td><td style=\"text-align: right;\">                                               0.92</td><td style=\"text-align: right;\">                                            0.55</td><td>True                              </td><td>2020-05-27 19:32:31.807556</td></tr>\n",
       "<tr><td style=\"text-align: right;\">  59</td><td>71e5b84aa4db8b3c4c0c214fd2aed824</td><td style=\"text-align: right;\">         0.776739</td><td style=\"text-align: right;\">  0.771893</td><td style=\"text-align: right;\">   0.842484</td><td style=\"text-align: right;\">   46.9305</td><td style=\"text-align: right;\">                   214</td><td style=\"text-align: right;\">                           210</td><td>uncertainty_max_margin</td><td>dummy                   </td><td>False                            </td><td>False                        </td><td style=\"text-align: right;\">                                            0.96</td><td style=\"text-align: right;\">                            0.01  </td><td style=\"text-align: right;\">                                               0.51</td><td style=\"text-align: right;\">                                            0.87</td><td>True                              </td><td>2020-05-27 19:32:24.151038</td></tr>\n",
       "<tr><td style=\"text-align: right;\">  60</td><td>b5e009046b4d8880590f387b560563ff</td><td style=\"text-align: right;\">         0.788508</td><td style=\"text-align: right;\">  0.769817</td><td style=\"text-align: right;\">   0.841245</td><td style=\"text-align: right;\">   42.3018</td><td style=\"text-align: right;\">                   214</td><td style=\"text-align: right;\">                           210</td><td>uncertainty_max_margin</td><td>dummy                   </td><td>False                            </td><td>True                         </td><td style=\"text-align: right;\">                                            0.9 </td><td style=\"text-align: right;\">                            0.0001</td><td style=\"text-align: right;\">                                               0.57</td><td style=\"text-align: right;\">                                            0.77</td><td>True                              </td><td>2020-05-27 19:35:20.972401</td></tr>\n",
       "<tr><td style=\"text-align: right;\">  61</td><td>64eacd8f15014a8636ed09110c06e311</td><td style=\"text-align: right;\">         0.773278</td><td style=\"text-align: right;\">  0.769817</td><td style=\"text-align: right;\">   0.841245</td><td style=\"text-align: right;\">   48.3683</td><td style=\"text-align: right;\">                   214</td><td style=\"text-align: right;\">                           210</td><td>uncertainty_max_margin</td><td>dummy                   </td><td>True                             </td><td>True                         </td><td style=\"text-align: right;\">                                            0.88</td><td style=\"text-align: right;\">                            1e-05 </td><td style=\"text-align: right;\">                                               0.77</td><td style=\"text-align: right;\">                                            0.62</td><td>True                              </td><td>2020-05-27 19:32:26.920382</td></tr>\n",
       "<tr><td style=\"text-align: right;\">  62</td><td>80d26b54a3bf21c95a1800ef6834a41d</td><td style=\"text-align: right;\">         0.783662</td><td style=\"text-align: right;\">  0.768778</td><td style=\"text-align: right;\">   0.840625</td><td style=\"text-align: right;\">   49.5196</td><td style=\"text-align: right;\">                   214</td><td style=\"text-align: right;\">                           210</td><td>uncertainty_max_margin</td><td>dummy                   </td><td>False                            </td><td>True                         </td><td style=\"text-align: right;\">                                            0.93</td><td style=\"text-align: right;\">                            0.01  </td><td style=\"text-align: right;\">                                               0.94</td><td style=\"text-align: right;\">                                            0.97</td><td>True                              </td><td>2020-05-27 19:29:49.240710</td></tr>\n",
       "<tr><td style=\"text-align: right;\">  63</td><td>f44809aacf7b1965669e9710a9a46fec</td><td style=\"text-align: right;\">         0.785393</td><td style=\"text-align: right;\">  0.768086</td><td style=\"text-align: right;\">   0.840211</td><td style=\"text-align: right;\">   18.6752</td><td style=\"text-align: right;\">                   214</td><td style=\"text-align: right;\">                           210</td><td>uncertainty_max_margin</td><td>dummy                   </td><td>False                            </td><td>True                         </td><td style=\"text-align: right;\">                                            0.97</td><td style=\"text-align: right;\">                            0.01  </td><td style=\"text-align: right;\">                                               0.84</td><td style=\"text-align: right;\">                                            0.51</td><td>True                              </td><td>2020-05-27 19:26:20.954872</td></tr>\n",
       "<tr><td style=\"text-align: right;\">  64</td><td>3dcb27c82e2840df25cccedefc9063c3</td><td style=\"text-align: right;\">         0.76947 </td><td style=\"text-align: right;\">  0.767047</td><td style=\"text-align: right;\">   0.839589</td><td style=\"text-align: right;\">   41.918 </td><td style=\"text-align: right;\">                   214</td><td style=\"text-align: right;\">                           210</td><td>uncertainty_max_margin</td><td>dummy                   </td><td>False                            </td><td>False                        </td><td style=\"text-align: right;\">                                            0.87</td><td style=\"text-align: right;\">                            1e-06 </td><td style=\"text-align: right;\">                                               0.86</td><td style=\"text-align: right;\">                                            0.95</td><td>True                              </td><td>2020-05-27 20:16:55.407376</td></tr>\n",
       "<tr><td style=\"text-align: right;\">  65</td><td>0b3a814d26ad5c41bcefb2e9362000f1</td><td style=\"text-align: right;\">         0.776047</td><td style=\"text-align: right;\">  0.764971</td><td style=\"text-align: right;\">   0.838344</td><td style=\"text-align: right;\">   42.2332</td><td style=\"text-align: right;\">                   214</td><td style=\"text-align: right;\">                           210</td><td>uncertainty_max_margin</td><td>dummy                   </td><td>False                            </td><td>True                         </td><td style=\"text-align: right;\">                                            0.99</td><td style=\"text-align: right;\">                            0.01  </td><td style=\"text-align: right;\">                                               0.69</td><td style=\"text-align: right;\">                                            0.74</td><td>True                              </td><td>2020-05-27 20:14:29.370275</td></tr>\n",
       "<tr><td style=\"text-align: right;\">  66</td><td>e3c1d598ff1fc7a18554f57ace6d0116</td><td style=\"text-align: right;\">         0.781585</td><td style=\"text-align: right;\">  0.764624</td><td style=\"text-align: right;\">   0.838136</td><td style=\"text-align: right;\">   43.7244</td><td style=\"text-align: right;\">                   214</td><td style=\"text-align: right;\">                           210</td><td>uncertainty_max_margin</td><td>dummy                   </td><td>True                             </td><td>True                         </td><td style=\"text-align: right;\">                                            0.85</td><td style=\"text-align: right;\">                            1e-05 </td><td style=\"text-align: right;\">                                               0.83</td><td style=\"text-align: right;\">                                            0.64</td><td>True                              </td><td>2020-05-27 20:15:47.185526</td></tr>\n",
       "<tr><td style=\"text-align: right;\">  67</td><td>88e58c8d6608062c4020f7799ed9511b</td><td style=\"text-align: right;\">         0.770509</td><td style=\"text-align: right;\">  0.764278</td><td style=\"text-align: right;\">   0.837928</td><td style=\"text-align: right;\">   43.7043</td><td style=\"text-align: right;\">                   214</td><td style=\"text-align: right;\">                           210</td><td>uncertainty_max_margin</td><td>dummy                   </td><td>True                             </td><td>False                        </td><td style=\"text-align: right;\">                                            0.97</td><td style=\"text-align: right;\">                            0.01  </td><td style=\"text-align: right;\">                                               0.96</td><td style=\"text-align: right;\">                                            0.66</td><td>True                              </td><td>2020-05-27 19:34:01.053914</td></tr>\n",
       "<tr><td style=\"text-align: right;\">  68</td><td>3f34c9070c5fe99f878e229a41c8f714</td><td style=\"text-align: right;\">         0.768778</td><td style=\"text-align: right;\">  0.761509</td><td style=\"text-align: right;\">   0.836261</td><td style=\"text-align: right;\">   51.8868</td><td style=\"text-align: right;\">                   215</td><td style=\"text-align: right;\">                           210</td><td>uncertainty_max_margin</td><td>dummy                   </td><td>False                            </td><td>True                         </td><td style=\"text-align: right;\">                                            0.88</td><td style=\"text-align: right;\">                            1e-06 </td><td style=\"text-align: right;\">                                               0.87</td><td style=\"text-align: right;\">                                            0.6 </td><td>True                              </td><td>2020-05-27 19:29:50.890986</td></tr>\n",
       "<tr><td style=\"text-align: right;\">  69</td><td>f352fd9b7e51f92e204f79c1a47d8bb0</td><td style=\"text-align: right;\">         0.779855</td><td style=\"text-align: right;\">  0.759086</td><td style=\"text-align: right;\">   0.834798</td><td style=\"text-align: right;\">   43.6267</td><td style=\"text-align: right;\">                   214</td><td style=\"text-align: right;\">                           210</td><td>uncertainty_max_margin</td><td>dummy                   </td><td>False                            </td><td>False                        </td><td style=\"text-align: right;\">                                            0.87</td><td style=\"text-align: right;\">                            0.0001</td><td style=\"text-align: right;\">                                               0.77</td><td style=\"text-align: right;\">                                            0.59</td><td>True                              </td><td>2020-05-27 19:44:00.720666</td></tr>\n",
       "<tr><td style=\"text-align: right;\">  70</td><td>edf51b93ee41549ea677f505d9f858f1</td><td style=\"text-align: right;\">         0.76774 </td><td style=\"text-align: right;\">  0.755279</td><td style=\"text-align: right;\">   0.83249 </td><td style=\"text-align: right;\">   58.4281</td><td style=\"text-align: right;\">                   238</td><td style=\"text-align: right;\">                           210</td><td>uncertainty_max_margin</td><td>dummy                   </td><td>True                             </td><td>False                        </td><td style=\"text-align: right;\">                                            0.98</td><td style=\"text-align: right;\">                            1e-06 </td><td style=\"text-align: right;\">                                               0.83</td><td style=\"text-align: right;\">                                            0.94</td><td>True                              </td><td>2020-05-27 19:33:24.863318</td></tr>\n",
       "<tr><td style=\"text-align: right;\">  71</td><td>b2e944966c2d429f2aa1f5751faa93ba</td><td style=\"text-align: right;\">         0.729318</td><td style=\"text-align: right;\">  0.733818</td><td style=\"text-align: right;\">   0.820365</td><td style=\"text-align: right;\"> 2656.28  </td><td style=\"text-align: right;\">                   255</td><td style=\"text-align: right;\">                           202</td><td>uncertainty_max_margin</td><td>MostUncertain_max_margin</td><td>False                            </td><td>True                         </td><td style=\"text-align: right;\">                                            0.92</td><td style=\"text-align: right;\">                            0.0001</td><td style=\"text-align: right;\">                                               0.56</td><td style=\"text-align: right;\">                                            0.67</td><td>True                              </td><td>2020-05-27 20:15:01.284217</td></tr>\n",
       "<tr><td style=\"text-align: right;\">  72</td><td>48db7e3532fbb9bddda5e630b7fe9682</td><td style=\"text-align: right;\">         0.734164</td><td style=\"text-align: right;\">  0.719972</td><td style=\"text-align: right;\">   0.811772</td><td style=\"text-align: right;\"> 2331.97  </td><td style=\"text-align: right;\">                   247</td><td style=\"text-align: right;\">                           201</td><td>uncertainty_max_margin</td><td>MostUncertain_max_margin</td><td>False                            </td><td>True                         </td><td style=\"text-align: right;\">                                            0.86</td><td style=\"text-align: right;\">                            0.0001</td><td style=\"text-align: right;\">                                               0.75</td><td style=\"text-align: right;\">                                            0.82</td><td>True                              </td><td>2020-05-27 20:09:36.672991</td></tr>\n",
       "<tr><td style=\"text-align: right;\">  73</td><td>ecc79035c09d55f05d2d6b77dfea3f58</td><td style=\"text-align: right;\">         0.719626</td><td style=\"text-align: right;\">  0.718242</td><td style=\"text-align: right;\">   0.810013</td><td style=\"text-align: right;\"> 2577.53  </td><td style=\"text-align: right;\">                   210</td><td style=\"text-align: right;\">                           206</td><td>uncertainty_max_margin</td><td>MostUncertain_max_margin</td><td>False                            </td><td>False                        </td><td style=\"text-align: right;\">                                            0.86</td><td style=\"text-align: right;\">                            1e-05 </td><td style=\"text-align: right;\">                                               0.5 </td><td style=\"text-align: right;\">                                            0.63</td><td>True                              </td><td>2020-05-27 20:13:43.456847</td></tr>\n",
       "<tr><td style=\"text-align: right;\">  74</td><td>165f928cfef751633a6567fdfcbba023</td><td style=\"text-align: right;\">         0.724818</td><td style=\"text-align: right;\">  0.717895</td><td style=\"text-align: right;\">   0.809265</td><td style=\"text-align: right;\"> 2435.05  </td><td style=\"text-align: right;\">                   214</td><td style=\"text-align: right;\">                           210</td><td>uncertainty_max_margin</td><td>MostUncertain_max_margin</td><td>False                            </td><td>False                        </td><td style=\"text-align: right;\">                                            0.85</td><td style=\"text-align: right;\">                            1e-06 </td><td style=\"text-align: right;\">                                               0.71</td><td style=\"text-align: right;\">                                            0.94</td><td>True                              </td><td>2020-05-27 20:13:03.589530</td></tr>\n",
       "<tr><td style=\"text-align: right;\">  75</td><td>2dd35858a0b17a406ff5ca1776c3f2bb</td><td style=\"text-align: right;\">         0.717203</td><td style=\"text-align: right;\">  0.715126</td><td style=\"text-align: right;\">   0.808552</td><td style=\"text-align: right;\"> 2626.25  </td><td style=\"text-align: right;\">                   206</td><td style=\"text-align: right;\">                           202</td><td>uncertainty_max_margin</td><td>MostUncertain_max_margin</td><td>True                             </td><td>False                        </td><td style=\"text-align: right;\">                                            1   </td><td style=\"text-align: right;\">                            0.001 </td><td style=\"text-align: right;\">                                               0.74</td><td style=\"text-align: right;\">                                            0.56</td><td>True                              </td><td>2020-05-27 20:14:31.789531</td></tr>\n",
       "<tr><td style=\"text-align: right;\">  76</td><td>3286e49eb7ac9e3f4def8c6e358da4d4</td><td style=\"text-align: right;\">         0.711665</td><td style=\"text-align: right;\">  0.714088</td><td style=\"text-align: right;\">   0.807626</td><td style=\"text-align: right;\"> 2788.99  </td><td style=\"text-align: right;\">                   208</td><td style=\"text-align: right;\">                           204</td><td>uncertainty_max_margin</td><td>MostUncertain_max_margin</td><td>False                            </td><td>False                        </td><td style=\"text-align: right;\">                                            1   </td><td style=\"text-align: right;\">                            1e-05 </td><td style=\"text-align: right;\">                                               0.89</td><td style=\"text-align: right;\">                                            0.76</td><td>True                              </td><td>2020-05-27 20:17:14.744043</td></tr>\n",
       "<tr><td style=\"text-align: right;\">  77</td><td>a9651d7d2640c9a9723f660846615697</td><td style=\"text-align: right;\">         0.727241</td><td style=\"text-align: right;\">  0.696089</td><td style=\"text-align: right;\">   0.795987</td><td style=\"text-align: right;\"> 2682.41  </td><td style=\"text-align: right;\">                   528</td><td style=\"text-align: right;\">                           204</td><td>uncertainty_max_margin</td><td>MostUncertain_max_margin</td><td>True                             </td><td>True                         </td><td style=\"text-align: right;\">                                            0.99</td><td style=\"text-align: right;\">                            0.0001</td><td style=\"text-align: right;\">                                               0.69</td><td style=\"text-align: right;\">                                            0.9 </td><td>True                              </td><td>2020-05-27 20:17:47.233836</td></tr>\n",
       "<tr><td style=\"text-align: right;\">  78</td><td>80700be4e1298e19c42a24200780da26</td><td style=\"text-align: right;\">         0.785393</td><td style=\"text-align: right;\">  0.694012</td><td style=\"text-align: right;\">   0.793867</td><td style=\"text-align: right;\">  230.498 </td><td style=\"text-align: right;\">                   860</td><td style=\"text-align: right;\">                           210</td><td>uncertainty_max_margin</td><td>dummy                   </td><td>True                             </td><td>True                         </td><td style=\"text-align: right;\">                                            0.96</td><td style=\"text-align: right;\">                            1e-05 </td><td style=\"text-align: right;\">                                               0.67</td><td style=\"text-align: right;\">                                            0.81</td><td>True                              </td><td>2020-05-27 19:34:36.584752</td></tr>\n",
       "<tr><td style=\"text-align: right;\">  79</td><td>da2936fe0768f0de98d66c8f6805ab43</td><td style=\"text-align: right;\">         0.77224 </td><td style=\"text-align: right;\">  0.687781</td><td style=\"text-align: right;\">   0.789775</td><td style=\"text-align: right;\">  102.955 </td><td style=\"text-align: right;\">                   688</td><td style=\"text-align: right;\">                           210</td><td>uncertainty_max_margin</td><td>dummy                   </td><td>True                             </td><td>False                        </td><td style=\"text-align: right;\">                                            0.92</td><td style=\"text-align: right;\">                            1e-05 </td><td style=\"text-align: right;\">                                               0.9 </td><td style=\"text-align: right;\">                                            0.73</td><td>True                              </td><td>2020-05-27 20:16:14.326618</td></tr>\n",
       "<tr><td style=\"text-align: right;\">  80</td><td>f8cc0540f1644fc1d39e7dffb6d7d36c</td><td style=\"text-align: right;\">         0.686743</td><td style=\"text-align: right;\">  0.678782</td><td style=\"text-align: right;\">   0.784796</td><td style=\"text-align: right;\"> 2571.86  </td><td style=\"text-align: right;\">                   206</td><td style=\"text-align: right;\">                           202</td><td>uncertainty_max_margin</td><td>MostUncertain_max_margin</td><td>False                            </td><td>False                        </td><td style=\"text-align: right;\">                                            0.92</td><td style=\"text-align: right;\">                            1e-05 </td><td style=\"text-align: right;\">                                               0.89</td><td style=\"text-align: right;\">                                            0.99</td><td>True                              </td><td>2020-05-27 20:13:37.525415</td></tr>\n",
       "<tr><td style=\"text-align: right;\">  81</td><td>98f088e5779a74a4a38f7b17bfd8569d</td><td style=\"text-align: right;\">         0.683281</td><td style=\"text-align: right;\">  0.676705</td><td style=\"text-align: right;\">   0.783406</td><td style=\"text-align: right;\"> 2390.76  </td><td style=\"text-align: right;\">                   240</td><td style=\"text-align: right;\">                           202</td><td>uncertainty_max_margin</td><td>MostUncertain_max_margin</td><td>False                            </td><td>True                         </td><td style=\"text-align: right;\">                                            0.92</td><td style=\"text-align: right;\">                            1e-05 </td><td style=\"text-align: right;\">                                               0.58</td><td style=\"text-align: right;\">                                            0.97</td><td>True                              </td><td>2020-05-27 20:11:29.393517</td></tr>\n",
       "<tr><td style=\"text-align: right;\">  82</td><td>a60d0e2694f37914265dd2025b94f91e</td><td style=\"text-align: right;\">         0.671513</td><td style=\"text-align: right;\">  0.667013</td><td style=\"text-align: right;\">   0.776751</td><td style=\"text-align: right;\">   65.9462</td><td style=\"text-align: right;\">                   266</td><td style=\"text-align: right;\">                           203</td><td>random                </td><td>dummy                   </td><td>False                            </td><td>True                         </td><td style=\"text-align: right;\">                                            0.97</td><td style=\"text-align: right;\">                            0.0001</td><td style=\"text-align: right;\">                                               0.82</td><td style=\"text-align: right;\">                                            0.67</td><td>True                              </td><td>2020-05-27 19:30:05.634146</td></tr>\n",
       "<tr><td style=\"text-align: right;\">  83</td><td>6b9e948e07b93535e3ba44d885a3d477</td><td style=\"text-align: right;\">         0.652475</td><td style=\"text-align: right;\">  0.645552</td><td style=\"text-align: right;\">   0.761769</td><td style=\"text-align: right;\">   51.6558</td><td style=\"text-align: right;\">                   209</td><td style=\"text-align: right;\">                           205</td><td>random                </td><td>dummy                   </td><td>False                            </td><td>False                        </td><td style=\"text-align: right;\">                                            0.88</td><td style=\"text-align: right;\">                            1e-06 </td><td style=\"text-align: right;\">                                               0.85</td><td style=\"text-align: right;\">                                            1   </td><td>True                              </td><td>2020-05-27 19:29:51.469756</td></tr>\n",
       "<tr><td style=\"text-align: right;\">  84</td><td>65f9f49b28c3f05dc647ce2b6ad37ef8</td><td style=\"text-align: right;\">         0.560401</td><td style=\"text-align: right;\">  0.581516</td><td style=\"text-align: right;\">   0.715295</td><td style=\"text-align: right;\">   54.1392</td><td style=\"text-align: right;\">                   209</td><td style=\"text-align: right;\">                           205</td><td>random                </td><td>dummy                   </td><td>True                             </td><td>False                        </td><td style=\"text-align: right;\">                                            0.88</td><td style=\"text-align: right;\">                            1e-06 </td><td style=\"text-align: right;\">                                               0.71</td><td style=\"text-align: right;\">                                            0.88</td><td>True                              </td><td>2020-05-27 19:29:53.006859</td></tr>\n",
       "<tr><td style=\"text-align: right;\">  85</td><td>59b0ec99c07f0149bd146f841095ee4a</td><td style=\"text-align: right;\">         0.698165</td><td style=\"text-align: right;\">  0.42783 </td><td style=\"text-align: right;\">   0.586135</td><td style=\"text-align: right;\"> 2712.27  </td><td style=\"text-align: right;\">                  2748</td><td style=\"text-align: right;\">                           201</td><td>uncertainty_max_margin</td><td>MostUncertain_max_margin</td><td>True                             </td><td>False                        </td><td style=\"text-align: right;\">                                            0.86</td><td style=\"text-align: right;\">                            0.01  </td><td style=\"text-align: right;\">                                               0.78</td><td style=\"text-align: right;\">                                            0.99</td><td>True                              </td><td>2020-05-27 20:18:39.241712</td></tr>\n",
       "<tr><td style=\"text-align: right;\">  86</td><td>0b0da2ffd9ba13c6e45e5a2b21ab0e8e</td><td style=\"text-align: right;\">         0.681897</td><td style=\"text-align: right;\">  0.398062</td><td style=\"text-align: right;\">   0.557386</td><td style=\"text-align: right;\"> 2332.92  </td><td style=\"text-align: right;\">                  1866</td><td style=\"text-align: right;\">                           204</td><td>uncertainty_max_margin</td><td>MostUncertain_max_margin</td><td>True                             </td><td>True                         </td><td style=\"text-align: right;\">                                            0.87</td><td style=\"text-align: right;\">                            1e-06 </td><td style=\"text-align: right;\">                                               0.77</td><td style=\"text-align: right;\">                                            0.61</td><td>True                              </td><td>2020-05-27 20:13:44.987291</td></tr>\n",
       "<tr><td style=\"text-align: right;\">  87</td><td>d86326666e1cf9513fc591b6dba574ef</td><td style=\"text-align: right;\">         0.526826</td><td style=\"text-align: right;\">  0.239183</td><td style=\"text-align: right;\">   0.380365</td><td style=\"text-align: right;\"> 1221.74  </td><td style=\"text-align: right;\">                  2709</td><td style=\"text-align: right;\">                           207</td><td>uncertainty_max_margin</td><td>MostUncertain_max_margin</td><td>True                             </td><td>True                         </td><td style=\"text-align: right;\">                                            0.93</td><td style=\"text-align: right;\">                            0.01  </td><td style=\"text-align: right;\">                                               0.57</td><td style=\"text-align: right;\">                                            0.95</td><td>True                              </td><td>2020-05-27 19:51:07.917128</td></tr>\n",
       "<tr><td style=\"text-align: right;\">  88</td><td>35e47f7511bb37a92340d86302714a73</td><td style=\"text-align: right;\">         0.469367</td><td style=\"text-align: right;\">  0.148148</td><td style=\"text-align: right;\">   0.257515</td><td style=\"text-align: right;\">  717.958 </td><td style=\"text-align: right;\">                  2888</td><td style=\"text-align: right;\">                            47</td><td>uncertainty_max_margin</td><td>MostUncertain_max_margin</td><td>True                             </td><td>False                        </td><td style=\"text-align: right;\">                                            0.87</td><td style=\"text-align: right;\">                            0.0001</td><td style=\"text-align: right;\">                                               0.81</td><td style=\"text-align: right;\">                                            0.95</td><td>True                              </td><td>2020-05-27 19:43:35.576833</td></tr>\n",
       "<tr><td style=\"text-align: right;\">  89</td><td>a2087f6f1469128c8d20a68876b203ef</td><td style=\"text-align: right;\">         0.422638</td><td style=\"text-align: right;\">  0.14261 </td><td style=\"text-align: right;\">   0.249371</td><td style=\"text-align: right;\">  749.28  </td><td style=\"text-align: right;\">                  2888</td><td style=\"text-align: right;\">                            23</td><td>uncertainty_max_margin</td><td>MostUncertain_max_margin</td><td>True                             </td><td>True                         </td><td style=\"text-align: right;\">                                            0.92</td><td style=\"text-align: right;\">                            1e-06 </td><td style=\"text-align: right;\">                                               0.9 </td><td style=\"text-align: right;\">                                            0.97</td><td>True                              </td><td>2020-05-27 19:43:15.021704</td></tr>\n",
       "</tbody>\n",
       "</table>"
      ],
      "text/plain": [
       "<IPython.core.display.HTML object>"
      ]
     },
     "metadata": {},
     "output_type": "display_data"
    }
   ],
   "source": [
    "#  SELECT param_list_id, avg(fit_score), stddev(fit_score), avg(global_score), stddev(global_score), avg(start_set_size) as sss, count(*) FROM experimentresult WHERE start_set_size = 1 GROUP BY param_list_id ORDER BY 7 DESC, 4 DESC LIMIT 30;\n",
    "from datetime import datetime, timedelta\n",
    "\n",
    "# & (ExperimentResult.experiment_run_date > (datetime(2020, 3, 24, 14, 0))) # no stopping criterias\n",
    "#  & (ExperimentResult.experiment_run_date > (datetime(2020, 3, 30, 12, 23))) # optics\n",
    "\n",
    "\n",
    "results = (\n",
    "    ExperimentResult.select(ExperimentResult.param_list_id,)\n",
    "    .where(\n",
    "        # (ExperimentResult.amount_of_user_asked_queries < 211)\n",
    "        (ExperimentResult.dataset_name == \"dwtc\")\n",
    "        # & (ExperimentResult.experiment_run_date > (datetime(2020, 3, 24, 14, 0)))\n",
    "        # & (ExperimentResult.experiment_run_date > (datetime(2020, 5, 8, 9, 20)))\n",
    "        # & (ExperimentResult.with_cluster_recommendation == True)\n",
    "        # & (ExperimentResult.with_uncertainty_recommendation == True)\n",
    "        # & (peewee.fn.COUNT(ExperimentResult.id_field) == 3)\n",
    "        # no stopping criterias\n",
    "    )\n",
    "    .order_by(ExperimentResult.acc_test.desc(),)\n",
    "    .limit(100)\n",
    ")\n",
    "\n",
    "table = []\n",
    "id = 0\n",
    "for result in results:\n",
    "    data = {**{\"id\": id}, **vars(result)}\n",
    "    data[\"param_list_id\"] = data[\"__data__\"][\"param_list_id\"]\n",
    "    del data[\"__data__\"]\n",
    "    del data[\"_dirty\"]\n",
    "    del data[\"__rel__\"]\n",
    "\n",
    "    # get one param_list_id\n",
    "\n",
    "    one_param_list_id_result = (\n",
    "        ExperimentResult.select(\n",
    "            ExperimentResult.acc_test_oracle,\n",
    "            ExperimentResult.acc_test,\n",
    "            ExperimentResult.fit_score,\n",
    "            ExperimentResult.fit_time,\n",
    "            ExperimentResult.amount_of_all_labels,\n",
    "            ExperimentResult.amount_of_user_asked_queries,\n",
    "            # ExperimentResult.classifier,\n",
    "            # ExperimentResult.test_fraction,\n",
    "            ExperimentResult.sampling,\n",
    "            ExperimentResult.cluster,\n",
    "            # ExperimentResult.nr_queries_per_iteration,\n",
    "            ExperimentResult.with_uncertainty_recommendation,\n",
    "            ExperimentResult.with_cluster_recommendation,\n",
    "            ExperimentResult.uncertainty_recommendation_certainty_threshold,\n",
    "            ExperimentResult.uncertainty_recommendation_ratio,\n",
    "            ExperimentResult.cluster_recommendation_minimum_cluster_unity_size,\n",
    "            ExperimentResult.cluster_recommendation_ratio_labeled_unlabeled,\n",
    "            ExperimentResult.allow_recommendations_after_stop,\n",
    "            # ExperimentResult.stopping_criteria_uncertainty,\n",
    "            # ExperimentResult.stopping_criteria_acc,\n",
    "            # ExperimentResult.stopping_criteria_std,\n",
    "            ExperimentResult.experiment_run_date,\n",
    "        )\n",
    "        .where(ExperimentResult.param_list_id == data[\"param_list_id\"])\n",
    "        .limit(1)\n",
    "    )[0]\n",
    "\n",
    "    data = {**data, **vars(one_param_list_id_result)[\"__data__\"]}\n",
    "\n",
    "    table.append(data)\n",
    "    id += 1\n",
    "\n",
    "display(HTML(tabulate(table, headers=\"keys\", tablefmt=\"html\")))"
   ]
  },
  {
   "cell_type": "code",
   "execution_count": null,
   "metadata": {},
   "outputs": [],
   "source": []
  },
  {
   "cell_type": "code",
   "execution_count": null,
   "metadata": {},
   "outputs": [],
   "source": []
  }
 ],
 "metadata": {
  "kernelspec": {
   "display_name": "Python 3",
   "language": "python",
   "name": "python3"
  },
  "language_info": {
   "codemirror_mode": {
    "name": "ipython",
    "version": 3
   },
   "file_extension": ".py",
   "mimetype": "text/x-python",
   "name": "python",
   "nbconvert_exporter": "python",
   "pygments_lexer": "ipython3",
   "version": "3.8.2"
  }
 },
 "nbformat": 4,
 "nbformat_minor": 4
}
