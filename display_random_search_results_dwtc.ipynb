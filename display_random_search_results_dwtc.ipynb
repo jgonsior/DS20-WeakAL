{
 "cells": [
  {
   "cell_type": "code",
   "execution_count": 2,
   "metadata": {},
   "outputs": [
    {
     "name": "stderr",
     "output_type": "stream",
     "text": [
      "/home/julius/.local/share/virtualenvs/active-learning-experiments-ZYX8nT5t/lib/python3.8/site-packages/sklearn/utils/deprecation.py:144: FutureWarning: The sklearn.metrics.scorer module is  deprecated in version 0.22 and will be removed in version 0.24. The corresponding classes / functions should instead be imported from sklearn.metrics. Anything that cannot be imported from sklearn.metrics is now part of the private API.\n",
      "  warnings.warn(message, FutureWarning)\n"
     ]
    }
   ],
   "source": [
    "%load_ext lab_black\n",
    "import argparse\n",
    "import contextlib\n",
    "import datetime\n",
    "import io\n",
    "import logging\n",
    "import multiprocessing\n",
    "import os\n",
    "import random\n",
    "import sys\n",
    "from itertools import chain, combinations\n",
    "from timeit import default_timer as timer\n",
    "\n",
    "import altair as alt\n",
    "import altair_viewer\n",
    "import matplotlib.pyplot as plt\n",
    "import numpy as np\n",
    "import pandas as pd\n",
    "import peewee\n",
    "from evolutionary_search import EvolutionaryAlgorithmSearchCV\n",
    "from json_tricks import dumps, loads\n",
    "from playhouse.shortcuts import model_to_dict\n",
    "from scipy.stats import randint, uniform\n",
    "from sklearn.datasets import load_iris\n",
    "from tabulate import tabulate\n",
    "from IPython.core.display import display, HTML\n",
    "\n",
    "from active_learning.cluster_strategies import (\n",
    "    DummyClusterStrategy,\n",
    "    MostUncertainClusterStrategy,\n",
    "    RandomClusterStrategy,\n",
    "    RoundRobinClusterStrategy,\n",
    ")\n",
    "from active_learning.dataStorage import DataStorage\n",
    "from active_learning.experiment_setup_lib import (\n",
    "    ExperimentResult,\n",
    "    classification_report_and_confusion_matrix,\n",
    "    get_db,\n",
    "    get_single_al_run_stats_row,\n",
    "    get_single_al_run_stats_table_header,\n",
    "    load_and_prepare_X_and_Y,\n",
    ")\n",
    "from active_learning.sampling_strategies import (\n",
    "    BoundaryPairSampler,\n",
    "    CommitteeSampler,\n",
    "    RandomSampler,\n",
    "    UncertaintySampler,\n",
    ")\n",
    "\n",
    "alt.renderers.enable(\"altair_viewer\")\n",
    "#  alt.renderers.enable('vegascope')\n",
    "\n",
    "config = {\n",
    "    \"datasets_path\": \"../datasets\",\n",
    "    \"db\": \"tunnel\",\n",
    "    \"param_list_id\": \"best_global_score\",\n",
    "}\n",
    "\n",
    "db = get_db(db_name_or_type=config[\"db\"])"
   ]
  },
  {
   "cell_type": "code",
   "execution_count": 3,
   "metadata": {},
   "outputs": [
    {
     "name": "stdout",
     "output_type": "stream",
     "text": [
      "4,933 orange\n",
      "4,901 sylva\n",
      "4,942 hiva\n",
      "4,956 ibn_sina\n",
      "4,871 zebra\n",
      "60,721 dwtc\n"
     ]
    }
   ],
   "source": [
    "# select count(*), dataset_name from experimentresult group by dataset_name;\n",
    "results = ExperimentResult.select(\n",
    "    ExperimentResult.dataset_name,\n",
    "    peewee.fn.COUNT(ExperimentResult.id_field).alias(\"dataset_name_count\"),\n",
    ").group_by(ExperimentResult.dataset_name)\n",
    "\n",
    "for result in results:\n",
    "    print(\"{:>4,d} {}\".format(result.dataset_name_count, result.dataset_name))"
   ]
  },
  {
   "cell_type": "code",
   "execution_count": 4,
   "metadata": {},
   "outputs": [
    {
     "data": {
      "text/html": [
       "<table>\n",
       "<thead>\n",
       "<tr><th style=\"text-align: right;\">  id</th><th>param_list_id                   </th><th style=\"text-align: right;\">  acc_test</th><th style=\"text-align: right;\">  fit_score</th><th style=\"text-align: right;\">  global_score_no_weak_acc</th><th style=\"text-align: right;\">  amount_of_user_asked_queries</th><th>classifier  </th><th>dataset_name  </th><th style=\"text-align: right;\">  test_fraction</th><th>sampling              </th><th>cluster                 </th><th style=\"text-align: right;\">  nr_queries_per_iteration</th><th>with_uncertainty_recommendation  </th><th>with_cluster_recommendation  </th><th style=\"text-align: right;\">  uncertainty_recommendation_certainty_threshold</th><th style=\"text-align: right;\">  uncertainty_recommendation_ratio</th><th style=\"text-align: right;\">  cluster_recommendation_minimum_cluster_unity_size</th><th style=\"text-align: right;\">  cluster_recommendation_ratio_labeled_unlabeled</th><th>allow_recommendations_after_stop  </th><th style=\"text-align: right;\">  stopping_criteria_uncertainty</th><th style=\"text-align: right;\">  stopping_criteria_acc</th><th style=\"text-align: right;\">  stopping_criteria_std</th><th>experiment_run_date       </th></tr>\n",
       "</thead>\n",
       "<tbody>\n",
       "<tr><td style=\"text-align: right;\">   0</td><td>400ffd284ad157e1871abf681de85ec9</td><td style=\"text-align: right;\">  0.958008</td><td style=\"text-align: right;\">   0.963039</td><td style=\"text-align: right;\">                 0.913842 </td><td style=\"text-align: right;\">                           980</td><td>RF          </td><td>zebra         </td><td style=\"text-align: right;\">            0.5</td><td>uncertainty_max_margin</td><td>MostUncertain_lc        </td><td style=\"text-align: right;\">                        10</td><td>True                             </td><td>True                         </td><td style=\"text-align: right;\">                                        0.951518</td><td style=\"text-align: right;\">                            0.001 </td><td style=\"text-align: right;\">                                           0.945348</td><td style=\"text-align: right;\">                                        0.578172</td><td>False                             </td><td style=\"text-align: right;\">                              1</td><td style=\"text-align: right;\">                      1</td><td style=\"text-align: right;\">                      1</td><td>2020-03-26 09:10:43.852526</td></tr>\n",
       "<tr><td style=\"text-align: right;\">   1</td><td>14021e1c72e255c922df4579322009a8</td><td style=\"text-align: right;\">  0.957943</td><td style=\"text-align: right;\">   0.96381 </td><td style=\"text-align: right;\">                 0.913958 </td><td style=\"text-align: right;\">                           930</td><td>RF          </td><td>zebra         </td><td style=\"text-align: right;\">            0.5</td><td>uncertainty_lc        </td><td>MostUncertain_max_margin</td><td style=\"text-align: right;\">                        10</td><td>True                             </td><td>True                         </td><td style=\"text-align: right;\">                                        0.927707</td><td style=\"text-align: right;\">                            0.01  </td><td style=\"text-align: right;\">                                           0.80951 </td><td style=\"text-align: right;\">                                        0.790369</td><td>True                              </td><td style=\"text-align: right;\">                              1</td><td style=\"text-align: right;\">                      1</td><td style=\"text-align: right;\">                      1</td><td>2020-03-29 23:32:41.663255</td></tr>\n",
       "<tr><td style=\"text-align: right;\">   2</td><td>a66cb8f5f97e1a0c0fc6740dfbc83327</td><td style=\"text-align: right;\">  0.957488</td><td style=\"text-align: right;\">   0.971131</td><td style=\"text-align: right;\">                 0.909296 </td><td style=\"text-align: right;\">                           456</td><td>RF          </td><td>zebra         </td><td style=\"text-align: right;\">            0.5</td><td>uncertainty_entropy   </td><td>MostUncertain_entropy   </td><td style=\"text-align: right;\">                        10</td><td>True                             </td><td>True                         </td><td style=\"text-align: right;\">                                        0.733224</td><td style=\"text-align: right;\">                            0.1   </td><td style=\"text-align: right;\">                                           0.745651</td><td style=\"text-align: right;\">                                        0.817867</td><td>False                             </td><td style=\"text-align: right;\">                              1</td><td style=\"text-align: right;\">                      1</td><td style=\"text-align: right;\">                      1</td><td>2020-03-25 15:29:23.000456</td></tr>\n",
       "<tr><td style=\"text-align: right;\">   3</td><td>bfe5b72562d21e138376b9c88f4ff3ca</td><td style=\"text-align: right;\">  0.956447</td><td style=\"text-align: right;\">   0.969615</td><td style=\"text-align: right;\">                 0.895696 </td><td style=\"text-align: right;\">                           518</td><td>RF          </td><td>zebra         </td><td style=\"text-align: right;\">            0.5</td><td>uncertainty_entropy   </td><td>MostUncertain_lc        </td><td style=\"text-align: right;\">                        10</td><td>True                             </td><td>True                         </td><td style=\"text-align: right;\">                                        0.980038</td><td style=\"text-align: right;\">                            0.0001</td><td style=\"text-align: right;\">                                           0.602102</td><td style=\"text-align: right;\">                                        0.928569</td><td>False                             </td><td style=\"text-align: right;\">                              1</td><td style=\"text-align: right;\">                      1</td><td style=\"text-align: right;\">                      1</td><td>2020-03-30 10:54:02.237702</td></tr>\n",
       "<tr><td style=\"text-align: right;\">   4</td><td>b87e70cebd5290dce22e08fd2d828240</td><td style=\"text-align: right;\">  0.956122</td><td style=\"text-align: right;\">   0.974419</td><td style=\"text-align: right;\">                 0.893464 </td><td style=\"text-align: right;\">                           202</td><td>RF          </td><td>zebra         </td><td style=\"text-align: right;\">            0.5</td><td>uncertainty_lc        </td><td>MostUncertain_entropy   </td><td style=\"text-align: right;\">                        10</td><td>True                             </td><td>True                         </td><td style=\"text-align: right;\">                                        0.695022</td><td style=\"text-align: right;\">                            0.1   </td><td style=\"text-align: right;\">                                           0.908576</td><td style=\"text-align: right;\">                                        0.863314</td><td>True                              </td><td style=\"text-align: right;\">                              1</td><td style=\"text-align: right;\">                      1</td><td style=\"text-align: right;\">                      1</td><td>2020-03-28 07:24:35.035273</td></tr>\n",
       "<tr><td style=\"text-align: right;\">   5</td><td>fb92945772d12d33e3b24084f251c0c6</td><td style=\"text-align: right;\">  0.955926</td><td style=\"text-align: right;\">   0.967256</td><td style=\"text-align: right;\">                 0.894563 </td><td style=\"text-align: right;\">                           650</td><td>RF          </td><td>zebra         </td><td style=\"text-align: right;\">            0.5</td><td>uncertainty_lc        </td><td>MostUncertain_lc        </td><td style=\"text-align: right;\">                        10</td><td>True                             </td><td>True                         </td><td style=\"text-align: right;\">                                        0.902119</td><td style=\"text-align: right;\">                            0.0001</td><td style=\"text-align: right;\">                                           0.754432</td><td style=\"text-align: right;\">                                        0.712006</td><td>True                              </td><td style=\"text-align: right;\">                              1</td><td style=\"text-align: right;\">                      1</td><td style=\"text-align: right;\">                      1</td><td>2020-03-26 09:26:57.642647</td></tr>\n",
       "<tr><td style=\"text-align: right;\">   6</td><td>8f166777059c183085028e93faaf10ba</td><td style=\"text-align: right;\">  0.955178</td><td style=\"text-align: right;\">   0.974897</td><td style=\"text-align: right;\">                 0.882877 </td><td style=\"text-align: right;\">                           140</td><td>RF          </td><td>zebra         </td><td style=\"text-align: right;\">            0.5</td><td>uncertainty_lc        </td><td>MostUncertain_lc        </td><td style=\"text-align: right;\">                        10</td><td>True                             </td><td>True                         </td><td style=\"text-align: right;\">                                        0.778951</td><td style=\"text-align: right;\">                            0.1   </td><td style=\"text-align: right;\">                                           0.789256</td><td style=\"text-align: right;\">                                        0.614343</td><td>True                              </td><td style=\"text-align: right;\">                              1</td><td style=\"text-align: right;\">                      1</td><td style=\"text-align: right;\">                      1</td><td>2020-03-26 11:34:35.539123</td></tr>\n",
       "<tr><td style=\"text-align: right;\">   7</td><td>9e84b06042e8cb0c03b8d7ec91475098</td><td style=\"text-align: right;\">  0.955113</td><td style=\"text-align: right;\">   0.976264</td><td style=\"text-align: right;\">                 0.770321 </td><td style=\"text-align: right;\">                            50</td><td>RF          </td><td>zebra         </td><td style=\"text-align: right;\">            0.5</td><td>uncertainty_lc        </td><td>MostUncertain_max_margin</td><td style=\"text-align: right;\">                        10</td><td>True                             </td><td>True                         </td><td style=\"text-align: right;\">                                        0.711062</td><td style=\"text-align: right;\">                            0.1   </td><td style=\"text-align: right;\">                                           0.619883</td><td style=\"text-align: right;\">                                        0.704723</td><td>False                             </td><td style=\"text-align: right;\">                              1</td><td style=\"text-align: right;\">                      1</td><td style=\"text-align: right;\">                      1</td><td>2020-03-29 01:10:20.167619</td></tr>\n",
       "<tr><td style=\"text-align: right;\">   8</td><td>62f3825485db72ee7fee6f39b095db36</td><td style=\"text-align: right;\">  0.954951</td><td style=\"text-align: right;\">   0.965326</td><td style=\"text-align: right;\">                 0.878154 </td><td style=\"text-align: right;\">                           740</td><td>RF          </td><td>zebra         </td><td style=\"text-align: right;\">            0.5</td><td>uncertainty_lc        </td><td>MostUncertain_entropy   </td><td style=\"text-align: right;\">                        10</td><td>True                             </td><td>True                         </td><td style=\"text-align: right;\">                                        0.596726</td><td style=\"text-align: right;\">                            0.001 </td><td style=\"text-align: right;\">                                           0.807041</td><td style=\"text-align: right;\">                                        0.848841</td><td>True                              </td><td style=\"text-align: right;\">                              1</td><td style=\"text-align: right;\">                      1</td><td style=\"text-align: right;\">                      1</td><td>2020-03-30 09:41:27.146305</td></tr>\n",
       "<tr><td style=\"text-align: right;\">   9</td><td>1dc8d89e2277fb576700392ffcf514a3</td><td style=\"text-align: right;\">  0.95482 </td><td style=\"text-align: right;\">   0.975178</td><td style=\"text-align: right;\">                 0.828727 </td><td style=\"text-align: right;\">                           110</td><td>RF          </td><td>zebra         </td><td style=\"text-align: right;\">            0.5</td><td>uncertainty_lc        </td><td>MostUncertain_entropy   </td><td style=\"text-align: right;\">                        10</td><td>True                             </td><td>True                         </td><td style=\"text-align: right;\">                                        0.798407</td><td style=\"text-align: right;\">                            0.1   </td><td style=\"text-align: right;\">                                           0.677045</td><td style=\"text-align: right;\">                                        0.614915</td><td>False                             </td><td style=\"text-align: right;\">                              1</td><td style=\"text-align: right;\">                      1</td><td style=\"text-align: right;\">                      1</td><td>2020-03-27 19:54:59.570851</td></tr>\n",
       "<tr><td style=\"text-align: right;\">  10</td><td>1693987d5482104159c6848994dc570c</td><td style=\"text-align: right;\">  0.954788</td><td style=\"text-align: right;\">   0.975783</td><td style=\"text-align: right;\">                 0.816397 </td><td style=\"text-align: right;\">                            70</td><td>RF          </td><td>zebra         </td><td style=\"text-align: right;\">            0.5</td><td>uncertainty_lc        </td><td>MostUncertain_max_margin</td><td style=\"text-align: right;\">                        10</td><td>True                             </td><td>True                         </td><td style=\"text-align: right;\">                                        0.781549</td><td style=\"text-align: right;\">                            0.1   </td><td style=\"text-align: right;\">                                           0.762764</td><td style=\"text-align: right;\">                                        0.642486</td><td>True                              </td><td style=\"text-align: right;\">                              1</td><td style=\"text-align: right;\">                      1</td><td style=\"text-align: right;\">                      1</td><td>2020-03-26 23:14:45.485285</td></tr>\n",
       "<tr><td style=\"text-align: right;\">  11</td><td>0905b0bf89d97df8995fb1571004c32d</td><td style=\"text-align: right;\">  0.954755</td><td style=\"text-align: right;\">   0.974208</td><td style=\"text-align: right;\">                 0.857393 </td><td style=\"text-align: right;\">                           170</td><td>RF          </td><td>zebra         </td><td style=\"text-align: right;\">            0.5</td><td>random                </td><td>MostUncertain_lc        </td><td style=\"text-align: right;\">                        10</td><td>True                             </td><td>True                         </td><td style=\"text-align: right;\">                                        0.984152</td><td style=\"text-align: right;\">                            0.0001</td><td style=\"text-align: right;\">                                           0.732831</td><td style=\"text-align: right;\">                                        0.77433 </td><td>False                             </td><td style=\"text-align: right;\">                              1</td><td style=\"text-align: right;\">                      1</td><td style=\"text-align: right;\">                      1</td><td>2020-03-28 05:28:37.516487</td></tr>\n",
       "<tr><td style=\"text-align: right;\">  12</td><td>16c34321a5f77a5ca7802f445e458805</td><td style=\"text-align: right;\">  0.954755</td><td style=\"text-align: right;\">   0.973271</td><td style=\"text-align: right;\">                 0.873812 </td><td style=\"text-align: right;\">                           230</td><td>RF          </td><td>zebra         </td><td style=\"text-align: right;\">            0.5</td><td>uncertainty_lc        </td><td>MostUncertain_entropy   </td><td style=\"text-align: right;\">                        10</td><td>True                             </td><td>True                         </td><td style=\"text-align: right;\">                                        0.979992</td><td style=\"text-align: right;\">                            0.1   </td><td style=\"text-align: right;\">                                           0.806985</td><td style=\"text-align: right;\">                                        0.58564 </td><td>False                             </td><td style=\"text-align: right;\">                              1</td><td style=\"text-align: right;\">                      1</td><td style=\"text-align: right;\">                      1</td><td>2020-03-27 17:00:01.017531</td></tr>\n",
       "<tr><td style=\"text-align: right;\">  13</td><td>7e5d12fa799322207e7af608785e5738</td><td style=\"text-align: right;\">  0.954755</td><td style=\"text-align: right;\">   0.975144</td><td style=\"text-align: right;\">                 0.844433 </td><td style=\"text-align: right;\">                           110</td><td>RF          </td><td>zebra         </td><td style=\"text-align: right;\">            0.5</td><td>uncertainty_lc        </td><td>MostUncertain_max_margin</td><td style=\"text-align: right;\">                        10</td><td>True                             </td><td>True                         </td><td style=\"text-align: right;\">                                        0.941721</td><td style=\"text-align: right;\">                            0.0001</td><td style=\"text-align: right;\">                                           0.60022 </td><td style=\"text-align: right;\">                                        0.891119</td><td>False                             </td><td style=\"text-align: right;\">                              1</td><td style=\"text-align: right;\">                      1</td><td style=\"text-align: right;\">                      1</td><td>2020-03-26 09:51:53.418814</td></tr>\n",
       "<tr><td style=\"text-align: right;\">  14</td><td>ec7042f5d9ad1df3f6d48a7e5a52761b</td><td style=\"text-align: right;\">  0.954723</td><td style=\"text-align: right;\">   0.975594</td><td style=\"text-align: right;\">                 0.858344 </td><td style=\"text-align: right;\">                            80</td><td>RF          </td><td>zebra         </td><td style=\"text-align: right;\">            0.5</td><td>uncertainty_max_margin</td><td>MostUncertain_entropy   </td><td style=\"text-align: right;\">                        10</td><td>True                             </td><td>True                         </td><td style=\"text-align: right;\">                                        0.915398</td><td style=\"text-align: right;\">                            0.1   </td><td style=\"text-align: right;\">                                           0.573072</td><td style=\"text-align: right;\">                                        0.78225 </td><td>False                             </td><td style=\"text-align: right;\">                              1</td><td style=\"text-align: right;\">                      1</td><td style=\"text-align: right;\">                      1</td><td>2020-03-29 19:57:40.605056</td></tr>\n",
       "<tr><td style=\"text-align: right;\">  15</td><td>b401fdd862976eb04634218ad11ff698</td><td style=\"text-align: right;\">  0.954723</td><td style=\"text-align: right;\">   0.976837</td><td style=\"text-align: right;\">                -0.0457503</td><td style=\"text-align: right;\">                             0</td><td>RF          </td><td>zebra         </td><td style=\"text-align: right;\">            0.5</td><td>uncertainty_lc        </td><td>random                  </td><td style=\"text-align: right;\">                        10</td><td>True                             </td><td>True                         </td><td style=\"text-align: right;\">                                        0.527693</td><td style=\"text-align: right;\">                            0.0001</td><td style=\"text-align: right;\">                                           0.971219</td><td style=\"text-align: right;\">                                        0.946271</td><td>True                              </td><td style=\"text-align: right;\">                              1</td><td style=\"text-align: right;\">                      1</td><td style=\"text-align: right;\">                      1</td><td>2020-03-26 06:27:08.431886</td></tr>\n",
       "<tr><td style=\"text-align: right;\">  16</td><td>68e1a29abc267374865421b0d36cbba8</td><td style=\"text-align: right;\">  0.954723</td><td style=\"text-align: right;\">   0.974191</td><td style=\"text-align: right;\">                 0.865361 </td><td style=\"text-align: right;\">                           170</td><td>RF          </td><td>zebra         </td><td style=\"text-align: right;\">            0.5</td><td>random                </td><td>MostUncertain_entropy   </td><td style=\"text-align: right;\">                        10</td><td>True                             </td><td>True                         </td><td style=\"text-align: right;\">                                        0.961122</td><td style=\"text-align: right;\">                            0.01  </td><td style=\"text-align: right;\">                                           0.881958</td><td style=\"text-align: right;\">                                        0.672486</td><td>True                              </td><td style=\"text-align: right;\">                              1</td><td style=\"text-align: right;\">                      1</td><td style=\"text-align: right;\">                      1</td><td>2020-03-26 15:51:00.984490</td></tr>\n",
       "<tr><td style=\"text-align: right;\">  17</td><td>79e75b5c76bfbd905ccca38e56a24a75</td><td style=\"text-align: right;\">  0.95469 </td><td style=\"text-align: right;\">   0.974018</td><td style=\"text-align: right;\">                 0.839409 </td><td style=\"text-align: right;\">                           180</td><td>RF          </td><td>zebra         </td><td style=\"text-align: right;\">            0.5</td><td>random                </td><td>dummy                   </td><td style=\"text-align: right;\">                        10</td><td>True                             </td><td>True                         </td><td style=\"text-align: right;\">                                        0.715475</td><td style=\"text-align: right;\">                            0.001 </td><td style=\"text-align: right;\">                                           0.829263</td><td style=\"text-align: right;\">                                        0.760971</td><td>False                             </td><td style=\"text-align: right;\">                              1</td><td style=\"text-align: right;\">                      1</td><td style=\"text-align: right;\">                      1</td><td>2020-03-29 09:35:54.812966</td></tr>\n",
       "<tr><td style=\"text-align: right;\">  18</td><td>5bc97cedf61399ea5b94872b7f5adf0c</td><td style=\"text-align: right;\">  0.95469 </td><td style=\"text-align: right;\">   0.975888</td><td style=\"text-align: right;\">                 0.824843 </td><td style=\"text-align: right;\">                            60</td><td>RF          </td><td>zebra         </td><td style=\"text-align: right;\">            0.5</td><td>random                </td><td>MostUncertain_entropy   </td><td style=\"text-align: right;\">                        10</td><td>True                             </td><td>True                         </td><td style=\"text-align: right;\">                                        0.962377</td><td style=\"text-align: right;\">                            0.01  </td><td style=\"text-align: right;\">                                           0.8356  </td><td style=\"text-align: right;\">                                        0.645979</td><td>False                             </td><td style=\"text-align: right;\">                              1</td><td style=\"text-align: right;\">                      1</td><td style=\"text-align: right;\">                      1</td><td>2020-03-28 07:58:51.689655</td></tr>\n",
       "<tr><td style=\"text-align: right;\">  19</td><td>97b889b81296c16237a150aa054bd200</td><td style=\"text-align: right;\">  0.95469 </td><td style=\"text-align: right;\">   0.97682 </td><td style=\"text-align: right;\">                -0.125281 </td><td style=\"text-align: right;\">                             0</td><td>RF          </td><td>zebra         </td><td style=\"text-align: right;\">            0.5</td><td>random                </td><td>random                  </td><td style=\"text-align: right;\">                        10</td><td>True                             </td><td>True                         </td><td style=\"text-align: right;\">                                        0.656365</td><td style=\"text-align: right;\">                            0.0001</td><td style=\"text-align: right;\">                                           0.737894</td><td style=\"text-align: right;\">                                        0.735626</td><td>True                              </td><td style=\"text-align: right;\">                              1</td><td style=\"text-align: right;\">                      1</td><td style=\"text-align: right;\">                      1</td><td>2020-03-26 21:43:00.783043</td></tr>\n",
       "</tbody>\n",
       "</table>"
      ],
      "text/plain": [
       "<IPython.core.display.HTML object>"
      ]
     },
     "metadata": {},
     "output_type": "display_data"
    }
   ],
   "source": [
    "#  SELECT param_list_id, avg(fit_score), stddev(fit_score), avg(global_score), stddev(global_score), avg(start_set_size) as sss, count(*) FROM experimentresult WHERE start_set_size = 1 GROUP BY param_list_id ORDER BY 7 DESC, 4 DESC LIMIT 30;\n",
    "from datetime import datetime, timedelta\n",
    "\n",
    "results = (\n",
    "    ExperimentResult.select(\n",
    "        ExperimentResult.param_list_id,\n",
    "        ExperimentResult.acc_test,\n",
    "        ExperimentResult.fit_score,\n",
    "        ExperimentResult.global_score_no_weak_acc,\n",
    "        ExperimentResult.amount_of_user_asked_queries,\n",
    "        ExperimentResult.classifier,\n",
    "        ExperimentResult.global_score_no_weak_acc,\n",
    "        ExperimentResult.amount_of_user_asked_queries,\n",
    "        ExperimentResult.dataset_name,\n",
    "        ExperimentResult.test_fraction,\n",
    "        ExperimentResult.sampling,\n",
    "        ExperimentResult.cluster,\n",
    "        ExperimentResult.nr_queries_per_iteration,\n",
    "        ExperimentResult.with_uncertainty_recommendation,\n",
    "        ExperimentResult.with_cluster_recommendation,\n",
    "        ExperimentResult.uncertainty_recommendation_certainty_threshold,\n",
    "        ExperimentResult.uncertainty_recommendation_ratio,\n",
    "        ExperimentResult.cluster_recommendation_minimum_cluster_unity_size,\n",
    "        ExperimentResult.cluster_recommendation_ratio_labeled_unlabeled,\n",
    "        ExperimentResult.allow_recommendations_after_stop,\n",
    "        ExperimentResult.stopping_criteria_uncertainty,\n",
    "        ExperimentResult.stopping_criteria_acc,\n",
    "        ExperimentResult.stopping_criteria_std,\n",
    "        ExperimentResult.experiment_run_date,\n",
    "    )\n",
    "    .where(\n",
    "        (ExperimentResult.amount_of_user_asked_queries < 1000)\n",
    "        & (ExperimentResult.dataset_name == \"zebra\")\n",
    "        & (\n",
    "            ExperimentResult.experiment_run_date > (datetime(2020, 3, 24, 14, 0))\n",
    "        )  # no stopping criterias\n",
    "    )\n",
    "    .order_by(\n",
    "        # ExperimentResult.id_field.desc(),\n",
    "        ExperimentResult.acc_test.desc(),\n",
    "    )\n",
    "    .limit(20)\n",
    ")\n",
    "\n",
    "# INTERESSANT: selbst wenn es keine Einschränkung bei der Berechnung auf weak/no_weak gibt werden Cluster verwendet!\n",
    "\n",
    "\n",
    "table = []\n",
    "id = 0\n",
    "for result in results:\n",
    "    data = {**{\"id\": id}, **vars(result)[\"__data__\"]}\n",
    "    # data[\"param_list_id\"] = data[\"__data__\"][\"param_list_id\"]\n",
    "    # del data[\"__data__\"]\n",
    "    # del data[\"_dirty\"]\n",
    "    # del data[\"__rel__\"]\n",
    "\n",
    "    # data = {**data, **vars(one_param_list_id_result)[\"__data__\"]}\n",
    "\n",
    "    table.append(data)\n",
    "    id += 1\n",
    "\n",
    "display(HTML(tabulate(table, headers=\"keys\", tablefmt=\"html\")))"
   ]
  },
  {
   "cell_type": "code",
   "execution_count": 5,
   "metadata": {},
   "outputs": [
    {
     "name": "stdout",
     "output_type": "stream",
     "text": [
      "Loaded Top 0 data\n"
     ]
    }
   ],
   "source": [
    "# SELECT id_field, param_list_id, dataset_path, start_set_size as sss, sampling, cluster, allow_recommendations_after_stop as SA, stopping_criteria_uncertainty as SCU, stopping_criteria_std as SCS, stopping_criteria_acc as SCA, amount_of_user_asked_queries as \"#q\", acc_test, fit_score, global_score_norm, thread_id, end_time from experimentresult where param_list_id='31858014d685a3f1ba3e4e32690ddfc3' order by end_time, fit_score desc, param_list_id;\n",
    "loaded_data = {}\n",
    "\n",
    "\n",
    "def pre_fetch_data(top_n=0):\n",
    "    best_param_list_id = table[top_n][\"param_list_id\"]\n",
    "\n",
    "    results = (\n",
    "        ExperimentResult.select()\n",
    "        .where(ExperimentResult.param_list_id == best_param_list_id)\n",
    "        .order_by(ExperimentResult.dataset_name)\n",
    "    )\n",
    "\n",
    "    loaded_data[top_n] = []\n",
    "    for result in results:\n",
    "        loaded_data[top_n].append(result)\n",
    "    print(\"Loaded Top \" + str(top_n) + \" data\")\n",
    "\n",
    "\n",
    "pre_fetch_data(0)"
   ]
  },
  {
   "cell_type": "code",
   "execution_count": 6,
   "metadata": {},
   "outputs": [],
   "source": [
    "def visualise_top_n(top_n=0):\n",
    "    charts = []\n",
    "\n",
    "    alt.renderers.enable(\"html\")\n",
    "\n",
    "    for result in loaded_data[top_n][:]:\n",
    "        metrics = loads(result.metrics_per_al_cycle)\n",
    "        test_data_metrics = [\n",
    "            metrics[\"test_data_metrics\"][0][f][0][\"weighted avg\"]\n",
    "            for f in range(0, len(metrics[\"test_data_metrics\"][0]))\n",
    "        ]\n",
    "        test_acc = [\n",
    "            metrics[\"test_data_metrics\"][0][f][0][\"accuracy\"]\n",
    "            for f in range(0, len(metrics[\"test_data_metrics\"][0]))\n",
    "        ]\n",
    "\n",
    "        data = pd.DataFrame(\n",
    "            {\n",
    "                \"iteration\": range(0, len(metrics[\"all_unlabeled_roc_auc_scores\"])),\n",
    "                \"all_unlabeled_roc_auc_scores\": metrics[\"all_unlabeled_roc_auc_scores\"],\n",
    "                \"query_length\": metrics[\"query_length\"],\n",
    "                \"recommendation\": metrics[\"recommendation\"],\n",
    "                \"query_strong_accuracy_list\": metrics[\"query_strong_accuracy_list\"],\n",
    "                \"f1\": [i[\"f1-score\"] for i in test_data_metrics],\n",
    "                \"test_acc\": test_acc,\n",
    "                #'asked_queries': [sum(metrics['query_length'][:i]) for i in range(0, len(metrics['query_length']))],\n",
    "            }\n",
    "        )\n",
    "\n",
    "        # bar width\n",
    "        data[\"asked_queries\"] = data[\"query_length\"].cumsum()\n",
    "        data[\"asked_queries_end\"] = data[\"asked_queries\"].shift(fill_value=0)\n",
    "\n",
    "        # print(data[['asked_queries', 'query_length']])\n",
    "\n",
    "        data[\"recommendation\"] = data[\"recommendation\"].replace(\n",
    "            {\n",
    "                \"A\": \"Oracle\",\n",
    "                \"C\": \"Weak Cluster\",\n",
    "                \"U\": \"Weak Certainty\",\n",
    "                \"G\": \"Ground Truth\",\n",
    "            }\n",
    "        )\n",
    "\n",
    "        # data = data[:100]\n",
    "\n",
    "        # calculate global score OHNE\n",
    "\n",
    "        chart = (\n",
    "            alt.Chart(data)\n",
    "            .mark_rect(\n",
    "                # point=True,\n",
    "                # line=True,\n",
    "                # interpolate='step-after',\n",
    "            )\n",
    "            .encode(\n",
    "                x=alt.X(\"asked_queries_end\", title=\"#asked queries (weak and oracle)\"),\n",
    "                x2=\"asked_queries\",\n",
    "                color=alt.Color(\"recommendation\", scale=alt.Scale(scheme=\"tableau10\")),\n",
    "                tooltip=[\n",
    "                    \"iteration\",\n",
    "                    \"f1\",\n",
    "                    \"test_acc\",\n",
    "                    \"all_unlabeled_roc_auc_scores\",\n",
    "                    \"query_strong_accuracy_list\",\n",
    "                    \"query_length\",\n",
    "                    \"recommendation\",\n",
    "                ],\n",
    "                # scale=alt.Scale(domain=[0,1])\n",
    "            )\n",
    "            .properties(title=result.dataset_name)\n",
    "            .interactive()\n",
    "        )\n",
    "        charts.append(\n",
    "            alt.hconcat(\n",
    "                chart.encode(\n",
    "                    alt.Y(\n",
    "                        \"all_unlabeled_roc_auc_scores\", scale=alt.Scale(domain=[0, 1])\n",
    "                    )\n",
    "                ).properties(title=result.dataset_name + \": roc_auc\"),\n",
    "                # chart.encode(alt.Y('f1', scale=alt.Scale(domain=[0,1]))).properties(title=result.dataset_name + ': f1'),\n",
    "                chart.encode(\n",
    "                    alt.Y(\"test_acc\", scale=alt.Scale(domain=[0, 1]))\n",
    "                ).properties(title=result.dataset_name + \": test_acc\"),\n",
    "            )\n",
    "        )\n",
    "\n",
    "    return alt.vconcat(*charts).configure()\n",
    "\n",
    "\n",
    "# visualise_top_n(0)"
   ]
  },
  {
   "cell_type": "code",
   "execution_count": 7,
   "metadata": {},
   "outputs": [
    {
     "ename": "KeyError",
     "evalue": "1",
     "output_type": "error",
     "traceback": [
      "\u001b[0;31m---------------------------------------------------------------------------\u001b[0m",
      "\u001b[0;31mKeyError\u001b[0m                                  Traceback (most recent call last)",
      "\u001b[0;32m<ipython-input-7-4c5cf4a1c593>\u001b[0m in \u001b[0;36m<module>\u001b[0;34m\u001b[0m\n\u001b[1;32m    102\u001b[0m     [\n\u001b[1;32m    103\u001b[0m         \u001b[0mloaded_data\u001b[0m\u001b[0;34m[\u001b[0m\u001b[0;36m0\u001b[0m\u001b[0;34m]\u001b[0m\u001b[0;34m,\u001b[0m\u001b[0;34m\u001b[0m\u001b[0;34m\u001b[0m\u001b[0m\n\u001b[0;32m--> 104\u001b[0;31m         \u001b[0mloaded_data\u001b[0m\u001b[0;34m[\u001b[0m\u001b[0;36m1\u001b[0m\u001b[0;34m]\u001b[0m\u001b[0;34m,\u001b[0m\u001b[0;34m\u001b[0m\u001b[0;34m\u001b[0m\u001b[0m\n\u001b[0m\u001b[1;32m    105\u001b[0m         \u001b[0;31m# loaded_data[2],\u001b[0m\u001b[0;34m\u001b[0m\u001b[0;34m\u001b[0m\u001b[0;34m\u001b[0m\u001b[0m\n\u001b[1;32m    106\u001b[0m     ]  # , loaded_data[3], loaded_data[4]]\n",
      "\u001b[0;31mKeyError\u001b[0m: 1"
     ]
    }
   ],
   "source": [
    "def compare_data(datasets):\n",
    "    charts = []\n",
    "\n",
    "    alt.renderers.enable(\"html\")\n",
    "    all_data = pd.DataFrame()\n",
    "\n",
    "    for i, dataset in enumerate(datasets):\n",
    "        for result in dataset:\n",
    "            if result.dataset_name != \"dwtc\":\n",
    "                continue\n",
    "            metrics = loads(result.metrics_per_al_cycle)\n",
    "            test_data_metrics = [\n",
    "                metrics[\"test_data_metrics\"][0][f][0][\"weighted avg\"]\n",
    "                for f in range(0, len(metrics[\"test_data_metrics\"][0]))\n",
    "            ]\n",
    "            test_acc = [\n",
    "                metrics[\"test_data_metrics\"][0][f][0][\"accuracy\"]\n",
    "                for f in range(0, len(metrics[\"test_data_metrics\"][0]))\n",
    "            ]\n",
    "\n",
    "            data = pd.DataFrame(\n",
    "                {\n",
    "                    \"iteration\": range(0, len(metrics[\"all_unlabeled_roc_auc_scores\"])),\n",
    "                    \"all_unlabeled_roc_auc_scores\": metrics[\n",
    "                        \"all_unlabeled_roc_auc_scores\"\n",
    "                    ],\n",
    "                    \"query_length\": metrics[\"query_length\"],\n",
    "                    \"recommendation\": metrics[\"recommendation\"],\n",
    "                    \"query_strong_accuracy_list\": metrics[\"query_strong_accuracy_list\"],\n",
    "                    \"f1\": [i[\"f1-score\"] for i in test_data_metrics],\n",
    "                    \"test_acc\": test_acc,\n",
    "                    \"top_n\": str(i),\n",
    "                    #'asked_queries': [sum(metrics['query_length'][:i]) for i in range(0, len(metrics['query_length']))],\n",
    "                }\n",
    "            )\n",
    "\n",
    "            # bar width\n",
    "            data[\"asked_queries\"] = data[\"query_length\"].cumsum()\n",
    "            data[\"asked_queries_end\"] = data[\"asked_queries\"].shift(fill_value=0)\n",
    "\n",
    "            # print(data[['asked_queries', 'query_length']])\n",
    "\n",
    "            data[\"recommendation\"] = data[\"recommendation\"].replace(\n",
    "                {\n",
    "                    \"A\": \"Oracle\",\n",
    "                    \"C\": \"Weak Cluster\",\n",
    "                    \"U\": \"Weak Certainty\",\n",
    "                    \"G\": \"Ground Truth\",\n",
    "                }\n",
    "            )\n",
    "\n",
    "            all_data = pd.concat([all_data, data])\n",
    "\n",
    "        # data = data[:100]\n",
    "\n",
    "        # calculate global score OHNE\n",
    "\n",
    "    points = (\n",
    "        alt.Chart(all_data,)\n",
    "        .mark_point()\n",
    "        .encode(\n",
    "            x=\"asked_queries:Q\",\n",
    "            y=\"test_acc:Q\",\n",
    "            shape=\"recommendation:N\",\n",
    "            color=\"recommendation:N\",\n",
    "        )\n",
    "    )\n",
    "\n",
    "    lines = (\n",
    "        alt.Chart(all_data,)\n",
    "        .mark_line(interpolate=\"step-before\")\n",
    "        .encode(\n",
    "            x=alt.X(\n",
    "                \"asked_queries:Q\", scale=alt.Scale(domain=[-1, 2900], type=\"linear\")\n",
    "            ),\n",
    "            y=alt.Y(\"test_acc:Q\", scale=alt.Scale(domain=[0.3, 0.82], type=\"linear\")),\n",
    "            color=\"top_n:N\",\n",
    "            # shape=\"top_n\",\n",
    "            # strokeDash=\"top_n\",\n",
    "            # shape=\"recommendation\",\n",
    "            # color=\"recommendation:N\",\n",
    "        )\n",
    "    )\n",
    "\n",
    "    return (\n",
    "        alt.layer(points, lines)\n",
    "        .resolve_scale(color=\"independent\", shape=\"independent\")\n",
    "        .configure_legend(\n",
    "            orient=\"bottom-right\",\n",
    "            padding=10,\n",
    "            fillColor=\"#f1f1f1\",\n",
    "            labelOpacity=0.9,\n",
    "            labelOverlap=True,\n",
    "            # opacity=0.6,\n",
    "        )\n",
    "        .properties(title=\"Comparison of \")\n",
    "        .interactive()\n",
    "    )\n",
    "\n",
    "\n",
    "compare_data(\n",
    "    [\n",
    "        loaded_data[0],\n",
    "        loaded_data[1],\n",
    "        # loaded_data[2],\n",
    "    ]  # , loaded_data[3], loaded_data[4]]\n",
    ")"
   ]
  },
  {
   "cell_type": "code",
   "execution_count": 8,
   "metadata": {},
   "outputs": [
    {
     "data": {
      "text/html": [
       "<div>\n",
       "<style scoped>\n",
       "    .dataframe tbody tr th:only-of-type {\n",
       "        vertical-align: middle;\n",
       "    }\n",
       "\n",
       "    .dataframe tbody tr th {\n",
       "        vertical-align: top;\n",
       "    }\n",
       "\n",
       "    .dataframe thead th {\n",
       "        text-align: right;\n",
       "    }\n",
       "</style>\n",
       "<table border=\"1\" class=\"dataframe\">\n",
       "  <thead>\n",
       "    <tr style=\"text-align: right;\">\n",
       "      <th></th>\n",
       "      <th>0</th>\n",
       "      <th>1</th>\n",
       "    </tr>\n",
       "  </thead>\n",
       "  <tbody>\n",
       "    <tr>\n",
       "      <th>0</th>\n",
       "      <td>9</td>\n",
       "      <td>0.515057</td>\n",
       "    </tr>\n",
       "    <tr>\n",
       "      <th>1</th>\n",
       "      <td>9</td>\n",
       "      <td>0.506750</td>\n",
       "    </tr>\n",
       "    <tr>\n",
       "      <th>2</th>\n",
       "      <td>9</td>\n",
       "      <td>0.481828</td>\n",
       "    </tr>\n",
       "    <tr>\n",
       "      <th>3</th>\n",
       "      <td>9</td>\n",
       "      <td>0.472828</td>\n",
       "    </tr>\n",
       "    <tr>\n",
       "      <th>4</th>\n",
       "      <td>9</td>\n",
       "      <td>0.455175</td>\n",
       "    </tr>\n",
       "    <tr>\n",
       "      <th>...</th>\n",
       "      <td>...</td>\n",
       "      <td>...</td>\n",
       "    </tr>\n",
       "    <tr>\n",
       "      <th>7208</th>\n",
       "      <td>0</td>\n",
       "      <td>0.111803</td>\n",
       "    </tr>\n",
       "    <tr>\n",
       "      <th>7209</th>\n",
       "      <td>0</td>\n",
       "      <td>0.110765</td>\n",
       "    </tr>\n",
       "    <tr>\n",
       "      <th>7210</th>\n",
       "      <td>0</td>\n",
       "      <td>0.109034</td>\n",
       "    </tr>\n",
       "    <tr>\n",
       "      <th>7211</th>\n",
       "      <td>0</td>\n",
       "      <td>0.099342</td>\n",
       "    </tr>\n",
       "    <tr>\n",
       "      <th>7212</th>\n",
       "      <td>0</td>\n",
       "      <td>0.079612</td>\n",
       "    </tr>\n",
       "  </tbody>\n",
       "</table>\n",
       "<p>7213 rows × 2 columns</p>\n",
       "</div>"
      ],
      "text/plain": [
       "      0         1\n",
       "0     9  0.515057\n",
       "1     9  0.506750\n",
       "2     9  0.481828\n",
       "3     9  0.472828\n",
       "4     9  0.455175\n",
       "...  ..       ...\n",
       "7208  0  0.111803\n",
       "7209  0  0.110765\n",
       "7210  0  0.109034\n",
       "7211  0  0.099342\n",
       "7212  0  0.079612\n",
       "\n",
       "[7213 rows x 2 columns]"
      ]
     },
     "execution_count": 8,
     "metadata": {},
     "output_type": "execute_result"
    }
   ],
   "source": [
    "results = (\n",
    "    ExperimentResult.select(\n",
    "        ExperimentResult.amount_of_user_asked_queries, ExperimentResult.acc_test,\n",
    "    ).where(\n",
    "        # (ExperimentResult.stopping_criteria_acc == 1)\n",
    "        # & (ExperimentResult.stopping_criteria_std == 1)\n",
    "        # & (ExperimentResult.stopping_criteria_uncertainty == 1)\n",
    "        # & (ExperimentResult.sampling == \"random\")\n",
    "        #  & (ExperimentResult.cluster == \"random\")\n",
    "        # & (ExperimentResult.amount_of_user_asked_queries == 10)\n",
    "        # & (ExperimentResult.with_cluster_recommendation == True)\n",
    "        # & (ExperimentResult.with_uncertainty_recommendation == True)\n",
    "        (ExperimentResult.amount_of_user_asked_queries < 10)\n",
    "        & (ExperimentResult.dataset_name == \"dwtc\")\n",
    "        & (\n",
    "            ExperimentResult.experiment_run_date > (datetime(2020, 3, 24, 14, 0))\n",
    "        )  # no stopping criterias\n",
    "    )\n",
    "    #  .group_by(ExperimentResult.amount_of_user_asked_queries)\n",
    "    .order_by(\n",
    "        ExperimentResult.amount_of_user_asked_queries.desc(),\n",
    "        ExperimentResult.acc_test.desc()\n",
    "        #  peewee.fn.MAX(ExperimentResult.acc_test)\n",
    "        #  peewee.fn.COUNT(ExperimentResult.).desc(),\n",
    "        #  peewee.fn.AVG(ORDER_BY).desc(),\n",
    "    )\n",
    "    #  .limit(10)\n",
    ")\n",
    "data = []\n",
    "for result in results:\n",
    "    data.append((result.amount_of_user_asked_queries, result.acc_test))\n",
    "    #  print(\"{}\\t{}\".format(result.amount_of_user_asked_queries, result.max))\n",
    "pd.DataFrame(data)"
   ]
  },
  {
   "cell_type": "code",
   "execution_count": 10,
   "metadata": {},
   "outputs": [
    {
     "data": {
      "text/html": [
       "<table>\n",
       "<thead>\n",
       "<tr><th style=\"text-align: right;\">  id</th><th style=\"text-align: right;\">  avg_fit_score</th><th style=\"text-align: right;\">  stddev_fit_score</th><th style=\"text-align: right;\">  avg_global_score</th><th style=\"text-align: right;\">  stddev_global_score</th><th style=\"text-align: right;\">  avg_amount_oracle</th><th style=\"text-align: right;\">  std_amount_oracle</th><th style=\"text-align: right;\">  count</th><th>param_list_id                   </th></tr>\n",
       "</thead>\n",
       "<tbody>\n",
       "<tr><td style=\"text-align: right;\">   0</td><td style=\"text-align: right;\">       0.862689</td><td style=\"text-align: right;\">        0.00102836</td><td style=\"text-align: right;\">          0.610372</td><td style=\"text-align: right;\">           0.00662775</td><td style=\"text-align: right;\">                210</td><td style=\"text-align: right;\">                  0</td><td style=\"text-align: right;\">      3</td><td>1fc28c6337f490f660e217efcf890664</td></tr>\n",
       "</tbody>\n",
       "</table>"
      ],
      "text/plain": [
       "<IPython.core.display.HTML object>"
      ]
     },
     "metadata": {},
     "output_type": "display_data"
    },
    {
     "data": {
      "text/html": [
       "<table>\n",
       "<thead>\n",
       "<tr><th>recommendation  </th><th style=\"text-align: right;\">  iteration</th><th style=\"text-align: right;\">  all_unlabeled_roc_auc_scores</th><th style=\"text-align: right;\">  query_length</th><th style=\"text-align: right;\">  query_strong_accuracy_list</th><th style=\"text-align: right;\">       f1</th><th style=\"text-align: right;\">  test_acc</th><th style=\"text-align: right;\">  fit_score</th><th style=\"text-align: right;\">  acc_diff</th></tr>\n",
       "</thead>\n",
       "<tbody>\n",
       "<tr><td>A               </td><td style=\"text-align: right;\">        231</td><td style=\"text-align: right;\">                     18.6817  </td><td style=\"text-align: right;\">           210</td><td style=\"text-align: right;\">                           0</td><td style=\"text-align: right;\">15.1309  </td><td style=\"text-align: right;\">  15.4105 </td><td style=\"text-align: right;\">  18.104   </td><td style=\"text-align: right;\">  0.456559</td></tr>\n",
       "<tr><td>G               </td><td style=\"text-align: right;\">          0</td><td style=\"text-align: right;\">                      0.461268</td><td style=\"text-align: right;\">             4</td><td style=\"text-align: right;\">                           0</td><td style=\"text-align: right;\"> 0.347772</td><td style=\"text-align: right;\">   0.34891</td><td style=\"text-align: right;\">   0.862095</td><td style=\"text-align: right;\">  0       </td></tr>\n",
       "</tbody>\n",
       "</table>"
      ],
      "text/plain": [
       "<IPython.core.display.HTML object>"
      ]
     },
     "metadata": {},
     "output_type": "display_data"
    },
    {
     "data": {
      "text/html": [
       "<table>\n",
       "<thead>\n",
       "<tr><th style=\"text-align: right;\">  id</th><th style=\"text-align: right;\">  avg_fit_score</th><th style=\"text-align: right;\">  stddev_fit_score</th><th style=\"text-align: right;\">  avg_global_score</th><th style=\"text-align: right;\">  stddev_global_score</th><th style=\"text-align: right;\">  avg_amount_oracle</th><th style=\"text-align: right;\">  std_amount_oracle</th><th style=\"text-align: right;\">  count</th><th>param_list_id                   </th></tr>\n",
       "</thead>\n",
       "<tbody>\n",
       "<tr><td style=\"text-align: right;\">   0</td><td style=\"text-align: right;\">       0.828293</td><td style=\"text-align: right;\">        0.00284917</td><td style=\"text-align: right;\">          0.470846</td><td style=\"text-align: right;\">            0.0560511</td><td style=\"text-align: right;\">                205</td><td style=\"text-align: right;\">                  2</td><td style=\"text-align: right;\">      3</td><td>89ae8d838bc43213045ac997791f12f6</td></tr>\n",
       "</tbody>\n",
       "</table>"
      ],
      "text/plain": [
       "<IPython.core.display.HTML object>"
      ]
     },
     "metadata": {},
     "output_type": "display_data"
    },
    {
     "data": {
      "text/html": [
       "<table>\n",
       "<thead>\n",
       "<tr><th>recommendation  </th><th style=\"text-align: right;\">  iteration</th><th style=\"text-align: right;\">  all_unlabeled_roc_auc_scores</th><th style=\"text-align: right;\">  query_length</th><th style=\"text-align: right;\">  query_strong_accuracy_list</th><th style=\"text-align: right;\">       f1</th><th style=\"text-align: right;\">  test_acc</th><th style=\"text-align: right;\">  fit_score</th><th style=\"text-align: right;\">  acc_diff</th></tr>\n",
       "</thead>\n",
       "<tbody>\n",
       "<tr><td>A               </td><td style=\"text-align: right;\">       1379</td><td style=\"text-align: right;\">                     41.0175  </td><td style=\"text-align: right;\">           208</td><td style=\"text-align: right;\">                           0</td><td style=\"text-align: right;\">31.4377  </td><td style=\"text-align: right;\"> 31.9474  </td><td style=\"text-align: right;\">  39.6681  </td><td style=\"text-align: right;\">  0.396331</td></tr>\n",
       "<tr><td>C               </td><td style=\"text-align: right;\">        217</td><td style=\"text-align: right;\">                      6.70535 </td><td style=\"text-align: right;\">           124</td><td style=\"text-align: right;\">                           8</td><td style=\"text-align: right;\"> 4.88276 </td><td style=\"text-align: right;\">  5.01315 </td><td style=\"text-align: right;\">   6.61134 </td><td style=\"text-align: right;\"> -0.086189</td></tr>\n",
       "<tr><td>G               </td><td style=\"text-align: right;\">          0</td><td style=\"text-align: right;\">                      0.692431</td><td style=\"text-align: right;\">             4</td><td style=\"text-align: right;\">                           0</td><td style=\"text-align: right;\"> 0.454438</td><td style=\"text-align: right;\">  0.434753</td><td style=\"text-align: right;\">   0.826418</td><td style=\"text-align: right;\">  0       </td></tr>\n",
       "</tbody>\n",
       "</table>"
      ],
      "text/plain": [
       "<IPython.core.display.HTML object>"
      ]
     },
     "metadata": {},
     "output_type": "display_data"
    },
    {
     "data": {
      "text/html": [
       "<table>\n",
       "<thead>\n",
       "<tr><th style=\"text-align: right;\">  id</th><th style=\"text-align: right;\">  avg_fit_score</th><th style=\"text-align: right;\">  stddev_fit_score</th><th style=\"text-align: right;\">  avg_global_score</th><th style=\"text-align: right;\">  stddev_global_score</th><th style=\"text-align: right;\">  avg_amount_oracle</th><th style=\"text-align: right;\">  std_amount_oracle</th><th style=\"text-align: right;\">  count</th><th>param_list_id                   </th></tr>\n",
       "</thead>\n",
       "<tbody>\n",
       "<tr><td style=\"text-align: right;\">   0</td><td style=\"text-align: right;\">       0.824131</td><td style=\"text-align: right;\">         0.0057425</td><td style=\"text-align: right;\">          0.416114</td><td style=\"text-align: right;\">            0.0490137</td><td style=\"text-align: right;\">                202</td><td style=\"text-align: right;\">                  0</td><td style=\"text-align: right;\">      3</td><td>20886121829004cdf8033c640cc44430</td></tr>\n",
       "</tbody>\n",
       "</table>"
      ],
      "text/plain": [
       "<IPython.core.display.HTML object>"
      ]
     },
     "metadata": {},
     "output_type": "display_data"
    },
    {
     "data": {
      "text/html": [
       "<table>\n",
       "<thead>\n",
       "<tr><th>recommendation  </th><th style=\"text-align: right;\">  iteration</th><th style=\"text-align: right;\">  all_unlabeled_roc_auc_scores</th><th style=\"text-align: right;\">  query_length</th><th style=\"text-align: right;\">  query_strong_accuracy_list</th><th style=\"text-align: right;\">       f1</th><th style=\"text-align: right;\">  test_acc</th><th style=\"text-align: right;\">  fit_score</th><th style=\"text-align: right;\">  acc_diff</th></tr>\n",
       "</thead>\n",
       "<tbody>\n",
       "<tr><td>A               </td><td style=\"text-align: right;\">       1326</td><td style=\"text-align: right;\">                     42.8629  </td><td style=\"text-align: right;\">           203</td><td style=\"text-align: right;\">                           0</td><td style=\"text-align: right;\">29.5218  </td><td style=\"text-align: right;\"> 30.7688  </td><td style=\"text-align: right;\">  42.345   </td><td style=\"text-align: right;\">  0.365524</td></tr>\n",
       "<tr><td>G               </td><td style=\"text-align: right;\">          0</td><td style=\"text-align: right;\">                      0.692151</td><td style=\"text-align: right;\">             4</td><td style=\"text-align: right;\">                           0</td><td style=\"text-align: right;\"> 0.348198</td><td style=\"text-align: right;\">  0.384562</td><td style=\"text-align: right;\">   0.830294</td><td style=\"text-align: right;\">  0       </td></tr>\n",
       "</tbody>\n",
       "</table>"
      ],
      "text/plain": [
       "<IPython.core.display.HTML object>"
      ]
     },
     "metadata": {},
     "output_type": "display_data"
    },
    {
     "data": {
      "text/html": [
       "<table>\n",
       "<thead>\n",
       "<tr><th style=\"text-align: right;\">  id</th><th style=\"text-align: right;\">  avg_fit_score</th><th style=\"text-align: right;\">  stddev_fit_score</th><th style=\"text-align: right;\">  avg_global_score</th><th style=\"text-align: right;\">  stddev_global_score</th><th style=\"text-align: right;\">  avg_amount_oracle</th><th style=\"text-align: right;\">  std_amount_oracle</th><th style=\"text-align: right;\">  count</th><th>param_list_id                   </th></tr>\n",
       "</thead>\n",
       "<tbody>\n",
       "<tr><td style=\"text-align: right;\">   0</td><td style=\"text-align: right;\">       0.824352</td><td style=\"text-align: right;\">        0.00871912</td><td style=\"text-align: right;\">          0.478214</td><td style=\"text-align: right;\">            0.0356563</td><td style=\"text-align: right;\">                204</td><td style=\"text-align: right;\">                  1</td><td style=\"text-align: right;\">      3</td><td>3083a697a26eaecc588773e56ee2d1d5</td></tr>\n",
       "</tbody>\n",
       "</table>"
      ],
      "text/plain": [
       "<IPython.core.display.HTML object>"
      ]
     },
     "metadata": {},
     "output_type": "display_data"
    },
    {
     "data": {
      "text/html": [
       "<table>\n",
       "<thead>\n",
       "<tr><th>recommendation  </th><th style=\"text-align: right;\">  iteration</th><th style=\"text-align: right;\">  all_unlabeled_roc_auc_scores</th><th style=\"text-align: right;\">  query_length</th><th style=\"text-align: right;\">  query_strong_accuracy_list</th><th style=\"text-align: right;\">       f1</th><th style=\"text-align: right;\">  test_acc</th><th style=\"text-align: right;\">  fit_score</th><th style=\"text-align: right;\">  acc_diff</th></tr>\n",
       "</thead>\n",
       "<tbody>\n",
       "<tr><td>A               </td><td style=\"text-align: right;\">       1177</td><td style=\"text-align: right;\">                     35.2161  </td><td style=\"text-align: right;\">           203</td><td style=\"text-align: right;\">                           0</td><td style=\"text-align: right;\">24.7714  </td><td style=\"text-align: right;\"> 25.1094  </td><td style=\"text-align: right;\">  34.9257  </td><td style=\"text-align: right;\"> 0.384562 </td></tr>\n",
       "<tr><td>C               </td><td style=\"text-align: right;\">        201</td><td style=\"text-align: right;\">                      8.19993 </td><td style=\"text-align: right;\">           138</td><td style=\"text-align: right;\">                          10</td><td style=\"text-align: right;\"> 5.32409 </td><td style=\"text-align: right;\">  5.44894 </td><td style=\"text-align: right;\">   8.31565 </td><td style=\"text-align: right;\"> 0.0311526</td></tr>\n",
       "<tr><td>G               </td><td style=\"text-align: right;\">          0</td><td style=\"text-align: right;\">                      0.687968</td><td style=\"text-align: right;\">             4</td><td style=\"text-align: right;\">                           0</td><td style=\"text-align: right;\"> 0.297591</td><td style=\"text-align: right;\">  0.336449</td><td style=\"text-align: right;\">   0.831565</td><td style=\"text-align: right;\"> 0        </td></tr>\n",
       "</tbody>\n",
       "</table>"
      ],
      "text/plain": [
       "<IPython.core.display.HTML object>"
      ]
     },
     "metadata": {},
     "output_type": "display_data"
    },
    {
     "data": {
      "text/html": [
       "<table>\n",
       "<thead>\n",
       "<tr><th style=\"text-align: right;\">  id</th><th style=\"text-align: right;\">  avg_fit_score</th><th style=\"text-align: right;\">  stddev_fit_score</th><th style=\"text-align: right;\">  avg_global_score</th><th style=\"text-align: right;\">  stddev_global_score</th><th style=\"text-align: right;\">  avg_amount_oracle</th><th style=\"text-align: right;\">  std_amount_oracle</th><th style=\"text-align: right;\">  count</th><th>param_list_id                   </th></tr>\n",
       "</thead>\n",
       "<tbody>\n",
       "<tr><td style=\"text-align: right;\">   0</td><td style=\"text-align: right;\">       0.817436</td><td style=\"text-align: right;\">         0.0210207</td><td style=\"text-align: right;\">          0.471838</td><td style=\"text-align: right;\">            0.0226446</td><td style=\"text-align: right;\">                202</td><td style=\"text-align: right;\">                  0</td><td style=\"text-align: right;\">      3</td><td>e1ac5d25323cc08daf685f5f140c2af0</td></tr>\n",
       "</tbody>\n",
       "</table>"
      ],
      "text/plain": [
       "<IPython.core.display.HTML object>"
      ]
     },
     "metadata": {},
     "output_type": "display_data"
    },
    {
     "data": {
      "text/html": [
       "<table>\n",
       "<thead>\n",
       "<tr><th>recommendation  </th><th style=\"text-align: right;\">  iteration</th><th style=\"text-align: right;\">  all_unlabeled_roc_auc_scores</th><th style=\"text-align: right;\">  query_length</th><th style=\"text-align: right;\">  query_strong_accuracy_list</th><th style=\"text-align: right;\">       f1</th><th style=\"text-align: right;\">  test_acc</th><th style=\"text-align: right;\">  fit_score</th><th style=\"text-align: right;\">  acc_diff</th></tr>\n",
       "</thead>\n",
       "<tbody>\n",
       "<tr><td>A               </td><td style=\"text-align: right;\">       1289</td><td style=\"text-align: right;\">                     38.8414  </td><td style=\"text-align: right;\">           203</td><td style=\"text-align: right;\">                           0</td><td style=\"text-align: right;\">27.9335  </td><td style=\"text-align: right;\"> 28.8221  </td><td style=\"text-align: right;\">  38.5305  </td><td style=\"text-align: right;\">  0.468328</td></tr>\n",
       "<tr><td>C               </td><td style=\"text-align: right;\">        196</td><td style=\"text-align: right;\">                      5.75765 </td><td style=\"text-align: right;\">            42</td><td style=\"text-align: right;\">                           6</td><td style=\"text-align: right;\"> 4.1855  </td><td style=\"text-align: right;\">  4.28487 </td><td style=\"text-align: right;\">   5.73858 </td><td style=\"text-align: right;\"> -0.146071</td></tr>\n",
       "<tr><td>G               </td><td style=\"text-align: right;\">          0</td><td style=\"text-align: right;\">                      0.694023</td><td style=\"text-align: right;\">             4</td><td style=\"text-align: right;\">                           0</td><td style=\"text-align: right;\"> 0.399575</td><td style=\"text-align: right;\">  0.410869</td><td style=\"text-align: right;\">   0.819797</td><td style=\"text-align: right;\">  0       </td></tr>\n",
       "</tbody>\n",
       "</table>"
      ],
      "text/plain": [
       "<IPython.core.display.HTML object>"
      ]
     },
     "metadata": {},
     "output_type": "display_data"
    },
    {
     "data": {
      "text/html": [
       "<table>\n",
       "<thead>\n",
       "<tr><th style=\"text-align: right;\">  id</th><th style=\"text-align: right;\">  avg_fit_score</th><th style=\"text-align: right;\">  stddev_fit_score</th><th style=\"text-align: right;\">  avg_global_score</th><th style=\"text-align: right;\">  stddev_global_score</th><th style=\"text-align: right;\">  avg_amount_oracle</th><th style=\"text-align: right;\">  std_amount_oracle</th><th style=\"text-align: right;\">  count</th><th>param_list_id                   </th></tr>\n",
       "</thead>\n",
       "<tbody>\n",
       "<tr><td style=\"text-align: right;\">   0</td><td style=\"text-align: right;\">       0.817193</td><td style=\"text-align: right;\">         0.0138386</td><td style=\"text-align: right;\">          0.413304</td><td style=\"text-align: right;\">            0.0788551</td><td style=\"text-align: right;\">                201</td><td style=\"text-align: right;\">                  0</td><td style=\"text-align: right;\">      3</td><td>72ddd64e908c10010735f6958253fd75</td></tr>\n",
       "</tbody>\n",
       "</table>"
      ],
      "text/plain": [
       "<IPython.core.display.HTML object>"
      ]
     },
     "metadata": {},
     "output_type": "display_data"
    },
    {
     "data": {
      "text/html": [
       "<table>\n",
       "<thead>\n",
       "<tr><th>recommendation  </th><th style=\"text-align: right;\">  iteration</th><th style=\"text-align: right;\">  all_unlabeled_roc_auc_scores</th><th style=\"text-align: right;\">  query_length</th><th style=\"text-align: right;\">  query_strong_accuracy_list</th><th style=\"text-align: right;\">       f1</th><th style=\"text-align: right;\">  test_acc</th><th style=\"text-align: right;\">  fit_score</th><th style=\"text-align: right;\">  acc_diff</th></tr>\n",
       "</thead>\n",
       "<tbody>\n",
       "<tr><td>A               </td><td style=\"text-align: right;\">       1727</td><td style=\"text-align: right;\">                     44.6702  </td><td style=\"text-align: right;\">           201</td><td style=\"text-align: right;\">                           0</td><td style=\"text-align: right;\">28.3793  </td><td style=\"text-align: right;\"> 29.3925  </td><td style=\"text-align: right;\">  45.249   </td><td style=\"text-align: right;\">0.473866  </td></tr>\n",
       "<tr><td>C               </td><td style=\"text-align: right;\">        164</td><td style=\"text-align: right;\">                      4.09633 </td><td style=\"text-align: right;\">            29</td><td style=\"text-align: right;\">                           5</td><td style=\"text-align: right;\"> 2.67165 </td><td style=\"text-align: right;\">  2.76982 </td><td style=\"text-align: right;\">   4.04009 </td><td style=\"text-align: right;\">0.00623053</td></tr>\n",
       "<tr><td>G               </td><td style=\"text-align: right;\">          0</td><td style=\"text-align: right;\">                      0.701035</td><td style=\"text-align: right;\">             4</td><td style=\"text-align: right;\">                           0</td><td style=\"text-align: right;\"> 0.197231</td><td style=\"text-align: right;\">  0.233991</td><td style=\"text-align: right;\">   0.808018</td><td style=\"text-align: right;\">0         </td></tr>\n",
       "</tbody>\n",
       "</table>"
      ],
      "text/plain": [
       "<IPython.core.display.HTML object>"
      ]
     },
     "metadata": {},
     "output_type": "display_data"
    },
    {
     "data": {
      "text/html": [
       "<table>\n",
       "<thead>\n",
       "<tr><th style=\"text-align: right;\">  id</th><th style=\"text-align: right;\">  avg_fit_score</th><th style=\"text-align: right;\">  stddev_fit_score</th><th style=\"text-align: right;\">  avg_global_score</th><th style=\"text-align: right;\">  stddev_global_score</th><th style=\"text-align: right;\">  avg_amount_oracle</th><th style=\"text-align: right;\">  std_amount_oracle</th><th style=\"text-align: right;\">  count</th><th>param_list_id                   </th></tr>\n",
       "</thead>\n",
       "<tbody>\n",
       "<tr><td style=\"text-align: right;\">   0</td><td style=\"text-align: right;\">       0.816021</td><td style=\"text-align: right;\">         0.0106201</td><td style=\"text-align: right;\">           0.41657</td><td style=\"text-align: right;\">            0.0557495</td><td style=\"text-align: right;\">                203</td><td style=\"text-align: right;\">                  2</td><td style=\"text-align: right;\">      3</td><td>c6810e1ad1663252927a726924a35594</td></tr>\n",
       "</tbody>\n",
       "</table>"
      ],
      "text/plain": [
       "<IPython.core.display.HTML object>"
      ]
     },
     "metadata": {},
     "output_type": "display_data"
    },
    {
     "data": {
      "text/html": [
       "<table>\n",
       "<thead>\n",
       "<tr><th>recommendation  </th><th style=\"text-align: right;\">  iteration</th><th style=\"text-align: right;\">  all_unlabeled_roc_auc_scores</th><th style=\"text-align: right;\">  query_length</th><th style=\"text-align: right;\">  query_strong_accuracy_list</th><th style=\"text-align: right;\">       f1</th><th style=\"text-align: right;\">  test_acc</th><th style=\"text-align: right;\">  fit_score</th><th style=\"text-align: right;\">  acc_diff</th></tr>\n",
       "</thead>\n",
       "<tbody>\n",
       "<tr><td>A               </td><td style=\"text-align: right;\">       1884</td><td style=\"text-align: right;\">                     38.4173  </td><td style=\"text-align: right;\">           204</td><td style=\"text-align: right;\">                           0</td><td style=\"text-align: right;\">23.9001  </td><td style=\"text-align: right;\"> 24.8328  </td><td style=\"text-align: right;\">  37.0078  </td><td style=\"text-align: right;\"> 0.172032 </td></tr>\n",
       "<tr><td>C               </td><td style=\"text-align: right;\">        539</td><td style=\"text-align: right;\">                     10.8242  </td><td style=\"text-align: right;\">           142</td><td style=\"text-align: right;\">                          13</td><td style=\"text-align: right;\"> 6.57438 </td><td style=\"text-align: right;\">  6.88924 </td><td style=\"text-align: right;\">  10.4587  </td><td style=\"text-align: right;\">-0.0574593</td></tr>\n",
       "<tr><td>G               </td><td style=\"text-align: right;\">          0</td><td style=\"text-align: right;\">                      0.764367</td><td style=\"text-align: right;\">             4</td><td style=\"text-align: right;\">                           0</td><td style=\"text-align: right;\"> 0.504239</td><td style=\"text-align: right;\">  0.517134</td><td style=\"text-align: right;\">   0.804518</td><td style=\"text-align: right;\"> 0        </td></tr>\n",
       "<tr><td>U               </td><td style=\"text-align: right;\">       1493</td><td style=\"text-align: right;\">                     24.9235  </td><td style=\"text-align: right;\">           139</td><td style=\"text-align: right;\">                          24</td><td style=\"text-align: right;\">17.3358  </td><td style=\"text-align: right;\"> 17.6542  </td><td style=\"text-align: right;\">  23.331   </td><td style=\"text-align: right;\"> 0.0775355</td></tr>\n",
       "</tbody>\n",
       "</table>"
      ],
      "text/plain": [
       "<IPython.core.display.HTML object>"
      ]
     },
     "metadata": {},
     "output_type": "display_data"
    },
    {
     "data": {
      "text/html": [
       "<table>\n",
       "<thead>\n",
       "<tr><th style=\"text-align: right;\">  id</th><th style=\"text-align: right;\">  avg_fit_score</th><th style=\"text-align: right;\">  stddev_fit_score</th><th style=\"text-align: right;\">  avg_global_score</th><th style=\"text-align: right;\">  stddev_global_score</th><th style=\"text-align: right;\">  avg_amount_oracle</th><th style=\"text-align: right;\">  std_amount_oracle</th><th style=\"text-align: right;\">  count</th><th>param_list_id                   </th></tr>\n",
       "</thead>\n",
       "<tbody>\n",
       "<tr><td style=\"text-align: right;\">   0</td><td style=\"text-align: right;\">       0.815099</td><td style=\"text-align: right;\">         0.0114759</td><td style=\"text-align: right;\">          0.426579</td><td style=\"text-align: right;\">            0.0495865</td><td style=\"text-align: right;\">                203</td><td style=\"text-align: right;\">                  2</td><td style=\"text-align: right;\">      3</td><td>07016987c128a066cc958907a1d80759</td></tr>\n",
       "</tbody>\n",
       "</table>"
      ],
      "text/plain": [
       "<IPython.core.display.HTML object>"
      ]
     },
     "metadata": {},
     "output_type": "display_data"
    },
    {
     "data": {
      "text/html": [
       "<table>\n",
       "<thead>\n",
       "<tr><th>recommendation  </th><th style=\"text-align: right;\">  iteration</th><th style=\"text-align: right;\">  all_unlabeled_roc_auc_scores</th><th style=\"text-align: right;\">  query_length</th><th style=\"text-align: right;\">  query_strong_accuracy_list</th><th style=\"text-align: right;\">       f1</th><th style=\"text-align: right;\">  test_acc</th><th style=\"text-align: right;\">  fit_score</th><th style=\"text-align: right;\">  acc_diff</th></tr>\n",
       "</thead>\n",
       "<tbody>\n",
       "<tr><td>A               </td><td style=\"text-align: right;\">       1640</td><td style=\"text-align: right;\">                      44.7636 </td><td style=\"text-align: right;\">           206</td><td style=\"text-align: right;\">                           0</td><td style=\"text-align: right;\">29.1355  </td><td style=\"text-align: right;\"> 30.2994  </td><td style=\"text-align: right;\">  44.4102  </td><td style=\"text-align: right;\"> 0.373832 </td></tr>\n",
       "<tr><td>C               </td><td style=\"text-align: right;\">        130</td><td style=\"text-align: right;\">                       4.10526</td><td style=\"text-align: right;\">            35</td><td style=\"text-align: right;\">                           5</td><td style=\"text-align: right;\"> 2.8236  </td><td style=\"text-align: right;\">  2.86327 </td><td style=\"text-align: right;\">   4.11205 </td><td style=\"text-align: right;\"> 0.0114226</td></tr>\n",
       "<tr><td>G               </td><td style=\"text-align: right;\">          0</td><td style=\"text-align: right;\">                       0.70671</td><td style=\"text-align: right;\">             4</td><td style=\"text-align: right;\">                           0</td><td style=\"text-align: right;\"> 0.365961</td><td style=\"text-align: right;\">  0.352717</td><td style=\"text-align: right;\">   0.822411</td><td style=\"text-align: right;\"> 0        </td></tr>\n",
       "</tbody>\n",
       "</table>"
      ],
      "text/plain": [
       "<IPython.core.display.HTML object>"
      ]
     },
     "metadata": {},
     "output_type": "display_data"
    },
    {
     "data": {
      "text/html": [
       "<table>\n",
       "<thead>\n",
       "<tr><th style=\"text-align: right;\">  id</th><th style=\"text-align: right;\">  avg_fit_score</th><th style=\"text-align: right;\">  stddev_fit_score</th><th style=\"text-align: right;\">  avg_global_score</th><th style=\"text-align: right;\">  stddev_global_score</th><th style=\"text-align: right;\">  avg_amount_oracle</th><th style=\"text-align: right;\">  std_amount_oracle</th><th style=\"text-align: right;\">  count</th><th>param_list_id                   </th></tr>\n",
       "</thead>\n",
       "<tbody>\n",
       "<tr><td style=\"text-align: right;\">   0</td><td style=\"text-align: right;\">        0.81413</td><td style=\"text-align: right;\">         0.0260118</td><td style=\"text-align: right;\">          0.424114</td><td style=\"text-align: right;\">            0.0471817</td><td style=\"text-align: right;\">                203</td><td style=\"text-align: right;\">                  1</td><td style=\"text-align: right;\">      3</td><td>547b698376c3c7ef62fe61f43135384f</td></tr>\n",
       "</tbody>\n",
       "</table>"
      ],
      "text/plain": [
       "<IPython.core.display.HTML object>"
      ]
     },
     "metadata": {},
     "output_type": "display_data"
    },
    {
     "data": {
      "text/html": [
       "<table>\n",
       "<thead>\n",
       "<tr><th>recommendation  </th><th style=\"text-align: right;\">  iteration</th><th style=\"text-align: right;\">  all_unlabeled_roc_auc_scores</th><th style=\"text-align: right;\">  query_length</th><th style=\"text-align: right;\">  query_strong_accuracy_list</th><th style=\"text-align: right;\">       f1</th><th style=\"text-align: right;\">  test_acc</th><th style=\"text-align: right;\">  fit_score</th><th style=\"text-align: right;\">  acc_diff</th></tr>\n",
       "</thead>\n",
       "<tbody>\n",
       "<tr><td>A               </td><td style=\"text-align: right;\">       1295</td><td style=\"text-align: right;\">                     36.7742  </td><td style=\"text-align: right;\">           202</td><td style=\"text-align: right;\">                           0</td><td style=\"text-align: right;\">24.3716  </td><td style=\"text-align: right;\"> 25.1513  </td><td style=\"text-align: right;\">  35.9629  </td><td style=\"text-align: right;\"> 0.447906 </td></tr>\n",
       "<tr><td>C               </td><td style=\"text-align: right;\">        301</td><td style=\"text-align: right;\">                      8.68549 </td><td style=\"text-align: right;\">           121</td><td style=\"text-align: right;\">                          11</td><td style=\"text-align: right;\"> 5.35304 </td><td style=\"text-align: right;\">  5.62548 </td><td style=\"text-align: right;\">   8.79094 </td><td style=\"text-align: right;\">-0.0107304</td></tr>\n",
       "<tr><td>G               </td><td style=\"text-align: right;\">          0</td><td style=\"text-align: right;\">                      0.670383</td><td style=\"text-align: right;\">             4</td><td style=\"text-align: right;\">                           0</td><td style=\"text-align: right;\"> 0.192618</td><td style=\"text-align: right;\">  0.263413</td><td style=\"text-align: right;\">   0.799176</td><td style=\"text-align: right;\"> 0        </td></tr>\n",
       "</tbody>\n",
       "</table>"
      ],
      "text/plain": [
       "<IPython.core.display.HTML object>"
      ]
     },
     "metadata": {},
     "output_type": "display_data"
    },
    {
     "data": {
      "text/html": [
       "<table>\n",
       "<thead>\n",
       "<tr><th style=\"text-align: right;\">  id</th><th style=\"text-align: right;\">  avg_fit_score</th><th style=\"text-align: right;\">  stddev_fit_score</th><th style=\"text-align: right;\">  avg_global_score</th><th style=\"text-align: right;\">  stddev_global_score</th><th style=\"text-align: right;\">  avg_amount_oracle</th><th style=\"text-align: right;\">  std_amount_oracle</th><th style=\"text-align: right;\">  count</th><th>param_list_id                   </th></tr>\n",
       "</thead>\n",
       "<tbody>\n",
       "<tr><td style=\"text-align: right;\">   0</td><td style=\"text-align: right;\">       0.812877</td><td style=\"text-align: right;\">        0.00851688</td><td style=\"text-align: right;\">          0.460099</td><td style=\"text-align: right;\">            0.0374527</td><td style=\"text-align: right;\">                204</td><td style=\"text-align: right;\">                  4</td><td style=\"text-align: right;\">      3</td><td>416a7d125ec317a7309fd34373416277</td></tr>\n",
       "</tbody>\n",
       "</table>"
      ],
      "text/plain": [
       "<IPython.core.display.HTML object>"
      ]
     },
     "metadata": {},
     "output_type": "display_data"
    },
    {
     "data": {
      "text/html": [
       "<table>\n",
       "<thead>\n",
       "<tr><th>recommendation  </th><th style=\"text-align: right;\">  iteration</th><th style=\"text-align: right;\">  all_unlabeled_roc_auc_scores</th><th style=\"text-align: right;\">  query_length</th><th style=\"text-align: right;\">  query_strong_accuracy_list</th><th style=\"text-align: right;\">       f1</th><th style=\"text-align: right;\">  test_acc</th><th style=\"text-align: right;\">  fit_score</th><th style=\"text-align: right;\">   acc_diff</th></tr>\n",
       "</thead>\n",
       "<tbody>\n",
       "<tr><td>A               </td><td style=\"text-align: right;\">       1265</td><td style=\"text-align: right;\">                      41.3965 </td><td style=\"text-align: right;\">           201</td><td style=\"text-align: right;\">                           0</td><td style=\"text-align: right;\">29.1497  </td><td style=\"text-align: right;\"> 29.7833  </td><td style=\"text-align: right;\">  39.8844  </td><td style=\"text-align: right;\"> 0.395639  </td></tr>\n",
       "<tr><td>C               </td><td style=\"text-align: right;\">         61</td><td style=\"text-align: right;\">                       1.70774</td><td style=\"text-align: right;\">             8</td><td style=\"text-align: right;\">                           2</td><td style=\"text-align: right;\"> 1.27058 </td><td style=\"text-align: right;\">  1.2558  </td><td style=\"text-align: right;\">   1.62793 </td><td style=\"text-align: right;\">-0.00657667</td></tr>\n",
       "<tr><td>G               </td><td style=\"text-align: right;\">          0</td><td style=\"text-align: right;\">                       0.73557</td><td style=\"text-align: right;\">             4</td><td style=\"text-align: right;\">                           0</td><td style=\"text-align: right;\"> 0.310047</td><td style=\"text-align: right;\">  0.334372</td><td style=\"text-align: right;\">   0.813967</td><td style=\"text-align: right;\"> 0         </td></tr>\n",
       "</tbody>\n",
       "</table>"
      ],
      "text/plain": [
       "<IPython.core.display.HTML object>"
      ]
     },
     "metadata": {},
     "output_type": "display_data"
    },
    {
     "data": {
      "text/html": [
       "<table>\n",
       "<thead>\n",
       "<tr><th style=\"text-align: right;\">  id</th><th style=\"text-align: right;\">  avg_fit_score</th><th style=\"text-align: right;\">  stddev_fit_score</th><th style=\"text-align: right;\">  avg_global_score</th><th style=\"text-align: right;\">  stddev_global_score</th><th style=\"text-align: right;\">  avg_amount_oracle</th><th style=\"text-align: right;\">  std_amount_oracle</th><th style=\"text-align: right;\">  count</th><th>param_list_id                   </th></tr>\n",
       "</thead>\n",
       "<tbody>\n",
       "<tr><td style=\"text-align: right;\">   0</td><td style=\"text-align: right;\">        0.81161</td><td style=\"text-align: right;\">         0.0192687</td><td style=\"text-align: right;\">          0.451204</td><td style=\"text-align: right;\">            0.0138032</td><td style=\"text-align: right;\">                204</td><td style=\"text-align: right;\">                  0</td><td style=\"text-align: right;\">      3</td><td>b514229528d822602108c6aa066f14db</td></tr>\n",
       "</tbody>\n",
       "</table>"
      ],
      "text/plain": [
       "<IPython.core.display.HTML object>"
      ]
     },
     "metadata": {},
     "output_type": "display_data"
    },
    {
     "data": {
      "text/html": [
       "<table>\n",
       "<thead>\n",
       "<tr><th>recommendation  </th><th style=\"text-align: right;\">  iteration</th><th style=\"text-align: right;\">  all_unlabeled_roc_auc_scores</th><th style=\"text-align: right;\">  query_length</th><th style=\"text-align: right;\">  query_strong_accuracy_list</th><th style=\"text-align: right;\">       f1</th><th style=\"text-align: right;\">  test_acc</th><th style=\"text-align: right;\">  fit_score</th><th style=\"text-align: right;\">  acc_diff</th></tr>\n",
       "</thead>\n",
       "<tbody>\n",
       "<tr><td>A               </td><td style=\"text-align: right;\">       1431</td><td style=\"text-align: right;\">                     44.4902  </td><td style=\"text-align: right;\">           205</td><td style=\"text-align: right;\">                           0</td><td style=\"text-align: right;\">31.3476  </td><td style=\"text-align: right;\"> 31.6726  </td><td style=\"text-align: right;\">  42.1086  </td><td style=\"text-align: right;\">  0.368986</td></tr>\n",
       "<tr><td>G               </td><td style=\"text-align: right;\">          0</td><td style=\"text-align: right;\">                      0.720912</td><td style=\"text-align: right;\">             4</td><td style=\"text-align: right;\">                           0</td><td style=\"text-align: right;\"> 0.322002</td><td style=\"text-align: right;\">  0.325026</td><td style=\"text-align: right;\">   0.794501</td><td style=\"text-align: right;\">  0       </td></tr>\n",
       "</tbody>\n",
       "</table>"
      ],
      "text/plain": [
       "<IPython.core.display.HTML object>"
      ]
     },
     "metadata": {},
     "output_type": "display_data"
    },
    {
     "data": {
      "text/html": [
       "<table>\n",
       "<thead>\n",
       "<tr><th style=\"text-align: right;\">  id</th><th style=\"text-align: right;\">  avg_fit_score</th><th style=\"text-align: right;\">  stddev_fit_score</th><th style=\"text-align: right;\">  avg_global_score</th><th style=\"text-align: right;\">  stddev_global_score</th><th style=\"text-align: right;\">  avg_amount_oracle</th><th style=\"text-align: right;\">  std_amount_oracle</th><th style=\"text-align: right;\">  count</th><th>param_list_id                   </th></tr>\n",
       "</thead>\n",
       "<tbody>\n",
       "<tr><td style=\"text-align: right;\">   0</td><td style=\"text-align: right;\">        0.81097</td><td style=\"text-align: right;\">         0.0134758</td><td style=\"text-align: right;\">          0.455474</td><td style=\"text-align: right;\">              0.06427</td><td style=\"text-align: right;\">                204</td><td style=\"text-align: right;\">                  1</td><td style=\"text-align: right;\">      3</td><td>d296121de2480ffa42b513cf2e6ceaf7</td></tr>\n",
       "</tbody>\n",
       "</table>"
      ],
      "text/plain": [
       "<IPython.core.display.HTML object>"
      ]
     },
     "metadata": {},
     "output_type": "display_data"
    },
    {
     "data": {
      "text/html": [
       "<table>\n",
       "<thead>\n",
       "<tr><th>recommendation  </th><th style=\"text-align: right;\">  iteration</th><th style=\"text-align: right;\">  all_unlabeled_roc_auc_scores</th><th style=\"text-align: right;\">  query_length</th><th style=\"text-align: right;\">  query_strong_accuracy_list</th><th style=\"text-align: right;\">       f1</th><th style=\"text-align: right;\">  test_acc</th><th style=\"text-align: right;\">  fit_score</th><th style=\"text-align: right;\">  acc_diff</th></tr>\n",
       "</thead>\n",
       "<tbody>\n",
       "<tr><td>A               </td><td style=\"text-align: right;\">       1002</td><td style=\"text-align: right;\">                      35.7888 </td><td style=\"text-align: right;\">           203</td><td style=\"text-align: right;\">                           0</td><td style=\"text-align: right;\">27.1992  </td><td style=\"text-align: right;\"> 27.4123  </td><td style=\"text-align: right;\">  34.7114  </td><td style=\"text-align: right;\"> 0.425753 </td></tr>\n",
       "<tr><td>C               </td><td style=\"text-align: right;\">         79</td><td style=\"text-align: right;\">                       3.36345</td><td style=\"text-align: right;\">            42</td><td style=\"text-align: right;\">                           4</td><td style=\"text-align: right;\"> 2.47192 </td><td style=\"text-align: right;\">  2.49498 </td><td style=\"text-align: right;\">   3.30585 </td><td style=\"text-align: right;\">-0.0259605</td></tr>\n",
       "<tr><td>G               </td><td style=\"text-align: right;\">          0</td><td style=\"text-align: right;\">                       0.72636</td><td style=\"text-align: right;\">             4</td><td style=\"text-align: right;\">                           0</td><td style=\"text-align: right;\"> 0.295837</td><td style=\"text-align: right;\">  0.344064</td><td style=\"text-align: right;\">   0.826463</td><td style=\"text-align: right;\"> 0        </td></tr>\n",
       "</tbody>\n",
       "</table>"
      ],
      "text/plain": [
       "<IPython.core.display.HTML object>"
      ]
     },
     "metadata": {},
     "output_type": "display_data"
    }
   ],
   "source": [
    "def better_results_top(top_n, budget, weak_clust, weak_cert):\n",
    "    # select best result for budget of 1500 without WS\n",
    "    results = (\n",
    "        ExperimentResult.select(\n",
    "            ExperimentResult.param_list_id,\n",
    "            peewee.fn.AVG(ExperimentResult.fit_score).alias(\"avg_fit_score\"),\n",
    "            peewee.fn.STDDEV(ExperimentResult.fit_score).alias(\"stddev_fit_score\"),\n",
    "            peewee.fn.AVG(ExperimentResult.global_score_no_weak_acc).alias(\n",
    "                \"avg_global_score\"\n",
    "            ),\n",
    "            peewee.fn.STDDEV(ExperimentResult.global_score_no_weak_acc).alias(\n",
    "                \"stddev_global_score\"\n",
    "            ),\n",
    "            peewee.fn.AVG(ExperimentResult.amount_of_user_asked_queries).alias(\n",
    "                \"avg_amount_oracle\"\n",
    "            ),\n",
    "            peewee.fn.STDDEV(ExperimentResult.amount_of_user_asked_queries).alias(\n",
    "                \"std_amount_oracle\"\n",
    "            ),\n",
    "            peewee.fn.COUNT(ExperimentResult.param_list_id).alias(\"count\"),\n",
    "        )\n",
    "        .where(\n",
    "            (ExperimentResult.amount_of_user_asked_queries < budget)\n",
    "            & (ExperimentResult.dataset_name == \"dwtc\")\n",
    "            # & (ExperimentResult.experiment_run_date > (datetime(2020, 3, 24, 14, 0)))\n",
    "            # & (ExperimentResult.experiment_run_date > (datetime(2020, 5, 8, 9, 20)))\n",
    "            & (ExperimentResult.with_cluster_recommendation == weak_clust)\n",
    "            & (ExperimentResult.with_uncertainty_recommendation == weak_cert)\n",
    "            # & (peewee.fn.COUNT(ExperimentResult.id_field) == 3)\n",
    "            # no stopping criterias\n",
    "        )\n",
    "        .group_by(ExperimentResult.param_list_id)\n",
    "        .order_by(\n",
    "            peewee.fn.COUNT(ExperimentResult.id_field).desc(),\n",
    "            peewee.fn.AVG(ExperimentResult.acc_test).desc(),\n",
    "        )\n",
    "        .limit(1)\n",
    "        .offset(top_n)\n",
    "    )\n",
    "\n",
    "    table = []\n",
    "    id = 0\n",
    "    for result in results:\n",
    "        data = {**{\"id\": id}, **vars(result)}\n",
    "        data[\"param_list_id\"] = data[\"__data__\"][\"param_list_id\"]\n",
    "        del data[\"__data__\"]\n",
    "        del data[\"_dirty\"]\n",
    "        del data[\"__rel__\"]\n",
    "        table.append(data)\n",
    "        id += 1\n",
    "\n",
    "    display(HTML(tabulate(table, headers=\"keys\", tablefmt=\"html\")))\n",
    "\n",
    "    best_param_list_id = table[0][\"param_list_id\"]\n",
    "\n",
    "    results = (\n",
    "        ExperimentResult.select()\n",
    "        .where(ExperimentResult.param_list_id == best_param_list_id)\n",
    "        .order_by(ExperimentResult.dataset_name)\n",
    "    )\n",
    "\n",
    "    loaded_data[0] = []\n",
    "    for result in results:\n",
    "        loaded_data[0].append(result)\n",
    "\n",
    "    for result in loaded_data[0][:]:\n",
    "        metrics = loads(result.metrics_per_al_cycle)\n",
    "        test_data_metrics = [\n",
    "            metrics[\"test_data_metrics\"][0][f][0][\"weighted avg\"]\n",
    "            for f in range(0, len(metrics[\"test_data_metrics\"][0]))\n",
    "        ]\n",
    "        test_acc = [\n",
    "            metrics[\"test_data_metrics\"][0][f][0][\"accuracy\"]\n",
    "            for f in range(0, len(metrics[\"test_data_metrics\"][0]))\n",
    "        ]\n",
    "\n",
    "        data = pd.DataFrame(\n",
    "            {\n",
    "                \"iteration\": range(0, len(metrics[\"all_unlabeled_roc_auc_scores\"])),\n",
    "                \"all_unlabeled_roc_auc_scores\": metrics[\"all_unlabeled_roc_auc_scores\"],\n",
    "                \"query_length\": metrics[\"query_length\"],\n",
    "                \"recommendation\": metrics[\"recommendation\"],\n",
    "                \"query_strong_accuracy_list\": metrics[\"query_strong_accuracy_list\"],\n",
    "                \"f1\": [i[\"f1-score\"] for i in test_data_metrics],\n",
    "                \"test_acc\": test_acc,\n",
    "                \"fit_score\": result.fit_score,\n",
    "                #'asked_queries': [sum(metrics['query_length'][:i]) for i in range(0, len(metrics['query_length']))],\n",
    "            }\n",
    "        )\n",
    "        data[\"acc_diff\"] = data[\"test_acc\"] - data[\"test_acc\"].shift(1)\n",
    "    display(\n",
    "        HTML(\n",
    "            tabulate(\n",
    "                data.groupby([\"recommendation\"]).sum(), headers=\"keys\", tablefmt=\"html\"\n",
    "            )\n",
    "        )\n",
    "    )\n",
    "\n",
    "\n",
    "better_results_top(0, 211, False, False)\n",
    "better_results_top(0, 210, True, False)\n",
    "better_results_top(0, 210, False, True)\n",
    "for i in range(1, 10):\n",
    "    better_results_top(i, 210, True, True)\n",
    "# data"
   ]
  },
  {
   "cell_type": "code",
   "execution_count": null,
   "metadata": {},
   "outputs": [],
   "source": []
  },
  {
   "cell_type": "code",
   "execution_count": null,
   "metadata": {},
   "outputs": [],
   "source": []
  },
  {
   "cell_type": "code",
   "execution_count": null,
   "metadata": {},
   "outputs": [],
   "source": []
  },
  {
   "cell_type": "code",
   "execution_count": null,
   "metadata": {},
   "outputs": [],
   "source": []
  }
 ],
 "metadata": {
  "kernelspec": {
   "display_name": "Python 3",
   "language": "python",
   "name": "python3"
  },
  "language_info": {
   "codemirror_mode": {
    "name": "ipython",
    "version": 3
   },
   "file_extension": ".py",
   "mimetype": "text/x-python",
   "name": "python",
   "nbconvert_exporter": "python",
   "pygments_lexer": "ipython3",
   "version": "3.8.2"
  }
 },
 "nbformat": 4,
 "nbformat_minor": 4
}
