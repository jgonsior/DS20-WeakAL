{
 "cells": [
  {
   "cell_type": "code",
   "execution_count": 1,
   "metadata": {},
   "outputs": [
    {
     "name": "stderr",
     "output_type": "stream",
     "text": [
      "/home/julius/.local/share/virtualenvs/active-learning-experiments-ZYX8nT5t/lib/python3.8/site-packages/sklearn/utils/deprecation.py:143: FutureWarning: The sklearn.metrics.scorer module is  deprecated in version 0.22 and will be removed in version 0.24. The corresponding classes / functions should instead be imported from sklearn.metrics. Anything that cannot be imported from sklearn.metrics is now part of the private API.\n",
      "  warnings.warn(message, FutureWarning)\n"
     ]
    }
   ],
   "source": [
    "%load_ext lab_black\n",
    "import argparse\n",
    "import contextlib\n",
    "import datetime\n",
    "import io\n",
    "import logging\n",
    "import multiprocessing\n",
    "import os\n",
    "import random\n",
    "import sys\n",
    "from itertools import chain, combinations\n",
    "from timeit import default_timer as timer\n",
    "\n",
    "import altair as alt\n",
    "import altair_viewer\n",
    "import matplotlib.pyplot as plt\n",
    "import numpy as np\n",
    "import pandas as pd\n",
    "import peewee\n",
    "from evolutionary_search import EvolutionaryAlgorithmSearchCV\n",
    "from json_tricks import dumps, loads\n",
    "from playhouse.shortcuts import model_to_dict\n",
    "from scipy.stats import randint, uniform\n",
    "from sklearn.datasets import load_iris\n",
    "from tabulate import tabulate\n",
    "from IPython.core.display import display, HTML\n",
    "\n",
    "from active_learning.cluster_strategies import (\n",
    "    DummyClusterStrategy,\n",
    "    MostUncertainClusterStrategy,\n",
    "    RandomClusterStrategy,\n",
    "    RoundRobinClusterStrategy,\n",
    ")\n",
    "from active_learning.dataStorage import DataStorage\n",
    "from active_learning.experiment_setup_lib import (\n",
    "    ExperimentResult,\n",
    "    classification_report_and_confusion_matrix,\n",
    "    get_db,\n",
    "    get_single_al_run_stats_row,\n",
    "    get_single_al_run_stats_table_header,\n",
    "    load_and_prepare_X_and_Y,\n",
    ")\n",
    "from active_learning.sampling_strategies import (\n",
    "    BoundaryPairSampler,\n",
    "    CommitteeSampler,\n",
    "    RandomSampler,\n",
    "    UncertaintySampler,\n",
    ")\n",
    "\n",
    "alt.renderers.enable(\"altair_viewer\")\n",
    "#  alt.renderers.enable('vegascope')\n",
    "\n",
    "config = {\n",
    "    \"datasets_path\": \"../datasets\",\n",
    "    \"db\": \"tunnel\",\n",
    "    \"param_list_id\": \"best_global_score\",\n",
    "}\n",
    "\n",
    "db = get_db(db_name_or_type=config[\"db\"])"
   ]
  },
  {
   "cell_type": "code",
   "execution_count": 2,
   "metadata": {},
   "outputs": [
    {
     "name": "stdout",
     "output_type": "stream",
     "text": [
      "125,587 dwtc\n",
      "4,942 hiva\n",
      "4,956 ibn_sina\n",
      "4,933 orange\n",
      "4,901 sylva\n",
      "4,871 zebra\n"
     ]
    }
   ],
   "source": [
    "# select count(*), dataset_name from experimentresult group by dataset_name;\n",
    "results = ExperimentResult.select(\n",
    "    ExperimentResult.dataset_name,\n",
    "    peewee.fn.COUNT(ExperimentResult.id_field).alias(\"dataset_name_count\"),\n",
    ").group_by(ExperimentResult.dataset_name)\n",
    "\n",
    "for result in results:\n",
    "    print(\"{:>4,d} {}\".format(result.dataset_name_count, result.dataset_name))"
   ]
  },
  {
   "cell_type": "code",
   "execution_count": 3,
   "metadata": {},
   "outputs": [
    {
     "data": {
      "text/html": [
       "<table>\n",
       "<thead>\n",
       "<tr><th style=\"text-align: right;\">  id</th><th>param_list_id                   </th><th style=\"text-align: right;\">  acc_test</th><th style=\"text-align: right;\">  fit_score</th><th style=\"text-align: right;\">  global_score_no_weak_acc</th><th style=\"text-align: right;\">  amount_of_user_asked_queries</th><th>classifier  </th><th>dataset_name  </th><th style=\"text-align: right;\">  test_fraction</th><th>sampling              </th><th>cluster                 </th><th style=\"text-align: right;\">  nr_queries_per_iteration</th><th>with_uncertainty_recommendation  </th><th>with_cluster_recommendation  </th><th style=\"text-align: right;\">  uncertainty_recommendation_certainty_threshold</th><th style=\"text-align: right;\">  uncertainty_recommendation_ratio</th><th style=\"text-align: right;\">  cluster_recommendation_minimum_cluster_unity_size</th><th style=\"text-align: right;\">  cluster_recommendation_ratio_labeled_unlabeled</th><th>allow_recommendations_after_stop  </th><th style=\"text-align: right;\">  stopping_criteria_uncertainty</th><th style=\"text-align: right;\">  stopping_criteria_acc</th><th style=\"text-align: right;\">  stopping_criteria_std</th><th>experiment_run_date       </th></tr>\n",
       "</thead>\n",
       "<tbody>\n",
       "<tr><td style=\"text-align: right;\">   0</td><td>400ffd284ad157e1871abf681de85ec9</td><td style=\"text-align: right;\">  0.958008</td><td style=\"text-align: right;\">   0.963039</td><td style=\"text-align: right;\">                 0.913842 </td><td style=\"text-align: right;\">                           980</td><td>RF          </td><td>zebra         </td><td style=\"text-align: right;\">            0.5</td><td>uncertainty_max_margin</td><td>MostUncertain_lc        </td><td style=\"text-align: right;\">                        10</td><td>True                             </td><td>True                         </td><td style=\"text-align: right;\">                                        0.951518</td><td style=\"text-align: right;\">                            0.001 </td><td style=\"text-align: right;\">                                           0.945348</td><td style=\"text-align: right;\">                                        0.578172</td><td>False                             </td><td style=\"text-align: right;\">                              1</td><td style=\"text-align: right;\">                      1</td><td style=\"text-align: right;\">                      1</td><td>2020-03-26 09:10:43.852526</td></tr>\n",
       "<tr><td style=\"text-align: right;\">   1</td><td>14021e1c72e255c922df4579322009a8</td><td style=\"text-align: right;\">  0.957943</td><td style=\"text-align: right;\">   0.96381 </td><td style=\"text-align: right;\">                 0.913958 </td><td style=\"text-align: right;\">                           930</td><td>RF          </td><td>zebra         </td><td style=\"text-align: right;\">            0.5</td><td>uncertainty_lc        </td><td>MostUncertain_max_margin</td><td style=\"text-align: right;\">                        10</td><td>True                             </td><td>True                         </td><td style=\"text-align: right;\">                                        0.927707</td><td style=\"text-align: right;\">                            0.01  </td><td style=\"text-align: right;\">                                           0.80951 </td><td style=\"text-align: right;\">                                        0.790369</td><td>True                              </td><td style=\"text-align: right;\">                              1</td><td style=\"text-align: right;\">                      1</td><td style=\"text-align: right;\">                      1</td><td>2020-03-29 23:32:41.663255</td></tr>\n",
       "<tr><td style=\"text-align: right;\">   2</td><td>a66cb8f5f97e1a0c0fc6740dfbc83327</td><td style=\"text-align: right;\">  0.957488</td><td style=\"text-align: right;\">   0.971131</td><td style=\"text-align: right;\">                 0.909296 </td><td style=\"text-align: right;\">                           456</td><td>RF          </td><td>zebra         </td><td style=\"text-align: right;\">            0.5</td><td>uncertainty_entropy   </td><td>MostUncertain_entropy   </td><td style=\"text-align: right;\">                        10</td><td>True                             </td><td>True                         </td><td style=\"text-align: right;\">                                        0.733224</td><td style=\"text-align: right;\">                            0.1   </td><td style=\"text-align: right;\">                                           0.745651</td><td style=\"text-align: right;\">                                        0.817867</td><td>False                             </td><td style=\"text-align: right;\">                              1</td><td style=\"text-align: right;\">                      1</td><td style=\"text-align: right;\">                      1</td><td>2020-03-25 15:29:23.000456</td></tr>\n",
       "<tr><td style=\"text-align: right;\">   3</td><td>bfe5b72562d21e138376b9c88f4ff3ca</td><td style=\"text-align: right;\">  0.956447</td><td style=\"text-align: right;\">   0.969615</td><td style=\"text-align: right;\">                 0.895696 </td><td style=\"text-align: right;\">                           518</td><td>RF          </td><td>zebra         </td><td style=\"text-align: right;\">            0.5</td><td>uncertainty_entropy   </td><td>MostUncertain_lc        </td><td style=\"text-align: right;\">                        10</td><td>True                             </td><td>True                         </td><td style=\"text-align: right;\">                                        0.980038</td><td style=\"text-align: right;\">                            0.0001</td><td style=\"text-align: right;\">                                           0.602102</td><td style=\"text-align: right;\">                                        0.928569</td><td>False                             </td><td style=\"text-align: right;\">                              1</td><td style=\"text-align: right;\">                      1</td><td style=\"text-align: right;\">                      1</td><td>2020-03-30 10:54:02.237702</td></tr>\n",
       "<tr><td style=\"text-align: right;\">   4</td><td>b87e70cebd5290dce22e08fd2d828240</td><td style=\"text-align: right;\">  0.956122</td><td style=\"text-align: right;\">   0.974419</td><td style=\"text-align: right;\">                 0.893464 </td><td style=\"text-align: right;\">                           202</td><td>RF          </td><td>zebra         </td><td style=\"text-align: right;\">            0.5</td><td>uncertainty_lc        </td><td>MostUncertain_entropy   </td><td style=\"text-align: right;\">                        10</td><td>True                             </td><td>True                         </td><td style=\"text-align: right;\">                                        0.695022</td><td style=\"text-align: right;\">                            0.1   </td><td style=\"text-align: right;\">                                           0.908576</td><td style=\"text-align: right;\">                                        0.863314</td><td>True                              </td><td style=\"text-align: right;\">                              1</td><td style=\"text-align: right;\">                      1</td><td style=\"text-align: right;\">                      1</td><td>2020-03-28 07:24:35.035273</td></tr>\n",
       "<tr><td style=\"text-align: right;\">   5</td><td>fb92945772d12d33e3b24084f251c0c6</td><td style=\"text-align: right;\">  0.955926</td><td style=\"text-align: right;\">   0.967256</td><td style=\"text-align: right;\">                 0.894563 </td><td style=\"text-align: right;\">                           650</td><td>RF          </td><td>zebra         </td><td style=\"text-align: right;\">            0.5</td><td>uncertainty_lc        </td><td>MostUncertain_lc        </td><td style=\"text-align: right;\">                        10</td><td>True                             </td><td>True                         </td><td style=\"text-align: right;\">                                        0.902119</td><td style=\"text-align: right;\">                            0.0001</td><td style=\"text-align: right;\">                                           0.754432</td><td style=\"text-align: right;\">                                        0.712006</td><td>True                              </td><td style=\"text-align: right;\">                              1</td><td style=\"text-align: right;\">                      1</td><td style=\"text-align: right;\">                      1</td><td>2020-03-26 09:26:57.642647</td></tr>\n",
       "<tr><td style=\"text-align: right;\">   6</td><td>8f166777059c183085028e93faaf10ba</td><td style=\"text-align: right;\">  0.955178</td><td style=\"text-align: right;\">   0.974897</td><td style=\"text-align: right;\">                 0.882877 </td><td style=\"text-align: right;\">                           140</td><td>RF          </td><td>zebra         </td><td style=\"text-align: right;\">            0.5</td><td>uncertainty_lc        </td><td>MostUncertain_lc        </td><td style=\"text-align: right;\">                        10</td><td>True                             </td><td>True                         </td><td style=\"text-align: right;\">                                        0.778951</td><td style=\"text-align: right;\">                            0.1   </td><td style=\"text-align: right;\">                                           0.789256</td><td style=\"text-align: right;\">                                        0.614343</td><td>True                              </td><td style=\"text-align: right;\">                              1</td><td style=\"text-align: right;\">                      1</td><td style=\"text-align: right;\">                      1</td><td>2020-03-26 11:34:35.539123</td></tr>\n",
       "<tr><td style=\"text-align: right;\">   7</td><td>9e84b06042e8cb0c03b8d7ec91475098</td><td style=\"text-align: right;\">  0.955113</td><td style=\"text-align: right;\">   0.976264</td><td style=\"text-align: right;\">                 0.770321 </td><td style=\"text-align: right;\">                            50</td><td>RF          </td><td>zebra         </td><td style=\"text-align: right;\">            0.5</td><td>uncertainty_lc        </td><td>MostUncertain_max_margin</td><td style=\"text-align: right;\">                        10</td><td>True                             </td><td>True                         </td><td style=\"text-align: right;\">                                        0.711062</td><td style=\"text-align: right;\">                            0.1   </td><td style=\"text-align: right;\">                                           0.619883</td><td style=\"text-align: right;\">                                        0.704723</td><td>False                             </td><td style=\"text-align: right;\">                              1</td><td style=\"text-align: right;\">                      1</td><td style=\"text-align: right;\">                      1</td><td>2020-03-29 01:10:20.167619</td></tr>\n",
       "<tr><td style=\"text-align: right;\">   8</td><td>62f3825485db72ee7fee6f39b095db36</td><td style=\"text-align: right;\">  0.954951</td><td style=\"text-align: right;\">   0.965326</td><td style=\"text-align: right;\">                 0.878154 </td><td style=\"text-align: right;\">                           740</td><td>RF          </td><td>zebra         </td><td style=\"text-align: right;\">            0.5</td><td>uncertainty_lc        </td><td>MostUncertain_entropy   </td><td style=\"text-align: right;\">                        10</td><td>True                             </td><td>True                         </td><td style=\"text-align: right;\">                                        0.596726</td><td style=\"text-align: right;\">                            0.001 </td><td style=\"text-align: right;\">                                           0.807041</td><td style=\"text-align: right;\">                                        0.848841</td><td>True                              </td><td style=\"text-align: right;\">                              1</td><td style=\"text-align: right;\">                      1</td><td style=\"text-align: right;\">                      1</td><td>2020-03-30 09:41:27.146305</td></tr>\n",
       "<tr><td style=\"text-align: right;\">   9</td><td>1dc8d89e2277fb576700392ffcf514a3</td><td style=\"text-align: right;\">  0.95482 </td><td style=\"text-align: right;\">   0.975178</td><td style=\"text-align: right;\">                 0.828727 </td><td style=\"text-align: right;\">                           110</td><td>RF          </td><td>zebra         </td><td style=\"text-align: right;\">            0.5</td><td>uncertainty_lc        </td><td>MostUncertain_entropy   </td><td style=\"text-align: right;\">                        10</td><td>True                             </td><td>True                         </td><td style=\"text-align: right;\">                                        0.798407</td><td style=\"text-align: right;\">                            0.1   </td><td style=\"text-align: right;\">                                           0.677045</td><td style=\"text-align: right;\">                                        0.614915</td><td>False                             </td><td style=\"text-align: right;\">                              1</td><td style=\"text-align: right;\">                      1</td><td style=\"text-align: right;\">                      1</td><td>2020-03-27 19:54:59.570851</td></tr>\n",
       "<tr><td style=\"text-align: right;\">  10</td><td>1693987d5482104159c6848994dc570c</td><td style=\"text-align: right;\">  0.954788</td><td style=\"text-align: right;\">   0.975783</td><td style=\"text-align: right;\">                 0.816397 </td><td style=\"text-align: right;\">                            70</td><td>RF          </td><td>zebra         </td><td style=\"text-align: right;\">            0.5</td><td>uncertainty_lc        </td><td>MostUncertain_max_margin</td><td style=\"text-align: right;\">                        10</td><td>True                             </td><td>True                         </td><td style=\"text-align: right;\">                                        0.781549</td><td style=\"text-align: right;\">                            0.1   </td><td style=\"text-align: right;\">                                           0.762764</td><td style=\"text-align: right;\">                                        0.642486</td><td>True                              </td><td style=\"text-align: right;\">                              1</td><td style=\"text-align: right;\">                      1</td><td style=\"text-align: right;\">                      1</td><td>2020-03-26 23:14:45.485285</td></tr>\n",
       "<tr><td style=\"text-align: right;\">  11</td><td>0905b0bf89d97df8995fb1571004c32d</td><td style=\"text-align: right;\">  0.954755</td><td style=\"text-align: right;\">   0.974208</td><td style=\"text-align: right;\">                 0.857393 </td><td style=\"text-align: right;\">                           170</td><td>RF          </td><td>zebra         </td><td style=\"text-align: right;\">            0.5</td><td>random                </td><td>MostUncertain_lc        </td><td style=\"text-align: right;\">                        10</td><td>True                             </td><td>True                         </td><td style=\"text-align: right;\">                                        0.984152</td><td style=\"text-align: right;\">                            0.0001</td><td style=\"text-align: right;\">                                           0.732831</td><td style=\"text-align: right;\">                                        0.77433 </td><td>False                             </td><td style=\"text-align: right;\">                              1</td><td style=\"text-align: right;\">                      1</td><td style=\"text-align: right;\">                      1</td><td>2020-03-28 05:28:37.516487</td></tr>\n",
       "<tr><td style=\"text-align: right;\">  12</td><td>7e5d12fa799322207e7af608785e5738</td><td style=\"text-align: right;\">  0.954755</td><td style=\"text-align: right;\">   0.975144</td><td style=\"text-align: right;\">                 0.844433 </td><td style=\"text-align: right;\">                           110</td><td>RF          </td><td>zebra         </td><td style=\"text-align: right;\">            0.5</td><td>uncertainty_lc        </td><td>MostUncertain_max_margin</td><td style=\"text-align: right;\">                        10</td><td>True                             </td><td>True                         </td><td style=\"text-align: right;\">                                        0.941721</td><td style=\"text-align: right;\">                            0.0001</td><td style=\"text-align: right;\">                                           0.60022 </td><td style=\"text-align: right;\">                                        0.891119</td><td>False                             </td><td style=\"text-align: right;\">                              1</td><td style=\"text-align: right;\">                      1</td><td style=\"text-align: right;\">                      1</td><td>2020-03-26 09:51:53.418814</td></tr>\n",
       "<tr><td style=\"text-align: right;\">  13</td><td>16c34321a5f77a5ca7802f445e458805</td><td style=\"text-align: right;\">  0.954755</td><td style=\"text-align: right;\">   0.973271</td><td style=\"text-align: right;\">                 0.873812 </td><td style=\"text-align: right;\">                           230</td><td>RF          </td><td>zebra         </td><td style=\"text-align: right;\">            0.5</td><td>uncertainty_lc        </td><td>MostUncertain_entropy   </td><td style=\"text-align: right;\">                        10</td><td>True                             </td><td>True                         </td><td style=\"text-align: right;\">                                        0.979992</td><td style=\"text-align: right;\">                            0.1   </td><td style=\"text-align: right;\">                                           0.806985</td><td style=\"text-align: right;\">                                        0.58564 </td><td>False                             </td><td style=\"text-align: right;\">                              1</td><td style=\"text-align: right;\">                      1</td><td style=\"text-align: right;\">                      1</td><td>2020-03-27 17:00:01.017531</td></tr>\n",
       "<tr><td style=\"text-align: right;\">  14</td><td>b401fdd862976eb04634218ad11ff698</td><td style=\"text-align: right;\">  0.954723</td><td style=\"text-align: right;\">   0.976837</td><td style=\"text-align: right;\">                -0.0457503</td><td style=\"text-align: right;\">                             0</td><td>RF          </td><td>zebra         </td><td style=\"text-align: right;\">            0.5</td><td>uncertainty_lc        </td><td>random                  </td><td style=\"text-align: right;\">                        10</td><td>True                             </td><td>True                         </td><td style=\"text-align: right;\">                                        0.527693</td><td style=\"text-align: right;\">                            0.0001</td><td style=\"text-align: right;\">                                           0.971219</td><td style=\"text-align: right;\">                                        0.946271</td><td>True                              </td><td style=\"text-align: right;\">                              1</td><td style=\"text-align: right;\">                      1</td><td style=\"text-align: right;\">                      1</td><td>2020-03-26 06:27:08.431886</td></tr>\n",
       "<tr><td style=\"text-align: right;\">  15</td><td>68e1a29abc267374865421b0d36cbba8</td><td style=\"text-align: right;\">  0.954723</td><td style=\"text-align: right;\">   0.974191</td><td style=\"text-align: right;\">                 0.865361 </td><td style=\"text-align: right;\">                           170</td><td>RF          </td><td>zebra         </td><td style=\"text-align: right;\">            0.5</td><td>random                </td><td>MostUncertain_entropy   </td><td style=\"text-align: right;\">                        10</td><td>True                             </td><td>True                         </td><td style=\"text-align: right;\">                                        0.961122</td><td style=\"text-align: right;\">                            0.01  </td><td style=\"text-align: right;\">                                           0.881958</td><td style=\"text-align: right;\">                                        0.672486</td><td>True                              </td><td style=\"text-align: right;\">                              1</td><td style=\"text-align: right;\">                      1</td><td style=\"text-align: right;\">                      1</td><td>2020-03-26 15:51:00.984490</td></tr>\n",
       "<tr><td style=\"text-align: right;\">  16</td><td>ec7042f5d9ad1df3f6d48a7e5a52761b</td><td style=\"text-align: right;\">  0.954723</td><td style=\"text-align: right;\">   0.975594</td><td style=\"text-align: right;\">                 0.858344 </td><td style=\"text-align: right;\">                            80</td><td>RF          </td><td>zebra         </td><td style=\"text-align: right;\">            0.5</td><td>uncertainty_max_margin</td><td>MostUncertain_entropy   </td><td style=\"text-align: right;\">                        10</td><td>True                             </td><td>True                         </td><td style=\"text-align: right;\">                                        0.915398</td><td style=\"text-align: right;\">                            0.1   </td><td style=\"text-align: right;\">                                           0.573072</td><td style=\"text-align: right;\">                                        0.78225 </td><td>False                             </td><td style=\"text-align: right;\">                              1</td><td style=\"text-align: right;\">                      1</td><td style=\"text-align: right;\">                      1</td><td>2020-03-29 19:57:40.605056</td></tr>\n",
       "<tr><td style=\"text-align: right;\">  17</td><td>97b889b81296c16237a150aa054bd200</td><td style=\"text-align: right;\">  0.95469 </td><td style=\"text-align: right;\">   0.97682 </td><td style=\"text-align: right;\">                -0.125281 </td><td style=\"text-align: right;\">                             0</td><td>RF          </td><td>zebra         </td><td style=\"text-align: right;\">            0.5</td><td>random                </td><td>random                  </td><td style=\"text-align: right;\">                        10</td><td>True                             </td><td>True                         </td><td style=\"text-align: right;\">                                        0.656365</td><td style=\"text-align: right;\">                            0.0001</td><td style=\"text-align: right;\">                                           0.737894</td><td style=\"text-align: right;\">                                        0.735626</td><td>True                              </td><td style=\"text-align: right;\">                              1</td><td style=\"text-align: right;\">                      1</td><td style=\"text-align: right;\">                      1</td><td>2020-03-26 21:43:00.783043</td></tr>\n",
       "<tr><td style=\"text-align: right;\">  18</td><td>93531853f1d72e2880e2ee1a9ee33b94</td><td style=\"text-align: right;\">  0.95469 </td><td style=\"text-align: right;\">   0.975577</td><td style=\"text-align: right;\">                 0.760898 </td><td style=\"text-align: right;\">                            80</td><td>RF          </td><td>zebra         </td><td style=\"text-align: right;\">            0.5</td><td>uncertainty_lc        </td><td>MostUncertain_entropy   </td><td style=\"text-align: right;\">                        10</td><td>True                             </td><td>True                         </td><td style=\"text-align: right;\">                                        0.658564</td><td style=\"text-align: right;\">                            0.01  </td><td style=\"text-align: right;\">                                           0.840869</td><td style=\"text-align: right;\">                                        0.94517 </td><td>False                             </td><td style=\"text-align: right;\">                              1</td><td style=\"text-align: right;\">                      1</td><td style=\"text-align: right;\">                      1</td><td>2020-03-26 22:53:01.095583</td></tr>\n",
       "<tr><td style=\"text-align: right;\">  19</td><td>79e75b5c76bfbd905ccca38e56a24a75</td><td style=\"text-align: right;\">  0.95469 </td><td style=\"text-align: right;\">   0.974018</td><td style=\"text-align: right;\">                 0.839409 </td><td style=\"text-align: right;\">                           180</td><td>RF          </td><td>zebra         </td><td style=\"text-align: right;\">            0.5</td><td>random                </td><td>dummy                   </td><td style=\"text-align: right;\">                        10</td><td>True                             </td><td>True                         </td><td style=\"text-align: right;\">                                        0.715475</td><td style=\"text-align: right;\">                            0.001 </td><td style=\"text-align: right;\">                                           0.829263</td><td style=\"text-align: right;\">                                        0.760971</td><td>False                             </td><td style=\"text-align: right;\">                              1</td><td style=\"text-align: right;\">                      1</td><td style=\"text-align: right;\">                      1</td><td>2020-03-29 09:35:54.812966</td></tr>\n",
       "</tbody>\n",
       "</table>"
      ],
      "text/plain": [
       "<IPython.core.display.HTML object>"
      ]
     },
     "metadata": {},
     "output_type": "display_data"
    }
   ],
   "source": [
    "#  SELECT param_list_id, avg(fit_score), stddev(fit_score), avg(global_score), stddev(global_score), avg(start_set_size) as sss, count(*) FROM experimentresult WHERE start_set_size = 1 GROUP BY param_list_id ORDER BY 7 DESC, 4 DESC LIMIT 30;\n",
    "from datetime import datetime, timedelta\n",
    "\n",
    "results = (\n",
    "    ExperimentResult.select(\n",
    "        ExperimentResult.param_list_id,\n",
    "        ExperimentResult.acc_test,\n",
    "        ExperimentResult.fit_score,\n",
    "        ExperimentResult.global_score_no_weak_acc,\n",
    "        ExperimentResult.amount_of_user_asked_queries,\n",
    "        ExperimentResult.classifier,\n",
    "        ExperimentResult.global_score_no_weak_acc,\n",
    "        ExperimentResult.amount_of_user_asked_queries,\n",
    "        ExperimentResult.dataset_name,\n",
    "        ExperimentResult.test_fraction,\n",
    "        ExperimentResult.sampling,\n",
    "        ExperimentResult.cluster,\n",
    "        ExperimentResult.nr_queries_per_iteration,\n",
    "        ExperimentResult.with_uncertainty_recommendation,\n",
    "        ExperimentResult.with_cluster_recommendation,\n",
    "        ExperimentResult.uncertainty_recommendation_certainty_threshold,\n",
    "        ExperimentResult.uncertainty_recommendation_ratio,\n",
    "        ExperimentResult.cluster_recommendation_minimum_cluster_unity_size,\n",
    "        ExperimentResult.cluster_recommendation_ratio_labeled_unlabeled,\n",
    "        ExperimentResult.allow_recommendations_after_stop,\n",
    "        ExperimentResult.stopping_criteria_uncertainty,\n",
    "        ExperimentResult.stopping_criteria_acc,\n",
    "        ExperimentResult.stopping_criteria_std,\n",
    "        ExperimentResult.experiment_run_date,\n",
    "    )\n",
    "    .where(\n",
    "        (ExperimentResult.amount_of_user_asked_queries < 1000)\n",
    "        & (ExperimentResult.dataset_name == \"zebra\")\n",
    "        & (\n",
    "            ExperimentResult.experiment_run_date > (datetime(2020, 3, 24, 14, 0))\n",
    "        )  # no stopping criterias\n",
    "    )\n",
    "    .order_by(\n",
    "        # ExperimentResult.id_field.desc(),\n",
    "        ExperimentResult.acc_test.desc(),\n",
    "    )\n",
    "    .limit(20)\n",
    ")\n",
    "\n",
    "# INTERESSANT: selbst wenn es keine Einschränkung bei der Berechnung auf weak/no_weak gibt werden Cluster verwendet!\n",
    "\n",
    "\n",
    "table = []\n",
    "id = 0\n",
    "for result in results:\n",
    "    data = {**{\"id\": id}, **vars(result)[\"__data__\"]}\n",
    "    # data[\"param_list_id\"] = data[\"__data__\"][\"param_list_id\"]\n",
    "    # del data[\"__data__\"]\n",
    "    # del data[\"_dirty\"]\n",
    "    # del data[\"__rel__\"]\n",
    "\n",
    "    # data = {**data, **vars(one_param_list_id_result)[\"__data__\"]}\n",
    "\n",
    "    table.append(data)\n",
    "    id += 1\n",
    "\n",
    "display(HTML(tabulate(table, headers=\"keys\", tablefmt=\"html\")))"
   ]
  },
  {
   "cell_type": "code",
   "execution_count": 4,
   "metadata": {},
   "outputs": [
    {
     "name": "stdout",
     "output_type": "stream",
     "text": [
      "Loaded Top 0 data\n"
     ]
    }
   ],
   "source": [
    "# SELECT id_field, param_list_id, dataset_path, start_set_size as sss, sampling, cluster, allow_recommendations_after_stop as SA, stopping_criteria_uncertainty as SCU, stopping_criteria_std as SCS, stopping_criteria_acc as SCA, amount_of_user_asked_queries as \"#q\", acc_test, fit_score, global_score_norm, thread_id, end_time from experimentresult where param_list_id='31858014d685a3f1ba3e4e32690ddfc3' order by end_time, fit_score desc, param_list_id;\n",
    "loaded_data = {}\n",
    "\n",
    "\n",
    "def pre_fetch_data(top_n=0):\n",
    "    best_param_list_id = table[top_n][\"param_list_id\"]\n",
    "\n",
    "    results = (\n",
    "        ExperimentResult.select()\n",
    "        .where(ExperimentResult.param_list_id == best_param_list_id)\n",
    "        .order_by(ExperimentResult.dataset_name)\n",
    "    )\n",
    "\n",
    "    loaded_data[top_n] = []\n",
    "    for result in results:\n",
    "        loaded_data[top_n].append(result)\n",
    "    print(\"Loaded Top \" + str(top_n) + \" data\")\n",
    "\n",
    "\n",
    "pre_fetch_data(0)"
   ]
  },
  {
   "cell_type": "code",
   "execution_count": 5,
   "metadata": {},
   "outputs": [],
   "source": [
    "def visualise_top_n(top_n=0):\n",
    "    charts = []\n",
    "\n",
    "    alt.renderers.enable(\"html\")\n",
    "\n",
    "    for result in loaded_data[top_n][:]:\n",
    "        metrics = loads(result.metrics_per_al_cycle)\n",
    "        test_data_metrics = [\n",
    "            metrics[\"test_data_metrics\"][0][f][0][\"weighted avg\"]\n",
    "            for f in range(0, len(metrics[\"test_data_metrics\"][0]))\n",
    "        ]\n",
    "        test_acc = [\n",
    "            metrics[\"test_data_metrics\"][0][f][0][\"accuracy\"]\n",
    "            for f in range(0, len(metrics[\"test_data_metrics\"][0]))\n",
    "        ]\n",
    "\n",
    "        data = pd.DataFrame(\n",
    "            {\n",
    "                \"iteration\": range(0, len(metrics[\"all_unlabeled_roc_auc_scores\"])),\n",
    "                \"all_unlabeled_roc_auc_scores\": metrics[\"all_unlabeled_roc_auc_scores\"],\n",
    "                \"query_length\": metrics[\"query_length\"],\n",
    "                \"recommendation\": metrics[\"recommendation\"],\n",
    "                \"query_strong_accuracy_list\": metrics[\"query_strong_accuracy_list\"],\n",
    "                \"f1\": [i[\"f1-score\"] for i in test_data_metrics],\n",
    "                \"test_acc\": test_acc,\n",
    "                #'asked_queries': [sum(metrics['query_length'][:i]) for i in range(0, len(metrics['query_length']))],\n",
    "            }\n",
    "        )\n",
    "\n",
    "        # bar width\n",
    "        data[\"asked_queries\"] = data[\"query_length\"].cumsum()\n",
    "        data[\"asked_queries_end\"] = data[\"asked_queries\"].shift(fill_value=0)\n",
    "\n",
    "        # print(data[['asked_queries', 'query_length']])\n",
    "\n",
    "        data[\"recommendation\"] = data[\"recommendation\"].replace(\n",
    "            {\n",
    "                \"A\": \"Oracle\",\n",
    "                \"C\": \"Weak Cluster\",\n",
    "                \"U\": \"Weak Certainty\",\n",
    "                \"G\": \"Ground Truth\",\n",
    "            }\n",
    "        )\n",
    "\n",
    "        # data = data[:100]\n",
    "\n",
    "        # calculate global score OHNE\n",
    "\n",
    "        chart = (\n",
    "            alt.Chart(data)\n",
    "            .mark_rect(\n",
    "                # point=True,\n",
    "                # line=True,\n",
    "                # interpolate='step-after',\n",
    "            )\n",
    "            .encode(\n",
    "                x=alt.X(\"asked_queries_end\", title=\"#asked queries (weak and oracle)\"),\n",
    "                x2=\"asked_queries\",\n",
    "                color=alt.Color(\"recommendation\", scale=alt.Scale(scheme=\"tableau10\")),\n",
    "                tooltip=[\n",
    "                    \"iteration\",\n",
    "                    \"f1\",\n",
    "                    \"test_acc\",\n",
    "                    \"all_unlabeled_roc_auc_scores\",\n",
    "                    \"query_strong_accuracy_list\",\n",
    "                    \"query_length\",\n",
    "                    \"recommendation\",\n",
    "                ],\n",
    "                # scale=alt.Scale(domain=[0,1])\n",
    "            )\n",
    "            .properties(title=result.dataset_name)\n",
    "            .interactive()\n",
    "        )\n",
    "        charts.append(\n",
    "            alt.hconcat(\n",
    "                chart.encode(\n",
    "                    alt.Y(\n",
    "                        \"all_unlabeled_roc_auc_scores\", scale=alt.Scale(domain=[0, 1])\n",
    "                    )\n",
    "                ).properties(title=result.dataset_name + \": roc_auc\"),\n",
    "                # chart.encode(alt.Y('f1', scale=alt.Scale(domain=[0,1]))).properties(title=result.dataset_name + ': f1'),\n",
    "                chart.encode(\n",
    "                    alt.Y(\"test_acc\", scale=alt.Scale(domain=[0, 1]))\n",
    "                ).properties(title=result.dataset_name + \": test_acc\"),\n",
    "            )\n",
    "        )\n",
    "\n",
    "    return alt.vconcat(*charts).configure()\n",
    "\n",
    "\n",
    "# visualise_top_n(0)"
   ]
  },
  {
   "cell_type": "code",
   "execution_count": 6,
   "metadata": {},
   "outputs": [
    {
     "ename": "KeyError",
     "evalue": "1",
     "output_type": "error",
     "traceback": [
      "\u001b[0;31m---------------------------------------------------------------------------\u001b[0m",
      "\u001b[0;31mKeyError\u001b[0m                                  Traceback (most recent call last)",
      "\u001b[0;32m<ipython-input-6-4c5cf4a1c593>\u001b[0m in \u001b[0;36m<module>\u001b[0;34m\u001b[0m\n\u001b[1;32m    102\u001b[0m     [\n\u001b[1;32m    103\u001b[0m         \u001b[0mloaded_data\u001b[0m\u001b[0;34m[\u001b[0m\u001b[0;36m0\u001b[0m\u001b[0;34m]\u001b[0m\u001b[0;34m,\u001b[0m\u001b[0;34m\u001b[0m\u001b[0;34m\u001b[0m\u001b[0m\n\u001b[0;32m--> 104\u001b[0;31m         \u001b[0mloaded_data\u001b[0m\u001b[0;34m[\u001b[0m\u001b[0;36m1\u001b[0m\u001b[0;34m]\u001b[0m\u001b[0;34m,\u001b[0m\u001b[0;34m\u001b[0m\u001b[0;34m\u001b[0m\u001b[0m\n\u001b[0m\u001b[1;32m    105\u001b[0m         \u001b[0;31m# loaded_data[2],\u001b[0m\u001b[0;34m\u001b[0m\u001b[0;34m\u001b[0m\u001b[0;34m\u001b[0m\u001b[0m\n\u001b[1;32m    106\u001b[0m     ]  # , loaded_data[3], loaded_data[4]]\n",
      "\u001b[0;31mKeyError\u001b[0m: 1"
     ]
    }
   ],
   "source": [
    "def compare_data(datasets):\n",
    "    charts = []\n",
    "\n",
    "    alt.renderers.enable(\"html\")\n",
    "    all_data = pd.DataFrame()\n",
    "\n",
    "    for i, dataset in enumerate(datasets):\n",
    "        for result in dataset:\n",
    "            if result.dataset_name != \"dwtc\":\n",
    "                continue\n",
    "            metrics = loads(result.metrics_per_al_cycle)\n",
    "            test_data_metrics = [\n",
    "                metrics[\"test_data_metrics\"][0][f][0][\"weighted avg\"]\n",
    "                for f in range(0, len(metrics[\"test_data_metrics\"][0]))\n",
    "            ]\n",
    "            test_acc = [\n",
    "                metrics[\"test_data_metrics\"][0][f][0][\"accuracy\"]\n",
    "                for f in range(0, len(metrics[\"test_data_metrics\"][0]))\n",
    "            ]\n",
    "\n",
    "            data = pd.DataFrame(\n",
    "                {\n",
    "                    \"iteration\": range(0, len(metrics[\"all_unlabeled_roc_auc_scores\"])),\n",
    "                    \"all_unlabeled_roc_auc_scores\": metrics[\n",
    "                        \"all_unlabeled_roc_auc_scores\"\n",
    "                    ],\n",
    "                    \"query_length\": metrics[\"query_length\"],\n",
    "                    \"recommendation\": metrics[\"recommendation\"],\n",
    "                    \"query_strong_accuracy_list\": metrics[\"query_strong_accuracy_list\"],\n",
    "                    \"f1\": [i[\"f1-score\"] for i in test_data_metrics],\n",
    "                    \"test_acc\": test_acc,\n",
    "                    \"top_n\": str(i),\n",
    "                    #'asked_queries': [sum(metrics['query_length'][:i]) for i in range(0, len(metrics['query_length']))],\n",
    "                }\n",
    "            )\n",
    "\n",
    "            # bar width\n",
    "            data[\"asked_queries\"] = data[\"query_length\"].cumsum()\n",
    "            data[\"asked_queries_end\"] = data[\"asked_queries\"].shift(fill_value=0)\n",
    "\n",
    "            # print(data[['asked_queries', 'query_length']])\n",
    "\n",
    "            data[\"recommendation\"] = data[\"recommendation\"].replace(\n",
    "                {\n",
    "                    \"A\": \"Oracle\",\n",
    "                    \"C\": \"Weak Cluster\",\n",
    "                    \"U\": \"Weak Certainty\",\n",
    "                    \"G\": \"Ground Truth\",\n",
    "                }\n",
    "            )\n",
    "\n",
    "            all_data = pd.concat([all_data, data])\n",
    "\n",
    "        # data = data[:100]\n",
    "\n",
    "        # calculate global score OHNE\n",
    "\n",
    "    points = (\n",
    "        alt.Chart(all_data,)\n",
    "        .mark_point()\n",
    "        .encode(\n",
    "            x=\"asked_queries:Q\",\n",
    "            y=\"test_acc:Q\",\n",
    "            shape=\"recommendation:N\",\n",
    "            color=\"recommendation:N\",\n",
    "        )\n",
    "    )\n",
    "\n",
    "    lines = (\n",
    "        alt.Chart(all_data,)\n",
    "        .mark_line(interpolate=\"step-before\")\n",
    "        .encode(\n",
    "            x=alt.X(\n",
    "                \"asked_queries:Q\", scale=alt.Scale(domain=[-1, 2900], type=\"linear\")\n",
    "            ),\n",
    "            y=alt.Y(\"test_acc:Q\", scale=alt.Scale(domain=[0.3, 0.82], type=\"linear\")),\n",
    "            color=\"top_n:N\",\n",
    "            # shape=\"top_n\",\n",
    "            # strokeDash=\"top_n\",\n",
    "            # shape=\"recommendation\",\n",
    "            # color=\"recommendation:N\",\n",
    "        )\n",
    "    )\n",
    "\n",
    "    return (\n",
    "        alt.layer(points, lines)\n",
    "        .resolve_scale(color=\"independent\", shape=\"independent\")\n",
    "        .configure_legend(\n",
    "            orient=\"bottom-right\",\n",
    "            padding=10,\n",
    "            fillColor=\"#f1f1f1\",\n",
    "            labelOpacity=0.9,\n",
    "            labelOverlap=True,\n",
    "            # opacity=0.6,\n",
    "        )\n",
    "        .properties(title=\"Comparison of \")\n",
    "        .interactive()\n",
    "    )\n",
    "\n",
    "\n",
    "compare_data(\n",
    "    [\n",
    "        loaded_data[0],\n",
    "        loaded_data[1],\n",
    "        # loaded_data[2],\n",
    "    ]  # , loaded_data[3], loaded_data[4]]\n",
    ")"
   ]
  },
  {
   "cell_type": "code",
   "execution_count": 7,
   "metadata": {},
   "outputs": [
    {
     "data": {
      "text/html": [
       "<div>\n",
       "<style scoped>\n",
       "    .dataframe tbody tr th:only-of-type {\n",
       "        vertical-align: middle;\n",
       "    }\n",
       "\n",
       "    .dataframe tbody tr th {\n",
       "        vertical-align: top;\n",
       "    }\n",
       "\n",
       "    .dataframe thead th {\n",
       "        text-align: right;\n",
       "    }\n",
       "</style>\n",
       "<table border=\"1\" class=\"dataframe\">\n",
       "  <thead>\n",
       "    <tr style=\"text-align: right;\">\n",
       "      <th></th>\n",
       "      <th>0</th>\n",
       "      <th>1</th>\n",
       "    </tr>\n",
       "  </thead>\n",
       "  <tbody>\n",
       "    <tr>\n",
       "      <th>0</th>\n",
       "      <td>9</td>\n",
       "      <td>0.557979</td>\n",
       "    </tr>\n",
       "    <tr>\n",
       "      <th>1</th>\n",
       "      <td>9</td>\n",
       "      <td>0.549325</td>\n",
       "    </tr>\n",
       "    <tr>\n",
       "      <th>2</th>\n",
       "      <td>9</td>\n",
       "      <td>0.527864</td>\n",
       "    </tr>\n",
       "    <tr>\n",
       "      <th>3</th>\n",
       "      <td>9</td>\n",
       "      <td>0.519211</td>\n",
       "    </tr>\n",
       "    <tr>\n",
       "      <th>4</th>\n",
       "      <td>9</td>\n",
       "      <td>0.515057</td>\n",
       "    </tr>\n",
       "    <tr>\n",
       "      <th>...</th>\n",
       "      <td>...</td>\n",
       "      <td>...</td>\n",
       "    </tr>\n",
       "    <tr>\n",
       "      <th>21555</th>\n",
       "      <td>0</td>\n",
       "      <td>0.085843</td>\n",
       "    </tr>\n",
       "    <tr>\n",
       "      <th>21556</th>\n",
       "      <td>0</td>\n",
       "      <td>0.081343</td>\n",
       "    </tr>\n",
       "    <tr>\n",
       "      <th>21557</th>\n",
       "      <td>0</td>\n",
       "      <td>0.079612</td>\n",
       "    </tr>\n",
       "    <tr>\n",
       "      <th>21558</th>\n",
       "      <td>0</td>\n",
       "      <td>0.077882</td>\n",
       "    </tr>\n",
       "    <tr>\n",
       "      <th>21559</th>\n",
       "      <td>0</td>\n",
       "      <td>0.071305</td>\n",
       "    </tr>\n",
       "  </tbody>\n",
       "</table>\n",
       "<p>21560 rows × 2 columns</p>\n",
       "</div>"
      ],
      "text/plain": [
       "       0         1\n",
       "0      9  0.557979\n",
       "1      9  0.549325\n",
       "2      9  0.527864\n",
       "3      9  0.519211\n",
       "4      9  0.515057\n",
       "...   ..       ...\n",
       "21555  0  0.085843\n",
       "21556  0  0.081343\n",
       "21557  0  0.079612\n",
       "21558  0  0.077882\n",
       "21559  0  0.071305\n",
       "\n",
       "[21560 rows x 2 columns]"
      ]
     },
     "execution_count": 7,
     "metadata": {},
     "output_type": "execute_result"
    }
   ],
   "source": [
    "results = (\n",
    "    ExperimentResult.select(\n",
    "        ExperimentResult.amount_of_user_asked_queries, ExperimentResult.acc_test,\n",
    "    ).where(\n",
    "        # (ExperimentResult.stopping_criteria_acc == 1)\n",
    "        # & (ExperimentResult.stopping_criteria_std == 1)\n",
    "        # & (ExperimentResult.stopping_criteria_uncertainty == 1)\n",
    "        # & (ExperimentResult.sampling == \"random\")\n",
    "        #  & (ExperimentResult.cluster == \"random\")\n",
    "        # & (ExperimentResult.amount_of_user_asked_queries == 10)\n",
    "        # & (ExperimentResult.with_cluster_recommendation == True)\n",
    "        # & (ExperimentResult.with_uncertainty_recommendation == True)\n",
    "        (ExperimentResult.amount_of_user_asked_queries < 10)\n",
    "        & (ExperimentResult.dataset_name == \"dwtc\")\n",
    "        & (\n",
    "            ExperimentResult.experiment_run_date > (datetime(2020, 3, 24, 14, 0))\n",
    "        )  # no stopping criterias\n",
    "    )\n",
    "    #  .group_by(ExperimentResult.amount_of_user_asked_queries)\n",
    "    .order_by(\n",
    "        ExperimentResult.amount_of_user_asked_queries.desc(),\n",
    "        ExperimentResult.acc_test.desc()\n",
    "        #  peewee.fn.MAX(ExperimentResult.acc_test)\n",
    "        #  peewee.fn.COUNT(ExperimentResult.).desc(),\n",
    "        #  peewee.fn.AVG(ORDER_BY).desc(),\n",
    "    )\n",
    "    #  .limit(10)\n",
    ")\n",
    "data = []\n",
    "for result in results:\n",
    "    data.append((result.amount_of_user_asked_queries, result.acc_test))\n",
    "    #  print(\"{}\\t{}\".format(result.amount_of_user_asked_queries, result.max))\n",
    "pd.DataFrame(data)"
   ]
  },
  {
   "cell_type": "code",
   "execution_count": 8,
   "metadata": {},
   "outputs": [
    {
     "data": {
      "text/html": [
       "<table>\n",
       "<thead>\n",
       "<tr><th style=\"text-align: right;\">  id</th><th style=\"text-align: right;\">  avg_fit_score</th><th style=\"text-align: right;\">  stddev_fit_score</th><th style=\"text-align: right;\">  avg_global_score</th><th style=\"text-align: right;\">  stddev_global_score</th><th style=\"text-align: right;\">  avg_amount_oracle</th><th style=\"text-align: right;\">  std_amount_oracle</th><th style=\"text-align: right;\">  count</th><th>param_list_id                   </th></tr>\n",
       "</thead>\n",
       "<tbody>\n",
       "<tr><td style=\"text-align: right;\">   0</td><td style=\"text-align: right;\">       0.864919</td><td style=\"text-align: right;\">         0.0038225</td><td style=\"text-align: right;\">          0.605071</td><td style=\"text-align: right;\">            0.0148437</td><td style=\"text-align: right;\">                210</td><td style=\"text-align: right;\">                  0</td><td style=\"text-align: right;\">      3</td><td>9be1af7172eb7d3da78ed4e86a803e29</td></tr>\n",
       "</tbody>\n",
       "</table>"
      ],
      "text/plain": [
       "<IPython.core.display.HTML object>"
      ]
     },
     "metadata": {},
     "output_type": "display_data"
    },
    {
     "data": {
      "text/html": [
       "<table>\n",
       "<thead>\n",
       "<tr><th>recommendation  </th><th style=\"text-align: right;\">  iteration</th><th style=\"text-align: right;\">  all_unlabeled_roc_auc_scores</th><th style=\"text-align: right;\">  query_length</th><th style=\"text-align: right;\">  query_strong_accuracy_list</th><th style=\"text-align: right;\">       f1</th><th style=\"text-align: right;\">  test_acc</th><th style=\"text-align: right;\">  fit_score</th><th style=\"text-align: right;\">  acc_diff</th></tr>\n",
       "</thead>\n",
       "<tbody>\n",
       "<tr><td>A               </td><td style=\"text-align: right;\">        231</td><td style=\"text-align: right;\">                     18.5932  </td><td style=\"text-align: right;\">           210</td><td style=\"text-align: right;\">                           0</td><td style=\"text-align: right;\">14.681   </td><td style=\"text-align: right;\"> 15.0377  </td><td style=\"text-align: right;\">  18.0706  </td><td style=\"text-align: right;\">  0.439598</td></tr>\n",
       "<tr><td>G               </td><td style=\"text-align: right;\">          0</td><td style=\"text-align: right;\">                      0.718982</td><td style=\"text-align: right;\">             4</td><td style=\"text-align: right;\">                           0</td><td style=\"text-align: right;\"> 0.307855</td><td style=\"text-align: right;\">  0.363101</td><td style=\"text-align: right;\">   0.860507</td><td style=\"text-align: right;\">  0       </td></tr>\n",
       "</tbody>\n",
       "</table>"
      ],
      "text/plain": [
       "<IPython.core.display.HTML object>"
      ]
     },
     "metadata": {},
     "output_type": "display_data"
    },
    {
     "data": {
      "text/html": [
       "<table>\n",
       "<thead>\n",
       "<tr><th style=\"text-align: right;\">  id</th><th style=\"text-align: right;\">  avg_fit_score</th><th style=\"text-align: right;\">  stddev_fit_score</th><th style=\"text-align: right;\">  avg_global_score</th><th style=\"text-align: right;\">  stddev_global_score</th><th style=\"text-align: right;\">  avg_amount_oracle</th><th style=\"text-align: right;\">  std_amount_oracle</th><th style=\"text-align: right;\">  count</th><th>param_list_id                   </th></tr>\n",
       "</thead>\n",
       "<tbody>\n",
       "<tr><td style=\"text-align: right;\">   0</td><td style=\"text-align: right;\">       0.834726</td><td style=\"text-align: right;\">        0.00667042</td><td style=\"text-align: right;\">          0.455027</td><td style=\"text-align: right;\">            0.0419509</td><td style=\"text-align: right;\">                202</td><td style=\"text-align: right;\">                  2</td><td style=\"text-align: right;\">      3</td><td>ea5bee42f65c794983c9717673a572da</td></tr>\n",
       "</tbody>\n",
       "</table>"
      ],
      "text/plain": [
       "<IPython.core.display.HTML object>"
      ]
     },
     "metadata": {},
     "output_type": "display_data"
    },
    {
     "data": {
      "text/html": [
       "<table>\n",
       "<thead>\n",
       "<tr><th>recommendation  </th><th style=\"text-align: right;\">  iteration</th><th style=\"text-align: right;\">  all_unlabeled_roc_auc_scores</th><th style=\"text-align: right;\">  query_length</th><th style=\"text-align: right;\">  query_strong_accuracy_list</th><th style=\"text-align: right;\">       f1</th><th style=\"text-align: right;\">  test_acc</th><th style=\"text-align: right;\">  fit_score</th><th style=\"text-align: right;\">  acc_diff</th></tr>\n",
       "</thead>\n",
       "<tbody>\n",
       "<tr><td>A               </td><td style=\"text-align: right;\">       1217</td><td style=\"text-align: right;\">                     38.4039  </td><td style=\"text-align: right;\">           201</td><td style=\"text-align: right;\">                           0</td><td style=\"text-align: right;\">25.2486  </td><td style=\"text-align: right;\"> 26.334   </td><td style=\"text-align: right;\">  37.9043  </td><td style=\"text-align: right;\">  0.26999 </td></tr>\n",
       "<tr><td>C               </td><td style=\"text-align: right;\">        161</td><td style=\"text-align: right;\">                      5.88771 </td><td style=\"text-align: right;\">            49</td><td style=\"text-align: right;\">                           7</td><td style=\"text-align: right;\"> 3.66803 </td><td style=\"text-align: right;\">  3.86154 </td><td style=\"text-align: right;\">   5.89623 </td><td style=\"text-align: right;\">  0.044306</td></tr>\n",
       "<tr><td>G               </td><td style=\"text-align: right;\">          0</td><td style=\"text-align: right;\">                      0.684266</td><td style=\"text-align: right;\">             4</td><td style=\"text-align: right;\">                           0</td><td style=\"text-align: right;\"> 0.434149</td><td style=\"text-align: right;\">  0.455175</td><td style=\"text-align: right;\">   0.842318</td><td style=\"text-align: right;\">  0       </td></tr>\n",
       "</tbody>\n",
       "</table>"
      ],
      "text/plain": [
       "<IPython.core.display.HTML object>"
      ]
     },
     "metadata": {},
     "output_type": "display_data"
    },
    {
     "data": {
      "text/html": [
       "<table>\n",
       "<thead>\n",
       "<tr><th style=\"text-align: right;\">  id</th><th style=\"text-align: right;\">  avg_fit_score</th><th style=\"text-align: right;\">  stddev_fit_score</th><th style=\"text-align: right;\">  avg_global_score</th><th style=\"text-align: right;\">  stddev_global_score</th><th style=\"text-align: right;\">  avg_amount_oracle</th><th style=\"text-align: right;\">  std_amount_oracle</th><th style=\"text-align: right;\">  count</th><th>param_list_id                   </th></tr>\n",
       "</thead>\n",
       "<tbody>\n",
       "<tr><td style=\"text-align: right;\">   0</td><td style=\"text-align: right;\">       0.830242</td><td style=\"text-align: right;\">         0.0100828</td><td style=\"text-align: right;\">          0.452412</td><td style=\"text-align: right;\">            0.0474001</td><td style=\"text-align: right;\">                204</td><td style=\"text-align: right;\">                  3</td><td style=\"text-align: right;\">      3</td><td>0b0afb9076c37bab26a334f0e0b6c973</td></tr>\n",
       "</tbody>\n",
       "</table>"
      ],
      "text/plain": [
       "<IPython.core.display.HTML object>"
      ]
     },
     "metadata": {},
     "output_type": "display_data"
    },
    {
     "data": {
      "text/html": [
       "<table>\n",
       "<thead>\n",
       "<tr><th>recommendation  </th><th style=\"text-align: right;\">  iteration</th><th style=\"text-align: right;\">  all_unlabeled_roc_auc_scores</th><th style=\"text-align: right;\">  query_length</th><th style=\"text-align: right;\">  query_strong_accuracy_list</th><th style=\"text-align: right;\">       f1</th><th style=\"text-align: right;\">  test_acc</th><th style=\"text-align: right;\">  fit_score</th><th style=\"text-align: right;\">  acc_diff</th></tr>\n",
       "</thead>\n",
       "<tbody>\n",
       "<tr><td>A               </td><td style=\"text-align: right;\">        990</td><td style=\"text-align: right;\">                     34.194   </td><td style=\"text-align: right;\">           207</td><td style=\"text-align: right;\">                           0</td><td style=\"text-align: right;\">22.4177  </td><td style=\"text-align: right;\"> 23.9103  </td><td style=\"text-align: right;\">  36.0188  </td><td style=\"text-align: right;\">    0.4081</td></tr>\n",
       "<tr><td>G               </td><td style=\"text-align: right;\">          0</td><td style=\"text-align: right;\">                      0.744325</td><td style=\"text-align: right;\">             4</td><td style=\"text-align: right;\">                           0</td><td style=\"text-align: right;\"> 0.286287</td><td style=\"text-align: right;\">  0.323988</td><td style=\"text-align: right;\">   0.818609</td><td style=\"text-align: right;\">    0     </td></tr>\n",
       "</tbody>\n",
       "</table>"
      ],
      "text/plain": [
       "<IPython.core.display.HTML object>"
      ]
     },
     "metadata": {},
     "output_type": "display_data"
    },
    {
     "data": {
      "text/html": [
       "<table>\n",
       "<thead>\n",
       "<tr><th style=\"text-align: right;\">  id</th><th style=\"text-align: right;\">  avg_fit_score</th><th style=\"text-align: right;\">  stddev_fit_score</th><th style=\"text-align: right;\">  avg_global_score</th><th style=\"text-align: right;\">  stddev_global_score</th><th style=\"text-align: right;\">  avg_amount_oracle</th><th style=\"text-align: right;\">  std_amount_oracle</th><th style=\"text-align: right;\">  count</th><th>param_list_id                   </th></tr>\n",
       "</thead>\n",
       "<tbody>\n",
       "<tr><td style=\"text-align: right;\">   0</td><td style=\"text-align: right;\">       0.826798</td><td style=\"text-align: right;\">         0.0071449</td><td style=\"text-align: right;\">          0.415409</td><td style=\"text-align: right;\">            0.0288598</td><td style=\"text-align: right;\">                205</td><td style=\"text-align: right;\">                  2</td><td style=\"text-align: right;\">      3</td><td>66f0ed0dfad3367443c839db61b1f2d1</td></tr>\n",
       "</tbody>\n",
       "</table>"
      ],
      "text/plain": [
       "<IPython.core.display.HTML object>"
      ]
     },
     "metadata": {},
     "output_type": "display_data"
    },
    {
     "data": {
      "text/html": [
       "<table>\n",
       "<thead>\n",
       "<tr><th>recommendation  </th><th style=\"text-align: right;\">  iteration</th><th style=\"text-align: right;\">  all_unlabeled_roc_auc_scores</th><th style=\"text-align: right;\">  query_length</th><th style=\"text-align: right;\">  query_strong_accuracy_list</th><th style=\"text-align: right;\">       f1</th><th style=\"text-align: right;\">  test_acc</th><th style=\"text-align: right;\">  fit_score</th><th style=\"text-align: right;\">  acc_diff</th></tr>\n",
       "</thead>\n",
       "<tbody>\n",
       "<tr><td>A               </td><td style=\"text-align: right;\">       1104</td><td style=\"text-align: right;\">                     34.975   </td><td style=\"text-align: right;\">           207</td><td style=\"text-align: right;\">                           0</td><td style=\"text-align: right;\">23.354   </td><td style=\"text-align: right;\"> 24.5781  </td><td style=\"text-align: right;\">  36.0474  </td><td style=\"text-align: right;\"> 0.240222 </td></tr>\n",
       "<tr><td>C               </td><td style=\"text-align: right;\">        274</td><td style=\"text-align: right;\">                      6.53199 </td><td style=\"text-align: right;\">            34</td><td style=\"text-align: right;\">                           8</td><td style=\"text-align: right;\"> 4.67778 </td><td style=\"text-align: right;\">  4.88058 </td><td style=\"text-align: right;\">   6.55406 </td><td style=\"text-align: right;\"> 0.0314988</td></tr>\n",
       "<tr><td>G               </td><td style=\"text-align: right;\">          0</td><td style=\"text-align: right;\">                      0.768082</td><td style=\"text-align: right;\">             4</td><td style=\"text-align: right;\">                           0</td><td style=\"text-align: right;\"> 0.453486</td><td style=\"text-align: right;\">  0.461405</td><td style=\"text-align: right;\">   0.819258</td><td style=\"text-align: right;\"> 0        </td></tr>\n",
       "</tbody>\n",
       "</table>"
      ],
      "text/plain": [
       "<IPython.core.display.HTML object>"
      ]
     },
     "metadata": {},
     "output_type": "display_data"
    },
    {
     "data": {
      "text/html": [
       "<table>\n",
       "<thead>\n",
       "<tr><th style=\"text-align: right;\">  id</th><th style=\"text-align: right;\">  avg_fit_score</th><th style=\"text-align: right;\">  stddev_fit_score</th><th style=\"text-align: right;\">  avg_global_score</th><th style=\"text-align: right;\">  stddev_global_score</th><th style=\"text-align: right;\">  avg_amount_oracle</th><th style=\"text-align: right;\">  std_amount_oracle</th><th style=\"text-align: right;\">  count</th><th>param_list_id                   </th></tr>\n",
       "</thead>\n",
       "<tbody>\n",
       "<tr><td style=\"text-align: right;\">   0</td><td style=\"text-align: right;\">       0.826545</td><td style=\"text-align: right;\">          0.018424</td><td style=\"text-align: right;\">           0.45503</td><td style=\"text-align: right;\">             0.021581</td><td style=\"text-align: right;\">                202</td><td style=\"text-align: right;\">                  1</td><td style=\"text-align: right;\">      3</td><td>90e177101755ee1ab34a435cd438b741</td></tr>\n",
       "</tbody>\n",
       "</table>"
      ],
      "text/plain": [
       "<IPython.core.display.HTML object>"
      ]
     },
     "metadata": {},
     "output_type": "display_data"
    },
    {
     "data": {
      "text/html": [
       "<table>\n",
       "<thead>\n",
       "<tr><th>recommendation  </th><th style=\"text-align: right;\">  iteration</th><th style=\"text-align: right;\">  all_unlabeled_roc_auc_scores</th><th style=\"text-align: right;\">  query_length</th><th style=\"text-align: right;\">  query_strong_accuracy_list</th><th style=\"text-align: right;\">       f1</th><th style=\"text-align: right;\">  test_acc</th><th style=\"text-align: right;\">  fit_score</th><th style=\"text-align: right;\">  acc_diff</th></tr>\n",
       "</thead>\n",
       "<tbody>\n",
       "<tr><td>A               </td><td style=\"text-align: right;\">       1485</td><td style=\"text-align: right;\">                     46.3243  </td><td style=\"text-align: right;\">           202</td><td style=\"text-align: right;\">                           0</td><td style=\"text-align: right;\">33.3955  </td><td style=\"text-align: right;\"> 33.5746  </td><td style=\"text-align: right;\">  45.6227  </td><td style=\"text-align: right;\">  0.267913</td></tr>\n",
       "<tr><td>G               </td><td style=\"text-align: right;\">          0</td><td style=\"text-align: right;\">                      0.674749</td><td style=\"text-align: right;\">             4</td><td style=\"text-align: right;\">                           0</td><td style=\"text-align: right;\"> 0.470939</td><td style=\"text-align: right;\">  0.506057</td><td style=\"text-align: right;\">   0.844864</td><td style=\"text-align: right;\">  0       </td></tr>\n",
       "</tbody>\n",
       "</table>"
      ],
      "text/plain": [
       "<IPython.core.display.HTML object>"
      ]
     },
     "metadata": {},
     "output_type": "display_data"
    },
    {
     "data": {
      "text/html": [
       "<table>\n",
       "<thead>\n",
       "<tr><th style=\"text-align: right;\">  id</th><th style=\"text-align: right;\">  avg_fit_score</th><th style=\"text-align: right;\">  stddev_fit_score</th><th style=\"text-align: right;\">  avg_global_score</th><th style=\"text-align: right;\">  stddev_global_score</th><th style=\"text-align: right;\">  avg_amount_oracle</th><th style=\"text-align: right;\">  std_amount_oracle</th><th style=\"text-align: right;\">  count</th><th>param_list_id                   </th></tr>\n",
       "</thead>\n",
       "<tbody>\n",
       "<tr><td style=\"text-align: right;\">   0</td><td style=\"text-align: right;\">       0.824352</td><td style=\"text-align: right;\">        0.00871912</td><td style=\"text-align: right;\">          0.478214</td><td style=\"text-align: right;\">            0.0356563</td><td style=\"text-align: right;\">                204</td><td style=\"text-align: right;\">                  1</td><td style=\"text-align: right;\">      3</td><td>3083a697a26eaecc588773e56ee2d1d5</td></tr>\n",
       "</tbody>\n",
       "</table>"
      ],
      "text/plain": [
       "<IPython.core.display.HTML object>"
      ]
     },
     "metadata": {},
     "output_type": "display_data"
    },
    {
     "data": {
      "text/html": [
       "<table>\n",
       "<thead>\n",
       "<tr><th>recommendation  </th><th style=\"text-align: right;\">  iteration</th><th style=\"text-align: right;\">  all_unlabeled_roc_auc_scores</th><th style=\"text-align: right;\">  query_length</th><th style=\"text-align: right;\">  query_strong_accuracy_list</th><th style=\"text-align: right;\">       f1</th><th style=\"text-align: right;\">  test_acc</th><th style=\"text-align: right;\">  fit_score</th><th style=\"text-align: right;\">  acc_diff</th></tr>\n",
       "</thead>\n",
       "<tbody>\n",
       "<tr><td>A               </td><td style=\"text-align: right;\">       1177</td><td style=\"text-align: right;\">                     35.2161  </td><td style=\"text-align: right;\">           203</td><td style=\"text-align: right;\">                           0</td><td style=\"text-align: right;\">24.7714  </td><td style=\"text-align: right;\"> 25.1094  </td><td style=\"text-align: right;\">  34.9257  </td><td style=\"text-align: right;\"> 0.384562 </td></tr>\n",
       "<tr><td>C               </td><td style=\"text-align: right;\">        201</td><td style=\"text-align: right;\">                      8.19993 </td><td style=\"text-align: right;\">           138</td><td style=\"text-align: right;\">                          10</td><td style=\"text-align: right;\"> 5.32409 </td><td style=\"text-align: right;\">  5.44894 </td><td style=\"text-align: right;\">   8.31565 </td><td style=\"text-align: right;\"> 0.0311526</td></tr>\n",
       "<tr><td>G               </td><td style=\"text-align: right;\">          0</td><td style=\"text-align: right;\">                      0.687968</td><td style=\"text-align: right;\">             4</td><td style=\"text-align: right;\">                           0</td><td style=\"text-align: right;\"> 0.297591</td><td style=\"text-align: right;\">  0.336449</td><td style=\"text-align: right;\">   0.831565</td><td style=\"text-align: right;\"> 0        </td></tr>\n",
       "</tbody>\n",
       "</table>"
      ],
      "text/plain": [
       "<IPython.core.display.HTML object>"
      ]
     },
     "metadata": {},
     "output_type": "display_data"
    },
    {
     "data": {
      "text/html": [
       "<table>\n",
       "<thead>\n",
       "<tr><th style=\"text-align: right;\">  id</th><th style=\"text-align: right;\">  avg_fit_score</th><th style=\"text-align: right;\">  stddev_fit_score</th><th style=\"text-align: right;\">  avg_global_score</th><th style=\"text-align: right;\">  stddev_global_score</th><th style=\"text-align: right;\">  avg_amount_oracle</th><th style=\"text-align: right;\">  std_amount_oracle</th><th style=\"text-align: right;\">  count</th><th>param_list_id                   </th></tr>\n",
       "</thead>\n",
       "<tbody>\n",
       "<tr><td style=\"text-align: right;\">   0</td><td style=\"text-align: right;\">       0.823474</td><td style=\"text-align: right;\">         0.0111426</td><td style=\"text-align: right;\">          0.484451</td><td style=\"text-align: right;\">            0.0277762</td><td style=\"text-align: right;\">                204</td><td style=\"text-align: right;\">                  3</td><td style=\"text-align: right;\">      3</td><td>aea7d3831154b281ee2241971ea2eb01</td></tr>\n",
       "</tbody>\n",
       "</table>"
      ],
      "text/plain": [
       "<IPython.core.display.HTML object>"
      ]
     },
     "metadata": {},
     "output_type": "display_data"
    },
    {
     "data": {
      "text/html": [
       "<table>\n",
       "<thead>\n",
       "<tr><th>recommendation  </th><th style=\"text-align: right;\">  iteration</th><th style=\"text-align: right;\">  all_unlabeled_roc_auc_scores</th><th style=\"text-align: right;\">  query_length</th><th style=\"text-align: right;\">  query_strong_accuracy_list</th><th style=\"text-align: right;\">       f1</th><th style=\"text-align: right;\">  test_acc</th><th style=\"text-align: right;\">  fit_score</th><th style=\"text-align: right;\">  acc_diff</th></tr>\n",
       "</thead>\n",
       "<tbody>\n",
       "<tr><td>A               </td><td style=\"text-align: right;\">       1091</td><td style=\"text-align: right;\">                     36.0951  </td><td style=\"text-align: right;\">           202</td><td style=\"text-align: right;\">                           0</td><td style=\"text-align: right;\">26.5652  </td><td style=\"text-align: right;\"> 27.2454  </td><td style=\"text-align: right;\">  35.8993  </td><td style=\"text-align: right;\">  0.457944</td></tr>\n",
       "<tr><td>C               </td><td style=\"text-align: right;\">        134</td><td style=\"text-align: right;\">                      4.87854 </td><td style=\"text-align: right;\">            47</td><td style=\"text-align: right;\">                           6</td><td style=\"text-align: right;\"> 3.24108 </td><td style=\"text-align: right;\">  3.38975 </td><td style=\"text-align: right;\">   5.00921 </td><td style=\"text-align: right;\"> -0.117342</td></tr>\n",
       "<tr><td>G               </td><td style=\"text-align: right;\">          0</td><td style=\"text-align: right;\">                      0.744269</td><td style=\"text-align: right;\">             4</td><td style=\"text-align: right;\">                           0</td><td style=\"text-align: right;\"> 0.404186</td><td style=\"text-align: right;\">  0.416753</td><td style=\"text-align: right;\">   0.834868</td><td style=\"text-align: right;\">  0       </td></tr>\n",
       "</tbody>\n",
       "</table>"
      ],
      "text/plain": [
       "<IPython.core.display.HTML object>"
      ]
     },
     "metadata": {},
     "output_type": "display_data"
    },
    {
     "data": {
      "text/html": [
       "<table>\n",
       "<thead>\n",
       "<tr><th style=\"text-align: right;\">  id</th><th style=\"text-align: right;\">  avg_fit_score</th><th style=\"text-align: right;\">  stddev_fit_score</th><th style=\"text-align: right;\">  avg_global_score</th><th style=\"text-align: right;\">  stddev_global_score</th><th style=\"text-align: right;\">  avg_amount_oracle</th><th style=\"text-align: right;\">  std_amount_oracle</th><th style=\"text-align: right;\">  count</th><th>param_list_id                   </th></tr>\n",
       "</thead>\n",
       "<tbody>\n",
       "<tr><td style=\"text-align: right;\">   0</td><td style=\"text-align: right;\">       0.820707</td><td style=\"text-align: right;\">        0.00644217</td><td style=\"text-align: right;\">          0.486657</td><td style=\"text-align: right;\">            0.0322894</td><td style=\"text-align: right;\">                204</td><td style=\"text-align: right;\">                  3</td><td style=\"text-align: right;\">      3</td><td>fe63c4544a7ed030194e65af1c15fe8c</td></tr>\n",
       "</tbody>\n",
       "</table>"
      ],
      "text/plain": [
       "<IPython.core.display.HTML object>"
      ]
     },
     "metadata": {},
     "output_type": "display_data"
    },
    {
     "data": {
      "text/html": [
       "<table>\n",
       "<thead>\n",
       "<tr><th>recommendation  </th><th style=\"text-align: right;\">  iteration</th><th style=\"text-align: right;\">  all_unlabeled_roc_auc_scores</th><th style=\"text-align: right;\">  query_length</th><th style=\"text-align: right;\">  query_strong_accuracy_list</th><th style=\"text-align: right;\">       f1</th><th style=\"text-align: right;\">  test_acc</th><th style=\"text-align: right;\">  fit_score</th><th style=\"text-align: right;\">  acc_diff</th></tr>\n",
       "</thead>\n",
       "<tbody>\n",
       "<tr><td>A               </td><td style=\"text-align: right;\">       1480</td><td style=\"text-align: right;\">                     39.5132  </td><td style=\"text-align: right;\">           202</td><td style=\"text-align: right;\">                           0</td><td style=\"text-align: right;\">29.0155  </td><td style=\"text-align: right;\"> 29.5043  </td><td style=\"text-align: right;\">  37.6071  </td><td style=\"text-align: right;\"> 0.266182 </td></tr>\n",
       "<tr><td>C               </td><td style=\"text-align: right;\">        374</td><td style=\"text-align: right;\">                     10.0317  </td><td style=\"text-align: right;\">           228</td><td style=\"text-align: right;\">                          12</td><td style=\"text-align: right;\"> 7.32861 </td><td style=\"text-align: right;\">  7.5071  </td><td style=\"text-align: right;\">   9.81054 </td><td style=\"text-align: right;\"> 0.10765  </td></tr>\n",
       "<tr><td>G               </td><td style=\"text-align: right;\">          0</td><td style=\"text-align: right;\">                      0.680696</td><td style=\"text-align: right;\">             4</td><td style=\"text-align: right;\">                           0</td><td style=\"text-align: right;\"> 0.310387</td><td style=\"text-align: right;\">  0.382139</td><td style=\"text-align: right;\">   0.817545</td><td style=\"text-align: right;\"> 0        </td></tr>\n",
       "<tr><td>U               </td><td style=\"text-align: right;\">         99</td><td style=\"text-align: right;\">                      3.43232 </td><td style=\"text-align: right;\">            54</td><td style=\"text-align: right;\">                           4</td><td style=\"text-align: right;\"> 2.50915 </td><td style=\"text-align: right;\">  2.52475 </td><td style=\"text-align: right;\">   3.27018 </td><td style=\"text-align: right;\">-0.0266528</td></tr>\n",
       "</tbody>\n",
       "</table>"
      ],
      "text/plain": [
       "<IPython.core.display.HTML object>"
      ]
     },
     "metadata": {},
     "output_type": "display_data"
    },
    {
     "data": {
      "text/html": [
       "<table>\n",
       "<thead>\n",
       "<tr><th style=\"text-align: right;\">  id</th><th style=\"text-align: right;\">  avg_fit_score</th><th style=\"text-align: right;\">  stddev_fit_score</th><th style=\"text-align: right;\">  avg_global_score</th><th style=\"text-align: right;\">  stddev_global_score</th><th style=\"text-align: right;\">  avg_amount_oracle</th><th style=\"text-align: right;\">  std_amount_oracle</th><th style=\"text-align: right;\">  count</th><th>param_list_id                   </th></tr>\n",
       "</thead>\n",
       "<tbody>\n",
       "<tr><td style=\"text-align: right;\">   0</td><td style=\"text-align: right;\">       0.820222</td><td style=\"text-align: right;\">        0.00906661</td><td style=\"text-align: right;\">          0.450953</td><td style=\"text-align: right;\">            0.0632254</td><td style=\"text-align: right;\">                203</td><td style=\"text-align: right;\">                  2</td><td style=\"text-align: right;\">      3</td><td>ac0de0f4acc4fe01c4af859ae8e007ce</td></tr>\n",
       "</tbody>\n",
       "</table>"
      ],
      "text/plain": [
       "<IPython.core.display.HTML object>"
      ]
     },
     "metadata": {},
     "output_type": "display_data"
    },
    {
     "data": {
      "text/html": [
       "<table>\n",
       "<thead>\n",
       "<tr><th>recommendation  </th><th style=\"text-align: right;\">  iteration</th><th style=\"text-align: right;\">  all_unlabeled_roc_auc_scores</th><th style=\"text-align: right;\">  query_length</th><th style=\"text-align: right;\">  query_strong_accuracy_list</th><th style=\"text-align: right;\">       f1</th><th style=\"text-align: right;\">  test_acc</th><th style=\"text-align: right;\">  fit_score</th><th style=\"text-align: right;\">  acc_diff</th></tr>\n",
       "</thead>\n",
       "<tbody>\n",
       "<tr><td>A               </td><td style=\"text-align: right;\">       1480</td><td style=\"text-align: right;\">                      42.1055 </td><td style=\"text-align: right;\">           201</td><td style=\"text-align: right;\">                           0</td><td style=\"text-align: right;\">29.4217  </td><td style=\"text-align: right;\"> 30.8245  </td><td style=\"text-align: right;\">  41.3667  </td><td style=\"text-align: right;\"> 0.37037  </td></tr>\n",
       "<tr><td>C               </td><td style=\"text-align: right;\">        116</td><td style=\"text-align: right;\">                       4.16627</td><td style=\"text-align: right;\">            26</td><td style=\"text-align: right;\">                           4</td><td style=\"text-align: right;\"> 2.87862 </td><td style=\"text-align: right;\">  2.99031 </td><td style=\"text-align: right;\">   4.05556 </td><td style=\"text-align: right;\"> 0.0332295</td></tr>\n",
       "<tr><td>G               </td><td style=\"text-align: right;\">          0</td><td style=\"text-align: right;\">                       0.61171</td><td style=\"text-align: right;\">             4</td><td style=\"text-align: right;\">                           0</td><td style=\"text-align: right;\"> 0.323292</td><td style=\"text-align: right;\">  0.315334</td><td style=\"text-align: right;\">   0.811111</td><td style=\"text-align: right;\"> 0        </td></tr>\n",
       "</tbody>\n",
       "</table>"
      ],
      "text/plain": [
       "<IPython.core.display.HTML object>"
      ]
     },
     "metadata": {},
     "output_type": "display_data"
    },
    {
     "data": {
      "text/html": [
       "<table>\n",
       "<thead>\n",
       "<tr><th style=\"text-align: right;\">  id</th><th style=\"text-align: right;\">  avg_fit_score</th><th style=\"text-align: right;\">  stddev_fit_score</th><th style=\"text-align: right;\">  avg_global_score</th><th style=\"text-align: right;\">  stddev_global_score</th><th style=\"text-align: right;\">  avg_amount_oracle</th><th style=\"text-align: right;\">  std_amount_oracle</th><th style=\"text-align: right;\">  count</th><th>param_list_id                   </th></tr>\n",
       "</thead>\n",
       "<tbody>\n",
       "<tr><td style=\"text-align: right;\">   0</td><td style=\"text-align: right;\">       0.820253</td><td style=\"text-align: right;\">        0.00657894</td><td style=\"text-align: right;\">          0.476677</td><td style=\"text-align: right;\">            0.0274764</td><td style=\"text-align: right;\">                203</td><td style=\"text-align: right;\">                  3</td><td style=\"text-align: right;\">      3</td><td>6f2eeea60103912407c79627dcc49a0b</td></tr>\n",
       "</tbody>\n",
       "</table>"
      ],
      "text/plain": [
       "<IPython.core.display.HTML object>"
      ]
     },
     "metadata": {},
     "output_type": "display_data"
    },
    {
     "data": {
      "text/html": [
       "<table>\n",
       "<thead>\n",
       "<tr><th>recommendation  </th><th style=\"text-align: right;\">  iteration</th><th style=\"text-align: right;\">  all_unlabeled_roc_auc_scores</th><th style=\"text-align: right;\">  query_length</th><th style=\"text-align: right;\">  query_strong_accuracy_list</th><th style=\"text-align: right;\">       f1</th><th style=\"text-align: right;\">  test_acc</th><th style=\"text-align: right;\">  fit_score</th><th style=\"text-align: right;\">  acc_diff</th></tr>\n",
       "</thead>\n",
       "<tbody>\n",
       "<tr><td>A               </td><td style=\"text-align: right;\">       1246</td><td style=\"text-align: right;\">                     39.9707  </td><td style=\"text-align: right;\">           203</td><td style=\"text-align: right;\">                           0</td><td style=\"text-align: right;\">29.9082  </td><td style=\"text-align: right;\">  30.1004 </td><td style=\"text-align: right;\">  38.8538  </td><td style=\"text-align: right;\"> 0.348217 </td></tr>\n",
       "<tr><td>C               </td><td style=\"text-align: right;\">         80</td><td style=\"text-align: right;\">                      3.36022 </td><td style=\"text-align: right;\">            34</td><td style=\"text-align: right;\">                           4</td><td style=\"text-align: right;\"> 2.3707  </td><td style=\"text-align: right;\">   2.36691</td><td style=\"text-align: right;\">   3.3067  </td><td style=\"text-align: right;\">-0.0183454</td></tr>\n",
       "<tr><td>G               </td><td style=\"text-align: right;\">          0</td><td style=\"text-align: right;\">                      0.777595</td><td style=\"text-align: right;\">             4</td><td style=\"text-align: right;\">                           0</td><td style=\"text-align: right;\"> 0.407235</td><td style=\"text-align: right;\">   0.41433</td><td style=\"text-align: right;\">   0.826676</td><td style=\"text-align: right;\"> 0        </td></tr>\n",
       "</tbody>\n",
       "</table>"
      ],
      "text/plain": [
       "<IPython.core.display.HTML object>"
      ]
     },
     "metadata": {},
     "output_type": "display_data"
    },
    {
     "data": {
      "text/html": [
       "<table>\n",
       "<thead>\n",
       "<tr><th style=\"text-align: right;\">  id</th><th style=\"text-align: right;\">  avg_fit_score</th><th style=\"text-align: right;\">  stddev_fit_score</th><th style=\"text-align: right;\">  avg_global_score</th><th style=\"text-align: right;\">  stddev_global_score</th><th style=\"text-align: right;\">  avg_amount_oracle</th><th style=\"text-align: right;\">  std_amount_oracle</th><th style=\"text-align: right;\">  count</th><th>param_list_id                   </th></tr>\n",
       "</thead>\n",
       "<tbody>\n",
       "<tr><td style=\"text-align: right;\">   0</td><td style=\"text-align: right;\">       0.819904</td><td style=\"text-align: right;\">         0.0293857</td><td style=\"text-align: right;\">          0.432743</td><td style=\"text-align: right;\">            0.0871254</td><td style=\"text-align: right;\">                201</td><td style=\"text-align: right;\">                  0</td><td style=\"text-align: right;\">      3</td><td>c9a023caa58b0cbb3ddecf49857fec4c</td></tr>\n",
       "</tbody>\n",
       "</table>"
      ],
      "text/plain": [
       "<IPython.core.display.HTML object>"
      ]
     },
     "metadata": {},
     "output_type": "display_data"
    },
    {
     "data": {
      "text/html": [
       "<table>\n",
       "<thead>\n",
       "<tr><th>recommendation  </th><th style=\"text-align: right;\">  iteration</th><th style=\"text-align: right;\">  all_unlabeled_roc_auc_scores</th><th style=\"text-align: right;\">  query_length</th><th style=\"text-align: right;\">  query_strong_accuracy_list</th><th style=\"text-align: right;\">       f1</th><th style=\"text-align: right;\">  test_acc</th><th style=\"text-align: right;\">  fit_score</th><th style=\"text-align: right;\">  acc_diff</th></tr>\n",
       "</thead>\n",
       "<tbody>\n",
       "<tr><td>A               </td><td style=\"text-align: right;\">        916</td><td style=\"text-align: right;\">                     33.9955  </td><td style=\"text-align: right;\">           201</td><td style=\"text-align: right;\">                           0</td><td style=\"text-align: right;\">24.4221  </td><td style=\"text-align: right;\"> 25.5673  </td><td style=\"text-align: right;\">  34.8661  </td><td style=\"text-align: right;\"> 0.405331 </td></tr>\n",
       "<tr><td>G               </td><td style=\"text-align: right;\">          0</td><td style=\"text-align: right;\">                      0.610447</td><td style=\"text-align: right;\">             4</td><td style=\"text-align: right;\">                           0</td><td style=\"text-align: right;\"> 0.270541</td><td style=\"text-align: right;\">  0.326411</td><td style=\"text-align: right;\">   0.830146</td><td style=\"text-align: right;\"> 0        </td></tr>\n",
       "<tr><td>U               </td><td style=\"text-align: right;\">         30</td><td style=\"text-align: right;\">                      0.863933</td><td style=\"text-align: right;\">            31</td><td style=\"text-align: right;\">                           1</td><td style=\"text-align: right;\"> 0.72371 </td><td style=\"text-align: right;\">  0.725164</td><td style=\"text-align: right;\">   0.830146</td><td style=\"text-align: right;\"> 0.0176532</td></tr>\n",
       "</tbody>\n",
       "</table>"
      ],
      "text/plain": [
       "<IPython.core.display.HTML object>"
      ]
     },
     "metadata": {},
     "output_type": "display_data"
    },
    {
     "data": {
      "text/html": [
       "<table>\n",
       "<thead>\n",
       "<tr><th style=\"text-align: right;\">  id</th><th style=\"text-align: right;\">  avg_fit_score</th><th style=\"text-align: right;\">  stddev_fit_score</th><th style=\"text-align: right;\">  avg_global_score</th><th style=\"text-align: right;\">  stddev_global_score</th><th style=\"text-align: right;\">  avg_amount_oracle</th><th style=\"text-align: right;\">  std_amount_oracle</th><th style=\"text-align: right;\">  count</th><th>param_list_id                   </th></tr>\n",
       "</thead>\n",
       "<tbody>\n",
       "<tr><td style=\"text-align: right;\">   0</td><td style=\"text-align: right;\">       0.818851</td><td style=\"text-align: right;\">         0.0325753</td><td style=\"text-align: right;\">          0.494396</td><td style=\"text-align: right;\">            0.0454813</td><td style=\"text-align: right;\">                204</td><td style=\"text-align: right;\">                  4</td><td style=\"text-align: right;\">      3</td><td>88ce114ed9d7bd1a991ddfeee0cfd3b2</td></tr>\n",
       "</tbody>\n",
       "</table>"
      ],
      "text/plain": [
       "<IPython.core.display.HTML object>"
      ]
     },
     "metadata": {},
     "output_type": "display_data"
    },
    {
     "data": {
      "text/html": [
       "<table>\n",
       "<thead>\n",
       "<tr><th>recommendation  </th><th style=\"text-align: right;\">  iteration</th><th style=\"text-align: right;\">  all_unlabeled_roc_auc_scores</th><th style=\"text-align: right;\">  query_length</th><th style=\"text-align: right;\">  query_strong_accuracy_list</th><th style=\"text-align: right;\">      f1</th><th style=\"text-align: right;\">  test_acc</th><th style=\"text-align: right;\">  fit_score</th><th style=\"text-align: right;\">   acc_diff</th></tr>\n",
       "</thead>\n",
       "<tbody>\n",
       "<tr><td>A               </td><td style=\"text-align: right;\">       1534</td><td style=\"text-align: right;\">                     39.2045  </td><td style=\"text-align: right;\">           202</td><td style=\"text-align: right;\">                           0</td><td style=\"text-align: right;\">30.15   </td><td style=\"text-align: right;\"> 30.7826  </td><td style=\"text-align: right;\">  39.9116  </td><td style=\"text-align: right;\"> 0.395639  </td></tr>\n",
       "<tr><td>C               </td><td style=\"text-align: right;\">        296</td><td style=\"text-align: right;\">                      9.38712 </td><td style=\"text-align: right;\">           154</td><td style=\"text-align: right;\">                          12</td><td style=\"text-align: right;\"> 6.3012 </td><td style=\"text-align: right;\">  6.71859 </td><td style=\"text-align: right;\">   9.9779  </td><td style=\"text-align: right;\">-0.00276912</td></tr>\n",
       "<tr><td>G               </td><td style=\"text-align: right;\">          0</td><td style=\"text-align: right;\">                      0.637278</td><td style=\"text-align: right;\">             4</td><td style=\"text-align: right;\">                           0</td><td style=\"text-align: right;\"> 0.33507</td><td style=\"text-align: right;\">  0.358948</td><td style=\"text-align: right;\">   0.831492</td><td style=\"text-align: right;\"> 0         </td></tr>\n",
       "</tbody>\n",
       "</table>"
      ],
      "text/plain": [
       "<IPython.core.display.HTML object>"
      ]
     },
     "metadata": {},
     "output_type": "display_data"
    }
   ],
   "source": [
    "def better_results_top(top_n, budget, weak_clust, weak_cert):\n",
    "    # select best result for budget of 1500 without WS\n",
    "    results = (\n",
    "        ExperimentResult.select(\n",
    "            ExperimentResult.param_list_id,\n",
    "            peewee.fn.AVG(ExperimentResult.fit_score).alias(\"avg_fit_score\"),\n",
    "            peewee.fn.STDDEV(ExperimentResult.fit_score).alias(\"stddev_fit_score\"),\n",
    "            peewee.fn.AVG(ExperimentResult.global_score_no_weak_acc).alias(\n",
    "                \"avg_global_score\"\n",
    "            ),\n",
    "            peewee.fn.STDDEV(ExperimentResult.global_score_no_weak_acc).alias(\n",
    "                \"stddev_global_score\"\n",
    "            ),\n",
    "            peewee.fn.AVG(ExperimentResult.amount_of_user_asked_queries).alias(\n",
    "                \"avg_amount_oracle\"\n",
    "            ),\n",
    "            peewee.fn.STDDEV(ExperimentResult.amount_of_user_asked_queries).alias(\n",
    "                \"std_amount_oracle\"\n",
    "            ),\n",
    "            peewee.fn.COUNT(ExperimentResult.param_list_id).alias(\"count\"),\n",
    "        )\n",
    "        .where(\n",
    "            (ExperimentResult.amount_of_user_asked_queries < budget)\n",
    "            & (ExperimentResult.dataset_name == \"dwtc\")\n",
    "            # & (ExperimentResult.experiment_run_date > (datetime(2020, 3, 24, 14, 0)))\n",
    "            # & (ExperimentResult.experiment_run_date > (datetime(2020, 5, 8, 9, 20)))\n",
    "            & (ExperimentResult.with_cluster_recommendation == weak_clust)\n",
    "            & (ExperimentResult.with_uncertainty_recommendation == weak_cert)\n",
    "            # & (peewee.fn.COUNT(ExperimentResult.id_field) == 3)\n",
    "            # no stopping criterias\n",
    "        )\n",
    "        .group_by(ExperimentResult.param_list_id)\n",
    "        .order_by(\n",
    "            peewee.fn.COUNT(ExperimentResult.id_field).desc(),\n",
    "            peewee.fn.AVG(ExperimentResult.acc_test).desc(),\n",
    "        )\n",
    "        .limit(1)\n",
    "        .offset(top_n)\n",
    "    )\n",
    "\n",
    "    table = []\n",
    "    id = 0\n",
    "    for result in results:\n",
    "        data = {**{\"id\": id}, **vars(result)}\n",
    "        data[\"param_list_id\"] = data[\"__data__\"][\"param_list_id\"]\n",
    "        del data[\"__data__\"]\n",
    "        del data[\"_dirty\"]\n",
    "        del data[\"__rel__\"]\n",
    "        table.append(data)\n",
    "        id += 1\n",
    "\n",
    "    display(HTML(tabulate(table, headers=\"keys\", tablefmt=\"html\")))\n",
    "\n",
    "    best_param_list_id = table[0][\"param_list_id\"]\n",
    "\n",
    "    results = (\n",
    "        ExperimentResult.select()\n",
    "        .where(ExperimentResult.param_list_id == best_param_list_id)\n",
    "        .order_by(ExperimentResult.dataset_name)\n",
    "    )\n",
    "\n",
    "    loaded_data[0] = []\n",
    "    for result in results:\n",
    "        loaded_data[0].append(result)\n",
    "\n",
    "    for result in loaded_data[0][:]:\n",
    "        metrics = loads(result.metrics_per_al_cycle)\n",
    "        test_data_metrics = [\n",
    "            metrics[\"test_data_metrics\"][0][f][0][\"weighted avg\"]\n",
    "            for f in range(0, len(metrics[\"test_data_metrics\"][0]))\n",
    "        ]\n",
    "        test_acc = [\n",
    "            metrics[\"test_data_metrics\"][0][f][0][\"accuracy\"]\n",
    "            for f in range(0, len(metrics[\"test_data_metrics\"][0]))\n",
    "        ]\n",
    "\n",
    "        data = pd.DataFrame(\n",
    "            {\n",
    "                \"iteration\": range(0, len(metrics[\"all_unlabeled_roc_auc_scores\"])),\n",
    "                \"all_unlabeled_roc_auc_scores\": metrics[\"all_unlabeled_roc_auc_scores\"],\n",
    "                \"query_length\": metrics[\"query_length\"],\n",
    "                \"recommendation\": metrics[\"recommendation\"],\n",
    "                \"query_strong_accuracy_list\": metrics[\"query_strong_accuracy_list\"],\n",
    "                \"f1\": [i[\"f1-score\"] for i in test_data_metrics],\n",
    "                \"test_acc\": test_acc,\n",
    "                \"fit_score\": result.fit_score,\n",
    "                #'asked_queries': [sum(metrics['query_length'][:i]) for i in range(0, len(metrics['query_length']))],\n",
    "            }\n",
    "        )\n",
    "        data[\"acc_diff\"] = data[\"test_acc\"] - data[\"test_acc\"].shift(1)\n",
    "    display(\n",
    "        HTML(\n",
    "            tabulate(\n",
    "                data.groupby([\"recommendation\"]).sum(), headers=\"keys\", tablefmt=\"html\"\n",
    "            )\n",
    "        )\n",
    "    )\n",
    "\n",
    "\n",
    "better_results_top(0, 211, False, False)\n",
    "better_results_top(0, 210, True, False)\n",
    "better_results_top(0, 210, False, True)\n",
    "for i in range(1, 10):\n",
    "    better_results_top(i, 210, True, True)\n",
    "# data"
   ]
  },
  {
   "cell_type": "code",
   "execution_count": 14,
   "metadata": {},
   "outputs": [
    {
     "data": {
      "text/html": [
       "<table>\n",
       "<thead>\n",
       "<tr><th style=\"text-align: right;\">  id</th><th style=\"text-align: right;\">  avg_fit_score</th><th style=\"text-align: right;\">  stddev_fit_score</th><th style=\"text-align: right;\">  avg_global_score</th><th style=\"text-align: right;\">  stddev_global_score</th><th style=\"text-align: right;\">  avg_amount_oracle</th><th style=\"text-align: right;\">  std_amount_oracle</th><th>param_list_id                   </th><th>classifier  </th><th style=\"text-align: right;\">  test_fraction</th><th>sampling              </th><th>cluster  </th><th style=\"text-align: right;\">  nr_queries_per_iteration</th><th>with_uncertainty_recommendation  </th><th>with_cluster_recommendation  </th><th style=\"text-align: right;\">  uncertainty_recommendation_certainty_threshold</th><th style=\"text-align: right;\">  uncertainty_recommendation_ratio</th><th style=\"text-align: right;\">  cluster_recommendation_minimum_cluster_unity_size</th><th style=\"text-align: right;\">  cluster_recommendation_ratio_labeled_unlabeled</th><th>allow_recommendations_after_stop  </th><th style=\"text-align: right;\">  stopping_criteria_uncertainty</th><th style=\"text-align: right;\">  stopping_criteria_acc</th><th style=\"text-align: right;\">  stopping_criteria_std</th><th>experiment_run_date       </th></tr>\n",
       "</thead>\n",
       "<tbody>\n",
       "<tr><td style=\"text-align: right;\">   0</td><td style=\"text-align: right;\">       0.861631</td><td style=\"text-align: right;\">        0.00119594</td><td style=\"text-align: right;\">          0.596649</td><td style=\"text-align: right;\">           0.0279822 </td><td style=\"text-align: right;\">                210</td><td style=\"text-align: right;\">                  0</td><td>62b5ef19bf4691f34e859e38ddb2959c</td><td>RF          </td><td style=\"text-align: right;\">            0.5</td><td>uncertainty_max_margin</td><td>dummy    </td><td style=\"text-align: right;\">                        10</td><td>True                             </td><td>True                         </td><td style=\"text-align: right;\">                                            0.98</td><td style=\"text-align: right;\">                            0.001 </td><td style=\"text-align: right;\">                                               0.2 </td><td style=\"text-align: right;\">                                            0.56</td><td>True                              </td><td style=\"text-align: right;\">                              1</td><td style=\"text-align: right;\">                      1</td><td style=\"text-align: right;\">                      1</td><td>2020-05-09 04:44:30.172306</td></tr>\n",
       "<tr><td style=\"text-align: right;\">   1</td><td style=\"text-align: right;\">       0.859461</td><td style=\"text-align: right;\">        0.00864649</td><td style=\"text-align: right;\">          0.608927</td><td style=\"text-align: right;\">           0.013461  </td><td style=\"text-align: right;\">                210</td><td style=\"text-align: right;\">                  0</td><td>2f01c0b870eb83f9c8b64eabdc5417e5</td><td>RF          </td><td style=\"text-align: right;\">            0.5</td><td>uncertainty_max_margin</td><td>dummy    </td><td style=\"text-align: right;\">                        10</td><td>True                             </td><td>True                         </td><td style=\"text-align: right;\">                                            0.86</td><td style=\"text-align: right;\">                            0.1   </td><td style=\"text-align: right;\">                                               0.64</td><td style=\"text-align: right;\">                                            0.98</td><td>True                              </td><td style=\"text-align: right;\">                              1</td><td style=\"text-align: right;\">                      1</td><td style=\"text-align: right;\">                      1</td><td>2020-05-20 13:58:24.438206</td></tr>\n",
       "<tr><td style=\"text-align: right;\">   2</td><td style=\"text-align: right;\">       0.858941</td><td style=\"text-align: right;\">        0.00760183</td><td style=\"text-align: right;\">          0.590603</td><td style=\"text-align: right;\">           0.0298582 </td><td style=\"text-align: right;\">                210</td><td style=\"text-align: right;\">                  0</td><td>be154cd3b0a333b827948b5bee83f638</td><td>RF          </td><td style=\"text-align: right;\">            0.5</td><td>uncertainty_max_margin</td><td>dummy    </td><td style=\"text-align: right;\">                        10</td><td>True                             </td><td>True                         </td><td style=\"text-align: right;\">                                            1   </td><td style=\"text-align: right;\">                            0.001 </td><td style=\"text-align: right;\">                                               0.21</td><td style=\"text-align: right;\">                                            0.22</td><td>True                              </td><td style=\"text-align: right;\">                              1</td><td style=\"text-align: right;\">                      1</td><td style=\"text-align: right;\">                      1</td><td>2020-05-16 07:42:25.241464</td></tr>\n",
       "<tr><td style=\"text-align: right;\">   3</td><td style=\"text-align: right;\">       0.858957</td><td style=\"text-align: right;\">        0.00580878</td><td style=\"text-align: right;\">          0.600657</td><td style=\"text-align: right;\">           0.0258215 </td><td style=\"text-align: right;\">                210</td><td style=\"text-align: right;\">                  0</td><td>42a70bc0a20874afffc8a5371c421124</td><td>RF          </td><td style=\"text-align: right;\">            0.5</td><td>uncertainty_max_margin</td><td>dummy    </td><td style=\"text-align: right;\">                        10</td><td>True                             </td><td>True                         </td><td style=\"text-align: right;\">                                            0.93</td><td style=\"text-align: right;\">                            0.0001</td><td style=\"text-align: right;\">                                               0.4 </td><td style=\"text-align: right;\">                                            0.18</td><td>True                              </td><td style=\"text-align: right;\">                              1</td><td style=\"text-align: right;\">                      1</td><td style=\"text-align: right;\">                      1</td><td>2020-05-16 17:26:15.992381</td></tr>\n",
       "<tr><td style=\"text-align: right;\">   4</td><td style=\"text-align: right;\">       0.857874</td><td style=\"text-align: right;\">        0.0077629 </td><td style=\"text-align: right;\">          0.596703</td><td style=\"text-align: right;\">           0.0126004 </td><td style=\"text-align: right;\">                210</td><td style=\"text-align: right;\">                  0</td><td>a58efa2b5890b3a5bee86275e927d9b5</td><td>RF          </td><td style=\"text-align: right;\">            0.5</td><td>uncertainty_max_margin</td><td>dummy    </td><td style=\"text-align: right;\">                        10</td><td>True                             </td><td>True                         </td><td style=\"text-align: right;\">                                            0.96</td><td style=\"text-align: right;\">                            0.1   </td><td style=\"text-align: right;\">                                               0.71</td><td style=\"text-align: right;\">                                            0.99</td><td>True                              </td><td style=\"text-align: right;\">                              1</td><td style=\"text-align: right;\">                      1</td><td style=\"text-align: right;\">                      1</td><td>2020-05-15 17:34:10.266797</td></tr>\n",
       "<tr><td style=\"text-align: right;\">   5</td><td style=\"text-align: right;\">       0.857369</td><td style=\"text-align: right;\">        0.00419185</td><td style=\"text-align: right;\">          0.575428</td><td style=\"text-align: right;\">           0.0117447 </td><td style=\"text-align: right;\">                210</td><td style=\"text-align: right;\">                  0</td><td>e67eff4bcc6716370d4241b85d20d5c3</td><td>RF          </td><td style=\"text-align: right;\">            0.5</td><td>uncertainty_max_margin</td><td>dummy    </td><td style=\"text-align: right;\">                        10</td><td>True                             </td><td>True                         </td><td style=\"text-align: right;\">                                            0.95</td><td style=\"text-align: right;\">                            0.1   </td><td style=\"text-align: right;\">                                               0.14</td><td style=\"text-align: right;\">                                            0.65</td><td>True                              </td><td style=\"text-align: right;\">                              1</td><td style=\"text-align: right;\">                      1</td><td style=\"text-align: right;\">                      1</td><td>2020-05-12 01:12:38.231594</td></tr>\n",
       "<tr><td style=\"text-align: right;\">   6</td><td style=\"text-align: right;\">       0.857296</td><td style=\"text-align: right;\">        0.0052047 </td><td style=\"text-align: right;\">          0.62314 </td><td style=\"text-align: right;\">           0.00116344</td><td style=\"text-align: right;\">                210</td><td style=\"text-align: right;\">                  0</td><td>97e848c66841f3fb94f3529009a36912</td><td>RF          </td><td style=\"text-align: right;\">            0.5</td><td>uncertainty_max_margin</td><td>dummy    </td><td style=\"text-align: right;\">                        10</td><td>True                             </td><td>True                         </td><td style=\"text-align: right;\">                                            0.9 </td><td style=\"text-align: right;\">                            0.0001</td><td style=\"text-align: right;\">                                               1   </td><td style=\"text-align: right;\">                                            0.73</td><td>True                              </td><td style=\"text-align: right;\">                              1</td><td style=\"text-align: right;\">                      1</td><td style=\"text-align: right;\">                      1</td><td>2020-05-14 04:51:25.890286</td></tr>\n",
       "<tr><td style=\"text-align: right;\">   7</td><td style=\"text-align: right;\">       0.856891</td><td style=\"text-align: right;\">        0.00575036</td><td style=\"text-align: right;\">          0.588673</td><td style=\"text-align: right;\">           0.0218088 </td><td style=\"text-align: right;\">                210</td><td style=\"text-align: right;\">                  0</td><td>a55fc1d63fdfd4bca913044f76f0f8a2</td><td>RF          </td><td style=\"text-align: right;\">            0.5</td><td>uncertainty_max_margin</td><td>dummy    </td><td style=\"text-align: right;\">                        10</td><td>True                             </td><td>True                         </td><td style=\"text-align: right;\">                                            0.94</td><td style=\"text-align: right;\">                            0.001 </td><td style=\"text-align: right;\">                                               0.67</td><td style=\"text-align: right;\">                                            0.3 </td><td>True                              </td><td style=\"text-align: right;\">                              1</td><td style=\"text-align: right;\">                      1</td><td style=\"text-align: right;\">                      1</td><td>2020-05-10 09:43:56.252972</td></tr>\n",
       "<tr><td style=\"text-align: right;\">   8</td><td style=\"text-align: right;\">       0.856638</td><td style=\"text-align: right;\">        0.00355836</td><td style=\"text-align: right;\">          0.591725</td><td style=\"text-align: right;\">           0.013761  </td><td style=\"text-align: right;\">                210</td><td style=\"text-align: right;\">                  0</td><td>c7c685d205a0299bf5cefe4b4b5942bd</td><td>RF          </td><td style=\"text-align: right;\">            0.5</td><td>uncertainty_max_margin</td><td>dummy    </td><td style=\"text-align: right;\">                        10</td><td>True                             </td><td>True                         </td><td style=\"text-align: right;\">                                            0.99</td><td style=\"text-align: right;\">                            0.01  </td><td style=\"text-align: right;\">                                               0.31</td><td style=\"text-align: right;\">                                            0.2 </td><td>True                              </td><td style=\"text-align: right;\">                              1</td><td style=\"text-align: right;\">                      1</td><td style=\"text-align: right;\">                      1</td><td>2020-05-17 18:15:12.416260</td></tr>\n",
       "<tr><td style=\"text-align: right;\">   9</td><td style=\"text-align: right;\">       0.856428</td><td style=\"text-align: right;\">        0.00516831</td><td style=\"text-align: right;\">          0.60176 </td><td style=\"text-align: right;\">           0.0158281 </td><td style=\"text-align: right;\">                210</td><td style=\"text-align: right;\">                  0</td><td>f93af4afa4714f4c3bffd21ab02b62c2</td><td>RF          </td><td style=\"text-align: right;\">            0.5</td><td>uncertainty_max_margin</td><td>dummy    </td><td style=\"text-align: right;\">                        10</td><td>True                             </td><td>True                         </td><td style=\"text-align: right;\">                                            0.64</td><td style=\"text-align: right;\">                            0.1   </td><td style=\"text-align: right;\">                                               0.58</td><td style=\"text-align: right;\">                                            0.81</td><td>True                              </td><td style=\"text-align: right;\">                              1</td><td style=\"text-align: right;\">                      1</td><td style=\"text-align: right;\">                      1</td><td>2020-05-12 20:53:16.707015</td></tr>\n",
       "<tr><td style=\"text-align: right;\">  10</td><td style=\"text-align: right;\">       0.856233</td><td style=\"text-align: right;\">        0.00421773</td><td style=\"text-align: right;\">          0.594809</td><td style=\"text-align: right;\">           0.00771345</td><td style=\"text-align: right;\">                210</td><td style=\"text-align: right;\">                  0</td><td>ca2ab1738e9ded96162a9a2354ab129f</td><td>RF          </td><td style=\"text-align: right;\">            0.5</td><td>uncertainty_max_margin</td><td>dummy    </td><td style=\"text-align: right;\">                        10</td><td>True                             </td><td>True                         </td><td style=\"text-align: right;\">                                            0.98</td><td style=\"text-align: right;\">                            0.1   </td><td style=\"text-align: right;\">                                               0.45</td><td style=\"text-align: right;\">                                            0.72</td><td>True                              </td><td style=\"text-align: right;\">                              1</td><td style=\"text-align: right;\">                      1</td><td style=\"text-align: right;\">                      1</td><td>2020-05-13 10:20:42.112782</td></tr>\n",
       "<tr><td style=\"text-align: right;\">  11</td><td style=\"text-align: right;\">       0.855741</td><td style=\"text-align: right;\">        0.00739908</td><td style=\"text-align: right;\">          0.59799 </td><td style=\"text-align: right;\">           0.0203456 </td><td style=\"text-align: right;\">                210</td><td style=\"text-align: right;\">                  0</td><td>20f2c437749615709ddc69657b95570b</td><td>RF          </td><td style=\"text-align: right;\">            0.5</td><td>uncertainty_max_margin</td><td>dummy    </td><td style=\"text-align: right;\">                        10</td><td>True                             </td><td>True                         </td><td style=\"text-align: right;\">                                            0.93</td><td style=\"text-align: right;\">                            0.001 </td><td style=\"text-align: right;\">                                               0.6 </td><td style=\"text-align: right;\">                                            0.42</td><td>True                              </td><td style=\"text-align: right;\">                              1</td><td style=\"text-align: right;\">                      1</td><td style=\"text-align: right;\">                      1</td><td>2020-05-13 06:37:35.482569</td></tr>\n",
       "<tr><td style=\"text-align: right;\">  12</td><td style=\"text-align: right;\">       0.855563</td><td style=\"text-align: right;\">        0.00442361</td><td style=\"text-align: right;\">          0.610998</td><td style=\"text-align: right;\">           0.0130138 </td><td style=\"text-align: right;\">                210</td><td style=\"text-align: right;\">                  0</td><td>6aa5c9797d089c3adef5b12fd6c53bfc</td><td>RF          </td><td style=\"text-align: right;\">            0.5</td><td>uncertainty_max_margin</td><td>dummy    </td><td style=\"text-align: right;\">                        10</td><td>True                             </td><td>True                         </td><td style=\"text-align: right;\">                                            0.93</td><td style=\"text-align: right;\">                            0.1   </td><td style=\"text-align: right;\">                                               0.35</td><td style=\"text-align: right;\">                                            0.35</td><td>True                              </td><td style=\"text-align: right;\">                              1</td><td style=\"text-align: right;\">                      1</td><td style=\"text-align: right;\">                      1</td><td>2020-05-16 07:39:51.997590</td></tr>\n",
       "<tr><td style=\"text-align: right;\">  13</td><td style=\"text-align: right;\">       0.855508</td><td style=\"text-align: right;\">        0.00111826</td><td style=\"text-align: right;\">          0.587458</td><td style=\"text-align: right;\">           0.0245545 </td><td style=\"text-align: right;\">                210</td><td style=\"text-align: right;\">                  0</td><td>2fb0c5ef4cbab48360c94b01c6e68464</td><td>RF          </td><td style=\"text-align: right;\">            0.5</td><td>uncertainty_max_margin</td><td>dummy    </td><td style=\"text-align: right;\">                        10</td><td>True                             </td><td>True                         </td><td style=\"text-align: right;\">                                            0.89</td><td style=\"text-align: right;\">                            0.1   </td><td style=\"text-align: right;\">                                               0.25</td><td style=\"text-align: right;\">                                            0.99</td><td>True                              </td><td style=\"text-align: right;\">                              1</td><td style=\"text-align: right;\">                      1</td><td style=\"text-align: right;\">                      1</td><td>2020-05-14 17:28:25.489643</td></tr>\n",
       "<tr><td style=\"text-align: right;\">  14</td><td style=\"text-align: right;\">       0.855437</td><td style=\"text-align: right;\">        0.00273227</td><td style=\"text-align: right;\">          0.581761</td><td style=\"text-align: right;\">           0.0440591 </td><td style=\"text-align: right;\">                210</td><td style=\"text-align: right;\">                  0</td><td>1160c3f11898ae35082fed163ff2bc88</td><td>RF          </td><td style=\"text-align: right;\">            0.5</td><td>uncertainty_max_margin</td><td>dummy    </td><td style=\"text-align: right;\">                        10</td><td>True                             </td><td>True                         </td><td style=\"text-align: right;\">                                            0.84</td><td style=\"text-align: right;\">                            0.01  </td><td style=\"text-align: right;\">                                               0.73</td><td style=\"text-align: right;\">                                            0.65</td><td>True                              </td><td style=\"text-align: right;\">                              1</td><td style=\"text-align: right;\">                      1</td><td style=\"text-align: right;\">                      1</td><td>2020-05-19 15:02:23.378089</td></tr>\n",
       "<tr><td style=\"text-align: right;\">  15</td><td style=\"text-align: right;\">       0.85501 </td><td style=\"text-align: right;\">        0.00675381</td><td style=\"text-align: right;\">          0.578465</td><td style=\"text-align: right;\">           0.0113152 </td><td style=\"text-align: right;\">                210</td><td style=\"text-align: right;\">                  0</td><td>9416800e1389ec910770b212661d57f7</td><td>RF          </td><td style=\"text-align: right;\">            0.5</td><td>uncertainty_max_margin</td><td>dummy    </td><td style=\"text-align: right;\">                        10</td><td>True                             </td><td>True                         </td><td style=\"text-align: right;\">                                            0.69</td><td style=\"text-align: right;\">                            0.01  </td><td style=\"text-align: right;\">                                               0.65</td><td style=\"text-align: right;\">                                            0.03</td><td>True                              </td><td style=\"text-align: right;\">                              1</td><td style=\"text-align: right;\">                      1</td><td style=\"text-align: right;\">                      1</td><td>2020-05-12 13:49:25.315156</td></tr>\n",
       "<tr><td style=\"text-align: right;\">  16</td><td style=\"text-align: right;\">       0.855009</td><td style=\"text-align: right;\">        0.00683699</td><td style=\"text-align: right;\">          0.593529</td><td style=\"text-align: right;\">           0.0285911 </td><td style=\"text-align: right;\">                210</td><td style=\"text-align: right;\">                  0</td><td>ad4712b0844b87be88427aea9b6423d6</td><td>RF          </td><td style=\"text-align: right;\">            0.5</td><td>uncertainty_max_margin</td><td>dummy    </td><td style=\"text-align: right;\">                        10</td><td>True                             </td><td>True                         </td><td style=\"text-align: right;\">                                            0.77</td><td style=\"text-align: right;\">                            0.1   </td><td style=\"text-align: right;\">                                               0.85</td><td style=\"text-align: right;\">                                            0.12</td><td>True                              </td><td style=\"text-align: right;\">                              1</td><td style=\"text-align: right;\">                      1</td><td style=\"text-align: right;\">                      1</td><td>2020-05-11 21:06:48.070051</td></tr>\n",
       "<tr><td style=\"text-align: right;\">  17</td><td style=\"text-align: right;\">       0.854899</td><td style=\"text-align: right;\">        0.00323271</td><td style=\"text-align: right;\">          0.602669</td><td style=\"text-align: right;\">           0.0214727 </td><td style=\"text-align: right;\">                210</td><td style=\"text-align: right;\">                  0</td><td>5f5504cadeb74dda5bb0154b628a7dfb</td><td>RF          </td><td style=\"text-align: right;\">            0.5</td><td>uncertainty_max_margin</td><td>dummy    </td><td style=\"text-align: right;\">                        10</td><td>True                             </td><td>True                         </td><td style=\"text-align: right;\">                                            0.82</td><td style=\"text-align: right;\">                            0.01  </td><td style=\"text-align: right;\">                                               0.42</td><td style=\"text-align: right;\">                                            0.58</td><td>True                              </td><td style=\"text-align: right;\">                              1</td><td style=\"text-align: right;\">                      1</td><td style=\"text-align: right;\">                      1</td><td>2020-05-08 16:20:16.332495</td></tr>\n",
       "<tr><td style=\"text-align: right;\">  18</td><td style=\"text-align: right;\">       0.854837</td><td style=\"text-align: right;\">        0.00171238</td><td style=\"text-align: right;\">          0.591987</td><td style=\"text-align: right;\">           0.0182975 </td><td style=\"text-align: right;\">                210</td><td style=\"text-align: right;\">                  0</td><td>77138a6a9d66188018de1e25dc6e5416</td><td>RF          </td><td style=\"text-align: right;\">            0.5</td><td>uncertainty_max_margin</td><td>dummy    </td><td style=\"text-align: right;\">                        10</td><td>True                             </td><td>True                         </td><td style=\"text-align: right;\">                                            0.45</td><td style=\"text-align: right;\">                            0.01  </td><td style=\"text-align: right;\">                                               0.13</td><td style=\"text-align: right;\">                                            0.84</td><td>True                              </td><td style=\"text-align: right;\">                              1</td><td style=\"text-align: right;\">                      1</td><td style=\"text-align: right;\">                      1</td><td>2020-05-11 10:04:30.310946</td></tr>\n",
       "<tr><td style=\"text-align: right;\">  19</td><td style=\"text-align: right;\">       0.854766</td><td style=\"text-align: right;\">        0.00298962</td><td style=\"text-align: right;\">          0.607195</td><td style=\"text-align: right;\">           0.0049284 </td><td style=\"text-align: right;\">                210</td><td style=\"text-align: right;\">                  0</td><td>da2b8bc86b62c6eb94cceb5aee66a4cb</td><td>RF          </td><td style=\"text-align: right;\">            0.5</td><td>uncertainty_max_margin</td><td>dummy    </td><td style=\"text-align: right;\">                        10</td><td>True                             </td><td>True                         </td><td style=\"text-align: right;\">                                            0.94</td><td style=\"text-align: right;\">                            0.0001</td><td style=\"text-align: right;\">                                               0.94</td><td style=\"text-align: right;\">                                            0.45</td><td>True                              </td><td style=\"text-align: right;\">                              1</td><td style=\"text-align: right;\">                      1</td><td style=\"text-align: right;\">                      1</td><td>2020-05-13 07:39:50.534774</td></tr>\n",
       "</tbody>\n",
       "</table>"
      ],
      "text/plain": [
       "<IPython.core.display.HTML object>"
      ]
     },
     "metadata": {},
     "output_type": "display_data"
    }
   ],
   "source": [
    "#  SELECT param_list_id, avg(fit_score), stddev(fit_score), avg(global_score), stddev(global_score), avg(start_set_size) as sss, count(*) FROM experimentresult WHERE start_set_size = 1 GROUP BY param_list_id ORDER BY 7 DESC, 4 DESC LIMIT 30;\n",
    "from datetime import datetime, timedelta\n",
    "\n",
    "# & (ExperimentResult.experiment_run_date > (datetime(2020, 3, 24, 14, 0))) # no stopping criterias\n",
    "#  & (ExperimentResult.experiment_run_date > (datetime(2020, 3, 30, 12, 23))) # optics\n",
    "\n",
    "\n",
    "results = (\n",
    "    ExperimentResult.select(\n",
    "        ExperimentResult.param_list_id,\n",
    "        peewee.fn.AVG(ExperimentResult.fit_score).alias(\"avg_fit_score\"),\n",
    "        peewee.fn.STDDEV(ExperimentResult.fit_score).alias(\"stddev_fit_score\"),\n",
    "        peewee.fn.AVG(ExperimentResult.global_score_no_weak_acc).alias(\n",
    "            \"avg_global_score\"\n",
    "        ),\n",
    "        peewee.fn.STDDEV(ExperimentResult.global_score_no_weak_acc).alias(\n",
    "            \"stddev_global_score\"\n",
    "        ),\n",
    "        peewee.fn.AVG(ExperimentResult.amount_of_user_asked_queries).alias(\n",
    "            \"avg_amount_oracle\"\n",
    "        ),\n",
    "        peewee.fn.STDDEV(ExperimentResult.amount_of_user_asked_queries).alias(\n",
    "            \"std_amount_oracle\"\n",
    "        ),\n",
    "        # peewee.fn.AVG(ExperimentResult.start_set_size).alias(\"sss\"),\n",
    "        # peewee.fn.COUNT(ExperimentResult.id_field).alias(\"count\"),\n",
    "    )\n",
    "    .where(\n",
    "        (ExperimentResult.amount_of_user_asked_queries < 211)\n",
    "        & (ExperimentResult.dataset_name == \"dwtc\")\n",
    "        # & (ExperimentResult.experiment_run_date > (datetime(2020, 3, 24, 14, 0)))\n",
    "        # & (ExperimentResult.experiment_run_date > (datetime(2020, 5, 8, 9, 20)))\n",
    "        & (ExperimentResult.with_cluster_recommendation == True)\n",
    "        & (ExperimentResult.with_uncertainty_recommendation == True)\n",
    "        # & (peewee.fn.COUNT(ExperimentResult.id_field) == 3)\n",
    "        # no stopping criterias\n",
    "    )\n",
    "    .group_by(ExperimentResult.param_list_id)\n",
    "    .order_by(\n",
    "        peewee.fn.COUNT(ExperimentResult.id_field).desc(),\n",
    "        peewee.fn.AVG(ExperimentResult.acc_test).desc(),\n",
    "    )\n",
    "    .limit(20)\n",
    ")\n",
    "\n",
    "table = []\n",
    "id = 0\n",
    "for result in results:\n",
    "    data = {**{\"id\": id}, **vars(result)}\n",
    "    data[\"param_list_id\"] = data[\"__data__\"][\"param_list_id\"]\n",
    "    del data[\"__data__\"]\n",
    "    del data[\"_dirty\"]\n",
    "    del data[\"__rel__\"]\n",
    "\n",
    "    # get one param_list_id\n",
    "\n",
    "    one_param_list_id_result = (\n",
    "        ExperimentResult.select(\n",
    "            ExperimentResult.classifier,\n",
    "            ExperimentResult.test_fraction,\n",
    "            ExperimentResult.sampling,\n",
    "            ExperimentResult.cluster,\n",
    "            ExperimentResult.nr_queries_per_iteration,\n",
    "            ExperimentResult.with_uncertainty_recommendation,\n",
    "            ExperimentResult.with_cluster_recommendation,\n",
    "            ExperimentResult.uncertainty_recommendation_certainty_threshold,\n",
    "            ExperimentResult.uncertainty_recommendation_ratio,\n",
    "            ExperimentResult.cluster_recommendation_minimum_cluster_unity_size,\n",
    "            ExperimentResult.cluster_recommendation_ratio_labeled_unlabeled,\n",
    "            ExperimentResult.allow_recommendations_after_stop,\n",
    "            ExperimentResult.stopping_criteria_uncertainty,\n",
    "            ExperimentResult.stopping_criteria_acc,\n",
    "            ExperimentResult.stopping_criteria_std,\n",
    "            ExperimentResult.experiment_run_date,\n",
    "        )\n",
    "        .where(ExperimentResult.param_list_id == data[\"param_list_id\"])\n",
    "        .limit(1)\n",
    "    )[0]\n",
    "\n",
    "    data = {**data, **vars(one_param_list_id_result)[\"__data__\"]}\n",
    "\n",
    "    table.append(data)\n",
    "    id += 1\n",
    "\n",
    "display(HTML(tabulate(table, headers=\"keys\", tablefmt=\"html\")))"
   ]
  },
  {
   "cell_type": "code",
   "execution_count": null,
   "metadata": {},
   "outputs": [],
   "source": []
  },
  {
   "cell_type": "code",
   "execution_count": null,
   "metadata": {},
   "outputs": [],
   "source": []
  },
  {
   "cell_type": "code",
   "execution_count": null,
   "metadata": {},
   "outputs": [],
   "source": []
  }
 ],
 "metadata": {
  "kernelspec": {
   "display_name": "Python 3",
   "language": "python",
   "name": "python3"
  },
  "language_info": {
   "codemirror_mode": {
    "name": "ipython",
    "version": 3
   },
   "file_extension": ".py",
   "mimetype": "text/x-python",
   "name": "python",
   "nbconvert_exporter": "python",
   "pygments_lexer": "ipython3",
   "version": "3.8.2"
  }
 },
 "nbformat": 4,
 "nbformat_minor": 4
}
